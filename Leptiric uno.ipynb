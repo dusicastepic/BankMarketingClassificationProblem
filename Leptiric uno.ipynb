{
 "cells": [
  {
   "cell_type": "markdown",
   "metadata": {},
   "source": [
    "## Učitati skup podataka "
   ]
  },
  {
   "cell_type": "code",
   "execution_count": 1,
   "metadata": {},
   "outputs": [],
   "source": [
    "import pandas as pd\n",
    "import numpy as np"
   ]
  },
  {
   "cell_type": "code",
   "execution_count": 2,
   "metadata": {},
   "outputs": [],
   "source": [
    "bank=pd.read_csv('C:\\\\Users\\\\Dusica\\\\Downloads\\\\Bank Marketing\\\\bank-additional.txt',sep=';')"
   ]
  },
  {
   "cell_type": "markdown",
   "metadata": {},
   "source": [
    "## Deskriptivna statistika skupa podataka "
   ]
  },
  {
   "cell_type": "code",
   "execution_count": 3,
   "metadata": {},
   "outputs": [
    {
     "data": {
      "text/plain": [
       "(4119, 21)"
      ]
     },
     "execution_count": 3,
     "metadata": {},
     "output_type": "execute_result"
    }
   ],
   "source": [
    "bank.shape\n"
   ]
  },
  {
   "cell_type": "code",
   "execution_count": 4,
   "metadata": {},
   "outputs": [
    {
     "data": {
      "text/html": [
       "<div>\n",
       "<style>\n",
       "    .dataframe thead tr:only-child th {\n",
       "        text-align: right;\n",
       "    }\n",
       "\n",
       "    .dataframe thead th {\n",
       "        text-align: left;\n",
       "    }\n",
       "\n",
       "    .dataframe tbody tr th {\n",
       "        vertical-align: top;\n",
       "    }\n",
       "</style>\n",
       "<table border=\"1\" class=\"dataframe\">\n",
       "  <thead>\n",
       "    <tr style=\"text-align: right;\">\n",
       "      <th></th>\n",
       "      <th>age</th>\n",
       "      <th>duration</th>\n",
       "      <th>campaign</th>\n",
       "      <th>pdays</th>\n",
       "      <th>previous</th>\n",
       "      <th>emp.var.rate</th>\n",
       "      <th>cons.price.idx</th>\n",
       "      <th>cons.conf.idx</th>\n",
       "      <th>euribor3m</th>\n",
       "    </tr>\n",
       "  </thead>\n",
       "  <tbody>\n",
       "    <tr>\n",
       "      <th>count</th>\n",
       "      <td>4119.000000</td>\n",
       "      <td>4116.000000</td>\n",
       "      <td>4114.000000</td>\n",
       "      <td>4119.000000</td>\n",
       "      <td>4117.000000</td>\n",
       "      <td>4116.000000</td>\n",
       "      <td>4117.000000</td>\n",
       "      <td>4117.000000</td>\n",
       "      <td>4117.000000</td>\n",
       "    </tr>\n",
       "    <tr>\n",
       "      <th>mean</th>\n",
       "      <td>40.113620</td>\n",
       "      <td>256.869048</td>\n",
       "      <td>2.534273</td>\n",
       "      <td>960.422190</td>\n",
       "      <td>0.190430</td>\n",
       "      <td>0.084694</td>\n",
       "      <td>93.579540</td>\n",
       "      <td>-40.486358</td>\n",
       "      <td>4.858993</td>\n",
       "    </tr>\n",
       "    <tr>\n",
       "      <th>std</th>\n",
       "      <td>10.313362</td>\n",
       "      <td>254.763913</td>\n",
       "      <td>2.566673</td>\n",
       "      <td>191.922786</td>\n",
       "      <td>0.541904</td>\n",
       "      <td>1.563361</td>\n",
       "      <td>0.579442</td>\n",
       "      <td>4.639840</td>\n",
       "      <td>79.432456</td>\n",
       "    </tr>\n",
       "    <tr>\n",
       "      <th>min</th>\n",
       "      <td>18.000000</td>\n",
       "      <td>0.000000</td>\n",
       "      <td>1.000000</td>\n",
       "      <td>0.000000</td>\n",
       "      <td>0.000000</td>\n",
       "      <td>-3.400000</td>\n",
       "      <td>92.201000</td>\n",
       "      <td>-50.800000</td>\n",
       "      <td>0.635000</td>\n",
       "    </tr>\n",
       "    <tr>\n",
       "      <th>25%</th>\n",
       "      <td>32.000000</td>\n",
       "      <td>103.000000</td>\n",
       "      <td>1.000000</td>\n",
       "      <td>999.000000</td>\n",
       "      <td>0.000000</td>\n",
       "      <td>-1.800000</td>\n",
       "      <td>93.075000</td>\n",
       "      <td>-42.700000</td>\n",
       "      <td>1.334000</td>\n",
       "    </tr>\n",
       "    <tr>\n",
       "      <th>50%</th>\n",
       "      <td>38.000000</td>\n",
       "      <td>181.000000</td>\n",
       "      <td>2.000000</td>\n",
       "      <td>999.000000</td>\n",
       "      <td>0.000000</td>\n",
       "      <td>1.100000</td>\n",
       "      <td>93.749000</td>\n",
       "      <td>-41.800000</td>\n",
       "      <td>4.857000</td>\n",
       "    </tr>\n",
       "    <tr>\n",
       "      <th>75%</th>\n",
       "      <td>47.000000</td>\n",
       "      <td>317.250000</td>\n",
       "      <td>3.000000</td>\n",
       "      <td>999.000000</td>\n",
       "      <td>0.000000</td>\n",
       "      <td>1.400000</td>\n",
       "      <td>93.994000</td>\n",
       "      <td>-36.400000</td>\n",
       "      <td>4.961000</td>\n",
       "    </tr>\n",
       "    <tr>\n",
       "      <th>max</th>\n",
       "      <td>88.000000</td>\n",
       "      <td>3643.000000</td>\n",
       "      <td>35.000000</td>\n",
       "      <td>999.000000</td>\n",
       "      <td>6.000000</td>\n",
       "      <td>1.400000</td>\n",
       "      <td>94.767000</td>\n",
       "      <td>1.266000</td>\n",
       "      <td>5099.100000</td>\n",
       "    </tr>\n",
       "  </tbody>\n",
       "</table>\n",
       "</div>"
      ],
      "text/plain": [
       "               age     duration     campaign        pdays     previous  \\\n",
       "count  4119.000000  4116.000000  4114.000000  4119.000000  4117.000000   \n",
       "mean     40.113620   256.869048     2.534273   960.422190     0.190430   \n",
       "std      10.313362   254.763913     2.566673   191.922786     0.541904   \n",
       "min      18.000000     0.000000     1.000000     0.000000     0.000000   \n",
       "25%      32.000000   103.000000     1.000000   999.000000     0.000000   \n",
       "50%      38.000000   181.000000     2.000000   999.000000     0.000000   \n",
       "75%      47.000000   317.250000     3.000000   999.000000     0.000000   \n",
       "max      88.000000  3643.000000    35.000000   999.000000     6.000000   \n",
       "\n",
       "       emp.var.rate  cons.price.idx  cons.conf.idx    euribor3m  \n",
       "count   4116.000000     4117.000000    4117.000000  4117.000000  \n",
       "mean       0.084694       93.579540     -40.486358     4.858993  \n",
       "std        1.563361        0.579442       4.639840    79.432456  \n",
       "min       -3.400000       92.201000     -50.800000     0.635000  \n",
       "25%       -1.800000       93.075000     -42.700000     1.334000  \n",
       "50%        1.100000       93.749000     -41.800000     4.857000  \n",
       "75%        1.400000       93.994000     -36.400000     4.961000  \n",
       "max        1.400000       94.767000       1.266000  5099.100000  "
      ]
     },
     "execution_count": 4,
     "metadata": {},
     "output_type": "execute_result"
    }
   ],
   "source": [
    "bank.describe()"
   ]
  },
  {
   "cell_type": "code",
   "execution_count": 5,
   "metadata": {},
   "outputs": [
    {
     "data": {
      "text/plain": [
       "age               4119\n",
       "job               4119\n",
       "marital           4119\n",
       "education         4119\n",
       "default           4119\n",
       "housing           4119\n",
       "loan              4119\n",
       "contact           4119\n",
       "month             4119\n",
       "day_of_week       4119\n",
       "duration          4116\n",
       "campaign          4114\n",
       "pdays             4119\n",
       "previous          4117\n",
       "poutcome          4119\n",
       "emp.var.rate      4116\n",
       "cons.price.idx    4117\n",
       "cons.conf.idx     4117\n",
       "euribor3m         4117\n",
       "nr.employed       4118\n",
       "y                 4118\n",
       "dtype: int64"
      ]
     },
     "execution_count": 5,
     "metadata": {},
     "output_type": "execute_result"
    }
   ],
   "source": [
    "bank.count()"
   ]
  },
  {
   "cell_type": "code",
   "execution_count": 6,
   "metadata": {},
   "outputs": [
    {
     "data": {
      "text/html": [
       "<div>\n",
       "<style>\n",
       "    .dataframe thead tr:only-child th {\n",
       "        text-align: right;\n",
       "    }\n",
       "\n",
       "    .dataframe thead th {\n",
       "        text-align: left;\n",
       "    }\n",
       "\n",
       "    .dataframe tbody tr th {\n",
       "        vertical-align: top;\n",
       "    }\n",
       "</style>\n",
       "<table border=\"1\" class=\"dataframe\">\n",
       "  <thead>\n",
       "    <tr style=\"text-align: right;\">\n",
       "      <th></th>\n",
       "      <th>0</th>\n",
       "      <th>1</th>\n",
       "    </tr>\n",
       "  </thead>\n",
       "  <tbody>\n",
       "    <tr>\n",
       "      <th>age</th>\n",
       "      <td>int64</td>\n",
       "      <td>0</td>\n",
       "    </tr>\n",
       "    <tr>\n",
       "      <th>job</th>\n",
       "      <td>object</td>\n",
       "      <td>0</td>\n",
       "    </tr>\n",
       "    <tr>\n",
       "      <th>marital</th>\n",
       "      <td>object</td>\n",
       "      <td>0</td>\n",
       "    </tr>\n",
       "    <tr>\n",
       "      <th>education</th>\n",
       "      <td>object</td>\n",
       "      <td>0</td>\n",
       "    </tr>\n",
       "    <tr>\n",
       "      <th>default</th>\n",
       "      <td>object</td>\n",
       "      <td>0</td>\n",
       "    </tr>\n",
       "    <tr>\n",
       "      <th>housing</th>\n",
       "      <td>object</td>\n",
       "      <td>0</td>\n",
       "    </tr>\n",
       "    <tr>\n",
       "      <th>loan</th>\n",
       "      <td>object</td>\n",
       "      <td>0</td>\n",
       "    </tr>\n",
       "    <tr>\n",
       "      <th>contact</th>\n",
       "      <td>object</td>\n",
       "      <td>0</td>\n",
       "    </tr>\n",
       "    <tr>\n",
       "      <th>month</th>\n",
       "      <td>object</td>\n",
       "      <td>0</td>\n",
       "    </tr>\n",
       "    <tr>\n",
       "      <th>day_of_week</th>\n",
       "      <td>object</td>\n",
       "      <td>0</td>\n",
       "    </tr>\n",
       "    <tr>\n",
       "      <th>duration</th>\n",
       "      <td>float64</td>\n",
       "      <td>3</td>\n",
       "    </tr>\n",
       "    <tr>\n",
       "      <th>campaign</th>\n",
       "      <td>float64</td>\n",
       "      <td>5</td>\n",
       "    </tr>\n",
       "    <tr>\n",
       "      <th>pdays</th>\n",
       "      <td>int64</td>\n",
       "      <td>0</td>\n",
       "    </tr>\n",
       "    <tr>\n",
       "      <th>previous</th>\n",
       "      <td>float64</td>\n",
       "      <td>2</td>\n",
       "    </tr>\n",
       "    <tr>\n",
       "      <th>poutcome</th>\n",
       "      <td>object</td>\n",
       "      <td>0</td>\n",
       "    </tr>\n",
       "    <tr>\n",
       "      <th>emp.var.rate</th>\n",
       "      <td>float64</td>\n",
       "      <td>3</td>\n",
       "    </tr>\n",
       "    <tr>\n",
       "      <th>cons.price.idx</th>\n",
       "      <td>float64</td>\n",
       "      <td>2</td>\n",
       "    </tr>\n",
       "    <tr>\n",
       "      <th>cons.conf.idx</th>\n",
       "      <td>float64</td>\n",
       "      <td>2</td>\n",
       "    </tr>\n",
       "    <tr>\n",
       "      <th>euribor3m</th>\n",
       "      <td>float64</td>\n",
       "      <td>2</td>\n",
       "    </tr>\n",
       "    <tr>\n",
       "      <th>nr.employed</th>\n",
       "      <td>object</td>\n",
       "      <td>1</td>\n",
       "    </tr>\n",
       "    <tr>\n",
       "      <th>y</th>\n",
       "      <td>object</td>\n",
       "      <td>1</td>\n",
       "    </tr>\n",
       "  </tbody>\n",
       "</table>\n",
       "</div>"
      ],
      "text/plain": [
       "                      0  1\n",
       "age               int64  0\n",
       "job              object  0\n",
       "marital          object  0\n",
       "education        object  0\n",
       "default          object  0\n",
       "housing          object  0\n",
       "loan             object  0\n",
       "contact          object  0\n",
       "month            object  0\n",
       "day_of_week      object  0\n",
       "duration        float64  3\n",
       "campaign        float64  5\n",
       "pdays             int64  0\n",
       "previous        float64  2\n",
       "poutcome         object  0\n",
       "emp.var.rate    float64  3\n",
       "cons.price.idx  float64  2\n",
       "cons.conf.idx   float64  2\n",
       "euribor3m       float64  2\n",
       "nr.employed      object  1\n",
       "y                object  1"
      ]
     },
     "execution_count": 6,
     "metadata": {},
     "output_type": "execute_result"
    }
   ],
   "source": [
    "pd.concat([bank.dtypes,bank.isnull().sum()],axis=1)"
   ]
  },
  {
   "cell_type": "markdown",
   "metadata": {},
   "source": [
    "## Priprema skupa podataka\n",
    "(tako da bude pogodan za prediktivno modelovanje)"
   ]
  },
  {
   "cell_type": "markdown",
   "metadata": {},
   "source": [
    "Input(duration) should only be included for benchmark purposes and should be discarded if the intention is to have a realistic predictive model."
   ]
  },
  {
   "cell_type": "code",
   "execution_count": 7,
   "metadata": {},
   "outputs": [],
   "source": [
    "bank.drop(['duration'],axis=1,inplace=True)"
   ]
  },
  {
   "cell_type": "markdown",
   "metadata": {},
   "source": [
    "### *Resavanje null vrednosti*"
   ]
  },
  {
   "cell_type": "raw",
   "metadata": {},
   "source": [
    "*Resavanje null vrednosti* za\n",
    "y\tobject\t1 "
   ]
  },
  {
   "cell_type": "code",
   "execution_count": 8,
   "metadata": {},
   "outputs": [],
   "source": [
    "bank.dropna(subset=['y'],inplace=True)"
   ]
  },
  {
   "cell_type": "code",
   "execution_count": 9,
   "metadata": {},
   "outputs": [],
   "source": [
    "#set(bank['nr.employed'])"
   ]
  },
  {
   "cell_type": "raw",
   "metadata": {},
   "source": [
    "*Resavanje null vrednosti* za\n",
    "cons.price.idx\tfloat64\t2\n",
    "previous\tfloat64\t2\n"
   ]
  },
  {
   "cell_type": "code",
   "execution_count": 10,
   "metadata": {},
   "outputs": [
    {
     "data": {
      "text/html": [
       "<div>\n",
       "<style>\n",
       "    .dataframe thead tr:only-child th {\n",
       "        text-align: right;\n",
       "    }\n",
       "\n",
       "    .dataframe thead th {\n",
       "        text-align: left;\n",
       "    }\n",
       "\n",
       "    .dataframe tbody tr th {\n",
       "        vertical-align: top;\n",
       "    }\n",
       "</style>\n",
       "<table border=\"1\" class=\"dataframe\">\n",
       "  <thead>\n",
       "    <tr style=\"text-align: right;\">\n",
       "      <th></th>\n",
       "      <th>cons.price.idx</th>\n",
       "      <th>previous</th>\n",
       "    </tr>\n",
       "  </thead>\n",
       "  <tbody>\n",
       "    <tr>\n",
       "      <th>count</th>\n",
       "      <td>4116.000000</td>\n",
       "      <td>4116.000000</td>\n",
       "    </tr>\n",
       "    <tr>\n",
       "      <th>mean</th>\n",
       "      <td>93.579707</td>\n",
       "      <td>0.190476</td>\n",
       "    </tr>\n",
       "    <tr>\n",
       "      <th>std</th>\n",
       "      <td>0.579413</td>\n",
       "      <td>0.541961</td>\n",
       "    </tr>\n",
       "    <tr>\n",
       "      <th>min</th>\n",
       "      <td>92.201000</td>\n",
       "      <td>0.000000</td>\n",
       "    </tr>\n",
       "    <tr>\n",
       "      <th>25%</th>\n",
       "      <td>93.075000</td>\n",
       "      <td>0.000000</td>\n",
       "    </tr>\n",
       "    <tr>\n",
       "      <th>50%</th>\n",
       "      <td>93.749000</td>\n",
       "      <td>0.000000</td>\n",
       "    </tr>\n",
       "    <tr>\n",
       "      <th>75%</th>\n",
       "      <td>93.994000</td>\n",
       "      <td>0.000000</td>\n",
       "    </tr>\n",
       "    <tr>\n",
       "      <th>max</th>\n",
       "      <td>94.767000</td>\n",
       "      <td>6.000000</td>\n",
       "    </tr>\n",
       "  </tbody>\n",
       "</table>\n",
       "</div>"
      ],
      "text/plain": [
       "       cons.price.idx     previous\n",
       "count     4116.000000  4116.000000\n",
       "mean        93.579707     0.190476\n",
       "std          0.579413     0.541961\n",
       "min         92.201000     0.000000\n",
       "25%         93.075000     0.000000\n",
       "50%         93.749000     0.000000\n",
       "75%         93.994000     0.000000\n",
       "max         94.767000     6.000000"
      ]
     },
     "execution_count": 10,
     "metadata": {},
     "output_type": "execute_result"
    }
   ],
   "source": [
    "pd.concat([bank['cons.price.idx'].describe(),bank['previous'].describe()],axis=1)\n",
    "\n",
    "#moze mean jer std ima malu vrednost"
   ]
  },
  {
   "cell_type": "code",
   "execution_count": 11,
   "metadata": {},
   "outputs": [],
   "source": [
    "mean_cons_price_idx=bank['cons.price.idx'].dropna().mean()\n",
    "#mean_cons_price_idx=np.average(bank['cons.price.idx'].dropna())"
   ]
  },
  {
   "cell_type": "code",
   "execution_count": 12,
   "metadata": {},
   "outputs": [],
   "source": [
    "mean_previous=bank['previous'].dropna().mean()\n"
   ]
  },
  {
   "cell_type": "code",
   "execution_count": 13,
   "metadata": {},
   "outputs": [],
   "source": [
    "bank['cons.price.idx'].replace(np.nan,mean_cons_price_idx,inplace=True)"
   ]
  },
  {
   "cell_type": "code",
   "execution_count": 14,
   "metadata": {},
   "outputs": [],
   "source": [
    "bank['previous'].replace(np.nan,mean_previous,inplace=True)"
   ]
  },
  {
   "cell_type": "raw",
   "metadata": {},
   "source": [
    "Nr.employed is a number\n",
    "nr.employed\tobject\t1"
   ]
  },
  {
   "cell_type": "raw",
   "metadata": {},
   "source": [
    "#set(bank['nr.employed'].astype(\"float32\")) "
   ]
  },
  {
   "cell_type": "code",
   "execution_count": 15,
   "metadata": {},
   "outputs": [],
   "source": [
    "bank['nr.employed']=pd.to_numeric(bank['nr.employed'],downcast='float')"
   ]
  },
  {
   "cell_type": "code",
   "execution_count": 16,
   "metadata": {},
   "outputs": [],
   "source": [
    "bank['nr.employed'].fillna(value=bank['nr.employed'].dropna().mean(),inplace=True)"
   ]
  },
  {
   "cell_type": "code",
   "execution_count": 17,
   "metadata": {},
   "outputs": [
    {
     "data": {
      "text/plain": [
       "count    4118.000000\n",
       "mean     5166.518555\n",
       "std        73.662903\n",
       "min      4963.600098\n",
       "25%      5099.100098\n",
       "50%      5191.000000\n",
       "75%      5228.100098\n",
       "max      5228.100098\n",
       "Name: nr.employed, dtype: float64"
      ]
     },
     "execution_count": 17,
     "metadata": {},
     "output_type": "execute_result"
    }
   ],
   "source": [
    "bank['nr.employed'].describe()"
   ]
  },
  {
   "cell_type": "markdown",
   "metadata": {},
   "source": [
    "campaign\tfloat64\t5\n",
    "emp.var.rate\tfloat64\t3\n",
    "cons.conf.idx\tfloat64\t2\n",
    "euribor3m\tfloat64\t2"
   ]
  },
  {
   "cell_type": "code",
   "execution_count": 18,
   "metadata": {},
   "outputs": [
    {
     "data": {
      "text/html": [
       "<div>\n",
       "<style>\n",
       "    .dataframe thead tr:only-child th {\n",
       "        text-align: right;\n",
       "    }\n",
       "\n",
       "    .dataframe thead th {\n",
       "        text-align: left;\n",
       "    }\n",
       "\n",
       "    .dataframe tbody tr th {\n",
       "        vertical-align: top;\n",
       "    }\n",
       "</style>\n",
       "<table border=\"1\" class=\"dataframe\">\n",
       "  <thead>\n",
       "    <tr style=\"text-align: right;\">\n",
       "      <th></th>\n",
       "      <th>campaign</th>\n",
       "      <th>emp.var.rate</th>\n",
       "      <th>cons.conf.idx</th>\n",
       "      <th>euribor3m</th>\n",
       "    </tr>\n",
       "  </thead>\n",
       "  <tbody>\n",
       "    <tr>\n",
       "      <th>count</th>\n",
       "      <td>4113.000000</td>\n",
       "      <td>4115.000000</td>\n",
       "      <td>4116.000000</td>\n",
       "      <td>4116.000000</td>\n",
       "    </tr>\n",
       "    <tr>\n",
       "      <th>mean</th>\n",
       "      <td>2.533917</td>\n",
       "      <td>0.085152</td>\n",
       "      <td>-40.496501</td>\n",
       "      <td>3.621325</td>\n",
       "    </tr>\n",
       "    <tr>\n",
       "      <th>std</th>\n",
       "      <td>2.566883</td>\n",
       "      <td>1.563274</td>\n",
       "      <td>4.594520</td>\n",
       "      <td>1.733618</td>\n",
       "    </tr>\n",
       "    <tr>\n",
       "      <th>min</th>\n",
       "      <td>1.000000</td>\n",
       "      <td>-3.400000</td>\n",
       "      <td>-50.800000</td>\n",
       "      <td>0.635000</td>\n",
       "    </tr>\n",
       "    <tr>\n",
       "      <th>25%</th>\n",
       "      <td>1.000000</td>\n",
       "      <td>-1.800000</td>\n",
       "      <td>-42.700000</td>\n",
       "      <td>1.334000</td>\n",
       "    </tr>\n",
       "    <tr>\n",
       "      <th>50%</th>\n",
       "      <td>2.000000</td>\n",
       "      <td>1.100000</td>\n",
       "      <td>-41.800000</td>\n",
       "      <td>4.857000</td>\n",
       "    </tr>\n",
       "    <tr>\n",
       "      <th>75%</th>\n",
       "      <td>3.000000</td>\n",
       "      <td>1.400000</td>\n",
       "      <td>-36.400000</td>\n",
       "      <td>4.961000</td>\n",
       "    </tr>\n",
       "    <tr>\n",
       "      <th>max</th>\n",
       "      <td>35.000000</td>\n",
       "      <td>1.400000</td>\n",
       "      <td>-26.900000</td>\n",
       "      <td>5.045000</td>\n",
       "    </tr>\n",
       "  </tbody>\n",
       "</table>\n",
       "</div>"
      ],
      "text/plain": [
       "          campaign  emp.var.rate  cons.conf.idx    euribor3m\n",
       "count  4113.000000   4115.000000    4116.000000  4116.000000\n",
       "mean      2.533917      0.085152     -40.496501     3.621325\n",
       "std       2.566883      1.563274       4.594520     1.733618\n",
       "min       1.000000     -3.400000     -50.800000     0.635000\n",
       "25%       1.000000     -1.800000     -42.700000     1.334000\n",
       "50%       2.000000      1.100000     -41.800000     4.857000\n",
       "75%       3.000000      1.400000     -36.400000     4.961000\n",
       "max      35.000000      1.400000     -26.900000     5.045000"
      ]
     },
     "execution_count": 18,
     "metadata": {},
     "output_type": "execute_result"
    }
   ],
   "source": [
    "pd.concat([bank['campaign'].describe(),bank['emp.var.rate'].describe(),bank['cons.conf.idx'].describe(),bank['euribor3m'].describe()],axis=1)"
   ]
  },
  {
   "cell_type": "code",
   "execution_count": 19,
   "metadata": {},
   "outputs": [],
   "source": [
    "bank['campaign'].replace(np.nan,bank['campaign'].dropna().mean(),inplace=True)"
   ]
  },
  {
   "cell_type": "code",
   "execution_count": 20,
   "metadata": {},
   "outputs": [],
   "source": [
    "bank['emp.var.rate'].replace(np.nan,bank['emp.var.rate'].dropna().mean(),inplace=True)"
   ]
  },
  {
   "cell_type": "code",
   "execution_count": 21,
   "metadata": {},
   "outputs": [],
   "source": [
    "bank['cons.conf.idx'].replace(np.nan,bank['cons.conf.idx'].dropna().mean(),inplace=True)"
   ]
  },
  {
   "cell_type": "code",
   "execution_count": 22,
   "metadata": {},
   "outputs": [],
   "source": [
    "bank['euribor3m'].replace(np.nan,bank['euribor3m'].dropna().mean(),inplace=True)"
   ]
  },
  {
   "cell_type": "markdown",
   "metadata": {},
   "source": [
    "eliminate categorical variables from sample"
   ]
  },
  {
   "cell_type": "code",
   "execution_count": 23,
   "metadata": {},
   "outputs": [],
   "source": [
    "bank_without_cat=bank.select_dtypes(exclude=['object'])"
   ]
  },
  {
   "cell_type": "markdown",
   "metadata": {},
   "source": [
    "## Podela skupa podataka na trening i test u odnosu 70:30"
   ]
  },
  {
   "cell_type": "code",
   "execution_count": 24,
   "metadata": {},
   "outputs": [],
   "source": [
    "def split_train_test(bank, test_percentage, shuffle=True):\n",
    "    df=bank.sample(frac=1)\n",
    "    n=len(df)\n",
    "    split=int(np.floor(n*test_percentage))\n",
    "    test= df.iloc[:split,:]\n",
    "    train=df.iloc[split:,:]\n",
    "    return (train, test)"
   ]
  },
  {
   "cell_type": "code",
   "execution_count": 25,
   "metadata": {},
   "outputs": [],
   "source": [
    "train,test=split_train_test(bank,0.3)\n"
   ]
  },
  {
   "cell_type": "code",
   "execution_count": 26,
   "metadata": {},
   "outputs": [
    {
     "data": {
      "text/plain": [
       "(2883, 20)"
      ]
     },
     "execution_count": 26,
     "metadata": {},
     "output_type": "execute_result"
    }
   ],
   "source": [
    "train.shape"
   ]
  },
  {
   "cell_type": "code",
   "execution_count": 27,
   "metadata": {},
   "outputs": [
    {
     "data": {
      "text/plain": [
       "(1235, 20)"
      ]
     },
     "execution_count": 27,
     "metadata": {},
     "output_type": "execute_result"
    }
   ],
   "source": [
    "test.shape"
   ]
  },
  {
   "cell_type": "code",
   "execution_count": 28,
   "metadata": {},
   "outputs": [],
   "source": [
    "y_train=train['y']\n",
    "#y_train=train.loc[:,'y']"
   ]
  },
  {
   "cell_type": "code",
   "execution_count": 29,
   "metadata": {},
   "outputs": [
    {
     "data": {
      "text/plain": [
       "(2883,)"
      ]
     },
     "execution_count": 29,
     "metadata": {},
     "output_type": "execute_result"
    }
   ],
   "source": [
    "y_train.shape"
   ]
  },
  {
   "cell_type": "code",
   "execution_count": 30,
   "metadata": {},
   "outputs": [],
   "source": [
    "x_train=train.drop('y',axis=1).select_dtypes(exclude=['object'])"
   ]
  },
  {
   "cell_type": "code",
   "execution_count": 31,
   "metadata": {},
   "outputs": [
    {
     "data": {
      "text/plain": [
       "(2883, 9)"
      ]
     },
     "execution_count": 31,
     "metadata": {},
     "output_type": "execute_result"
    }
   ],
   "source": [
    "x_train.shape"
   ]
  },
  {
   "cell_type": "code",
   "execution_count": 32,
   "metadata": {},
   "outputs": [],
   "source": [
    "x_test=test.drop('y',axis=1).select_dtypes(exclude=['object'])"
   ]
  },
  {
   "cell_type": "code",
   "execution_count": 33,
   "metadata": {},
   "outputs": [],
   "source": [
    "y_test=test['y']"
   ]
  },
  {
   "cell_type": "markdown",
   "metadata": {},
   "source": [
    "Kreirati minimalno 2 prediktivna modela (sa default parametrima) i oceniti gresku na test setu (minimum 2 mere evaluacije)"
   ]
  },
  {
   "cell_type": "code",
   "execution_count": 34,
   "metadata": {},
   "outputs": [],
   "source": [
    "#x_train.day_of_week.unique()"
   ]
  },
  {
   "cell_type": "code",
   "execution_count": 35,
   "metadata": {},
   "outputs": [],
   "source": [
    "from sklearn.linear_model import LogisticRegression"
   ]
  },
  {
   "cell_type": "code",
   "execution_count": 36,
   "metadata": {},
   "outputs": [],
   "source": [
    "lr=LogisticRegression()"
   ]
  },
  {
   "cell_type": "code",
   "execution_count": 37,
   "metadata": {},
   "outputs": [],
   "source": [
    "modelLR=lr.fit(x_train,y_train)"
   ]
  },
  {
   "cell_type": "code",
   "execution_count": 38,
   "metadata": {},
   "outputs": [],
   "source": [
    "predictionsLR=modelLR.predict(x_test)"
   ]
  },
  {
   "cell_type": "code",
   "execution_count": 39,
   "metadata": {},
   "outputs": [
    {
     "data": {
      "text/plain": [
       "array(['no', 'no', 'no', ..., 'no', 'no', 'no'], dtype=object)"
      ]
     },
     "execution_count": 39,
     "metadata": {},
     "output_type": "execute_result"
    }
   ],
   "source": [
    "predictionsLR"
   ]
  },
  {
   "cell_type": "code",
   "execution_count": 42,
   "metadata": {},
   "outputs": [
    {
     "name": "stdout",
     "output_type": "stream",
     "text": [
      "<class 'numpy.ndarray'>\n",
      "<class 'pandas.core.series.Series'>\n"
     ]
    }
   ],
   "source": [
    "print(type(predictionsLR))\n",
    "print(type(y_test))"
   ]
  },
  {
   "cell_type": "code",
   "execution_count": 43,
   "metadata": {},
   "outputs": [],
   "source": [
    "y_real=np.array(y_test)"
   ]
  },
  {
   "cell_type": "code",
   "execution_count": 44,
   "metadata": {},
   "outputs": [],
   "source": [
    "y_real_train=np.array(y_train)"
   ]
  },
  {
   "cell_type": "code",
   "execution_count": 45,
   "metadata": {},
   "outputs": [
    {
     "data": {
      "text/plain": [
       "array(['no', 'no', 'no', ..., 'no', 'no', 'no'], dtype=object)"
      ]
     },
     "execution_count": 45,
     "metadata": {},
     "output_type": "execute_result"
    }
   ],
   "source": [
    "y_real"
   ]
  },
  {
   "cell_type": "code",
   "execution_count": 46,
   "metadata": {},
   "outputs": [],
   "source": [
    "predictionsLR=modelLR.predict(x_test)\n"
   ]
  },
  {
   "cell_type": "code",
   "execution_count": 47,
   "metadata": {},
   "outputs": [],
   "source": [
    "predict_train=modelLR.predict(x_train)\n"
   ]
  },
  {
   "cell_type": "code",
   "execution_count": 48,
   "metadata": {},
   "outputs": [],
   "source": [
    "true_predicted=np.column_stack((y_real, predictionsLR))\n"
   ]
  },
  {
   "cell_type": "code",
   "execution_count": 49,
   "metadata": {},
   "outputs": [],
   "source": [
    "prediction_probs=modelLR.predict_proba(x_test)"
   ]
  },
  {
   "cell_type": "code",
   "execution_count": 50,
   "metadata": {},
   "outputs": [
    {
     "data": {
      "text/plain": [
       "(1235, 2)"
      ]
     },
     "execution_count": 50,
     "metadata": {},
     "output_type": "execute_result"
    }
   ],
   "source": [
    "true_predicted.shape"
   ]
  },
  {
   "cell_type": "code",
   "execution_count": 51,
   "metadata": {},
   "outputs": [],
   "source": [
    "from sklearn.metrics import accuracy_score\n",
    "from sklearn.metrics import confusion_matrix\n",
    "from sklearn.metrics import precision_score\n",
    "from sklearn.metrics import recall_score"
   ]
  },
  {
   "cell_type": "code",
   "execution_count": 52,
   "metadata": {},
   "outputs": [
    {
     "data": {
      "text/plain": [
       "0.90669441553936869"
      ]
     },
     "execution_count": 52,
     "metadata": {},
     "output_type": "execute_result"
    }
   ],
   "source": [
    "accuracy_score(y_train,predict_train)"
   ]
  },
  {
   "cell_type": "code",
   "execution_count": 53,
   "metadata": {},
   "outputs": [
    {
     "data": {
      "text/plain": [
       "0.20333333333333334"
      ]
     },
     "execution_count": 53,
     "metadata": {},
     "output_type": "execute_result"
    }
   ],
   "source": [
    "precision_score(y_train,predict_train,pos_label='yes',average=\"binary\")\n",
    "recall_score(y_train,predict_train,pos_label='yes')"
   ]
  },
  {
   "cell_type": "code",
   "execution_count": 54,
   "metadata": {},
   "outputs": [
    {
     "data": {
      "text/plain": [
       "0.89311740890688263"
      ]
     },
     "execution_count": 54,
     "metadata": {},
     "output_type": "execute_result"
    }
   ],
   "source": [
    "accuracy_score(y_test,predictionsLR)"
   ]
  },
  {
   "cell_type": "code",
   "execution_count": 55,
   "metadata": {},
   "outputs": [
    {
     "data": {
      "text/plain": [
       "array([[1073,   11],\n",
       "       [ 121,   30]], dtype=int64)"
      ]
     },
     "execution_count": 55,
     "metadata": {},
     "output_type": "execute_result"
    }
   ],
   "source": [
    "confusion_matrix(y_test, predictionsLR)"
   ]
  },
  {
   "cell_type": "code",
   "execution_count": 56,
   "metadata": {},
   "outputs": [
    {
     "data": {
      "text/plain": [
       "no     1084\n",
       "yes     151\n",
       "Name: y, dtype: int64"
      ]
     },
     "execution_count": 56,
     "metadata": {},
     "output_type": "execute_result"
    }
   ],
   "source": [
    "y_test.value_counts()"
   ]
  },
  {
   "cell_type": "code",
   "execution_count": 57,
   "metadata": {},
   "outputs": [
    {
     "data": {
      "text/plain": [
       "0.73170731707317072"
      ]
     },
     "execution_count": 57,
     "metadata": {},
     "output_type": "execute_result"
    }
   ],
   "source": [
    "precision_score(y_test,predictionsLR,pos_label='yes',average=\"binary\")"
   ]
  },
  {
   "cell_type": "code",
   "execution_count": 58,
   "metadata": {},
   "outputs": [
    {
     "data": {
      "text/plain": [
       "0.19867549668874171"
      ]
     },
     "execution_count": 58,
     "metadata": {},
     "output_type": "execute_result"
    }
   ],
   "source": [
    "recall_score(y_test,predictionsLR,pos_label='yes')"
   ]
  },
  {
   "cell_type": "raw",
   "metadata": {},
   "source": [
    "Da li su modeli pretrenirani (overfit)?\n",
    "—modelLR nije preteniran."
   ]
  },
  {
   "cell_type": "code",
   "execution_count": 59,
   "metadata": {},
   "outputs": [],
   "source": [
    "from sklearn.ensemble import RandomForestClassifier"
   ]
  },
  {
   "cell_type": "code",
   "execution_count": 60,
   "metadata": {},
   "outputs": [],
   "source": [
    "rf=RandomForestClassifier()"
   ]
  },
  {
   "cell_type": "code",
   "execution_count": 61,
   "metadata": {},
   "outputs": [],
   "source": [
    "modelRF=rf.fit(x_train,y_train)"
   ]
  },
  {
   "cell_type": "code",
   "execution_count": 62,
   "metadata": {},
   "outputs": [],
   "source": [
    "predictionsRF=modelRF.predict(x_test)"
   ]
  },
  {
   "cell_type": "code",
   "execution_count": 63,
   "metadata": {},
   "outputs": [
    {
     "data": {
      "text/plain": [
       "array(['no', 'no', 'no', ..., 'no', 'no', 'no'], dtype=object)"
      ]
     },
     "execution_count": 63,
     "metadata": {},
     "output_type": "execute_result"
    }
   ],
   "source": [
    "predictionsRF"
   ]
  },
  {
   "cell_type": "code",
   "execution_count": 64,
   "metadata": {},
   "outputs": [
    {
     "data": {
      "text/plain": [
       "0.86396761133603239"
      ]
     },
     "execution_count": 64,
     "metadata": {},
     "output_type": "execute_result"
    }
   ],
   "source": [
    "accuracy_score(y_test,predictionsRF)"
   ]
  },
  {
   "cell_type": "code",
   "execution_count": 65,
   "metadata": {},
   "outputs": [
    {
     "data": {
      "text/plain": [
       "array([[1035,   49],\n",
       "       [ 119,   32]], dtype=int64)"
      ]
     },
     "execution_count": 65,
     "metadata": {},
     "output_type": "execute_result"
    }
   ],
   "source": [
    "confusion_matrix(y_test,predictionsRF)"
   ]
  },
  {
   "cell_type": "code",
   "execution_count": 66,
   "metadata": {},
   "outputs": [
    {
     "data": {
      "text/plain": [
       "0.39506172839506171"
      ]
     },
     "execution_count": 66,
     "metadata": {},
     "output_type": "execute_result"
    }
   ],
   "source": [
    "precision_score(y_test,predictionsRF,pos_label='yes')"
   ]
  },
  {
   "cell_type": "code",
   "execution_count": 67,
   "metadata": {},
   "outputs": [
    {
     "data": {
      "text/plain": [
       "0.2119205298013245"
      ]
     },
     "execution_count": 67,
     "metadata": {},
     "output_type": "execute_result"
    }
   ],
   "source": [
    "recall_score(y_test,predictionsRF,pos_label='yes')"
   ]
  },
  {
   "cell_type": "markdown",
   "metadata": {},
   "source": [
    "### Cross validation"
   ]
  },
  {
   "cell_type": "code",
   "execution_count": 68,
   "metadata": {},
   "outputs": [],
   "source": [
    "from sklearn.model_selection import cross_val_score"
   ]
  },
  {
   "cell_type": "code",
   "execution_count": 69,
   "metadata": {},
   "outputs": [],
   "source": [
    "models=[lr,rf]"
   ]
  },
  {
   "cell_type": "code",
   "execution_count": 70,
   "metadata": {},
   "outputs": [
    {
     "data": {
      "text/plain": [
       "2"
      ]
     },
     "execution_count": 70,
     "metadata": {},
     "output_type": "execute_result"
    }
   ],
   "source": [
    "len(models)"
   ]
  },
  {
   "cell_type": "code",
   "execution_count": 73,
   "metadata": {},
   "outputs": [
    {
     "name": "stdout",
     "output_type": "stream",
     "text": [
      "LogisticRegression(C=1.0, class_weight=None, dual=False, fit_intercept=True,\n",
      "          intercept_scaling=1, max_iter=100, multi_class='ovr', n_jobs=1,\n",
      "          penalty='l2', random_state=None, solver='liblinear', tol=0.0001,\n",
      "          verbose=0, warm_start=False)\n",
      "RandomForestClassifier(bootstrap=True, class_weight=None, criterion='gini',\n",
      "            max_depth=None, max_features='auto', max_leaf_nodes=None,\n",
      "            min_impurity_decrease=0.0, min_impurity_split=None,\n",
      "            min_samples_leaf=1, min_samples_split=2,\n",
      "            min_weight_fraction_leaf=0.0, n_estimators=10, n_jobs=1,\n",
      "            oob_score=False, random_state=None, verbose=0,\n",
      "            warm_start=False)\n"
     ]
    }
   ],
   "source": [
    "for mod in models:\n",
    "    print (mod)"
   ]
  },
  {
   "cell_type": "code",
   "execution_count": 74,
   "metadata": {},
   "outputs": [
    {
     "name": "stdout",
     "output_type": "stream",
     "text": [
      "<class 'sklearn.ensemble.forest.RandomForestClassifier'>\n",
      "<class 'sklearn.ensemble.forest.RandomForestClassifier'>\n"
     ]
    }
   ],
   "source": [
    "for x in range(len(models)):\n",
    "     #print (x)\n",
    "     print (type(models[-1]))"
   ]
  },
  {
   "cell_type": "code",
   "execution_count": 75,
   "metadata": {},
   "outputs": [
    {
     "name": "stdout",
     "output_type": "stream",
     "text": [
      "[ 0.88734835  0.88908146  0.89081456  0.87847222  0.88715278] ---> 0.886573873484\n",
      "[ 0.89948007  0.90987868  0.90641248  0.90104167  0.91666667] ---> 0.906695912767\n"
     ]
    }
   ],
   "source": [
    "for num in range(len(models)):\n",
    "    scores=cross_val_score(models[num-1],x_train,y_train,cv=5,scoring='accuracy')\n",
    "    print (scores,'--->',scores.mean())"
   ]
  },
  {
   "cell_type": "code",
   "execution_count": 76,
   "metadata": {},
   "outputs": [],
   "source": [
    "#np.average(scores)"
   ]
  },
  {
   "cell_type": "markdown",
   "metadata": {},
   "source": [
    "## Optimizacija parametara"
   ]
  },
  {
   "cell_type": "code",
   "execution_count": 80,
   "metadata": {},
   "outputs": [],
   "source": [
    "from sklearn.model_selection import GridSearchCV"
   ]
  },
  {
   "cell_type": "code",
   "execution_count": 82,
   "metadata": {},
   "outputs": [
    {
     "data": {
      "text/plain": [
       "RandomForestClassifier(bootstrap=True, class_weight=None, criterion='gini',\n",
       "            max_depth=None, max_features='auto', max_leaf_nodes=None,\n",
       "            min_impurity_decrease=0.0, min_impurity_split=None,\n",
       "            min_samples_leaf=1, min_samples_split=2,\n",
       "            min_weight_fraction_leaf=0.0, n_estimators=10, n_jobs=1,\n",
       "            oob_score=False, random_state=None, verbose=0,\n",
       "            warm_start=False)"
      ]
     },
     "execution_count": 82,
     "metadata": {},
     "output_type": "execute_result"
    }
   ],
   "source": [
    "rf"
   ]
  },
  {
   "cell_type": "code",
   "execution_count": 89,
   "metadata": {},
   "outputs": [],
   "source": [
    "params = [\n",
    "  {'n_estimators': [20, 40, 100, 300, 500], 'max_depth': [5, 10, 15]}\n",
    " ]"
   ]
  },
  {
   "cell_type": "code",
   "execution_count": 90,
   "metadata": {},
   "outputs": [],
   "source": [
    "optimizer = GridSearchCV(rf, \n",
    "                   param_grid=params, \n",
    "                   scoring='roc_auc', cv=3,  \n",
    "                   return_train_score=True, \n",
    "                   refit='roc_auc', n_jobs=2)"
   ]
  },
  {
   "cell_type": "code",
   "execution_count": 95,
   "metadata": {},
   "outputs": [
    {
     "ename": "JoblibValueError",
     "evalue": "JoblibValueError\n___________________________________________________________________________\nMultiprocessing exception:\n...........................................................................\nC:\\Users\\Dusica\\Anaconda3\\lib\\runpy.py in _run_module_as_main(mod_name='ipykernel_launcher', alter_argv=1)\n    188         sys.exit(msg)\n    189     main_globals = sys.modules[\"__main__\"].__dict__\n    190     if alter_argv:\n    191         sys.argv[0] = mod_spec.origin\n    192     return _run_code(code, main_globals, None,\n--> 193                      \"__main__\", mod_spec)\n        mod_spec = ModuleSpec(name='ipykernel_launcher', loader=<_f...nda3\\\\lib\\\\site-packages\\\\ipykernel_launcher.py')\n    194 \n    195 def run_module(mod_name, init_globals=None,\n    196                run_name=None, alter_sys=False):\n    197     \"\"\"Execute a module's code without importing it\n\n...........................................................................\nC:\\Users\\Dusica\\Anaconda3\\lib\\runpy.py in _run_code(code=<code object <module> at 0x02ED6B78, file \"C:\\Us...lib\\site-packages\\ipykernel_launcher.py\", line 5>, run_globals={'__annotations__': {}, '__builtins__': <module 'builtins' (built-in)>, '__cached__': r'C:\\Users\\Dusica\\Anaconda3\\lib\\site-packages\\__pycache__\\ipykernel_launcher.cpython-36.pyc', '__doc__': 'Entry point for launching an IPython kernel.\\n\\nTh...orts until\\nafter removing the cwd from sys.path.\\n', '__file__': r'C:\\Users\\Dusica\\Anaconda3\\lib\\site-packages\\ipykernel_launcher.py', '__loader__': <_frozen_importlib_external.SourceFileLoader object>, '__name__': '__main__', '__package__': '', '__spec__': ModuleSpec(name='ipykernel_launcher', loader=<_f...nda3\\\\lib\\\\site-packages\\\\ipykernel_launcher.py'), 'app': <module 'ipykernel.kernelapp' from 'C:\\\\Users\\\\D...a3\\\\lib\\\\site-packages\\\\ipykernel\\\\kernelapp.py'>, ...}, init_globals=None, mod_name='__main__', mod_spec=ModuleSpec(name='ipykernel_launcher', loader=<_f...nda3\\\\lib\\\\site-packages\\\\ipykernel_launcher.py'), pkg_name='', script_name=None)\n     80                        __cached__ = cached,\n     81                        __doc__ = None,\n     82                        __loader__ = loader,\n     83                        __package__ = pkg_name,\n     84                        __spec__ = mod_spec)\n---> 85     exec(code, run_globals)\n        code = <code object <module> at 0x02ED6B78, file \"C:\\Us...lib\\site-packages\\ipykernel_launcher.py\", line 5>\n        run_globals = {'__annotations__': {}, '__builtins__': <module 'builtins' (built-in)>, '__cached__': r'C:\\Users\\Dusica\\Anaconda3\\lib\\site-packages\\__pycache__\\ipykernel_launcher.cpython-36.pyc', '__doc__': 'Entry point for launching an IPython kernel.\\n\\nTh...orts until\\nafter removing the cwd from sys.path.\\n', '__file__': r'C:\\Users\\Dusica\\Anaconda3\\lib\\site-packages\\ipykernel_launcher.py', '__loader__': <_frozen_importlib_external.SourceFileLoader object>, '__name__': '__main__', '__package__': '', '__spec__': ModuleSpec(name='ipykernel_launcher', loader=<_f...nda3\\\\lib\\\\site-packages\\\\ipykernel_launcher.py'), 'app': <module 'ipykernel.kernelapp' from 'C:\\\\Users\\\\D...a3\\\\lib\\\\site-packages\\\\ipykernel\\\\kernelapp.py'>, ...}\n     86     return run_globals\n     87 \n     88 def _run_module_code(code, init_globals=None,\n     89                     mod_name=None, mod_spec=None,\n\n...........................................................................\nC:\\Users\\Dusica\\Anaconda3\\lib\\site-packages\\ipykernel_launcher.py in <module>()\n     11     # This is added back by InteractiveShellApp.init_path()\n     12     if sys.path[0] == '':\n     13         del sys.path[0]\n     14 \n     15     from ipykernel import kernelapp as app\n---> 16     app.launch_new_instance()\n\n...........................................................................\nC:\\Users\\Dusica\\Anaconda3\\lib\\site-packages\\traitlets\\config\\application.py in launch_instance(cls=<class 'ipykernel.kernelapp.IPKernelApp'>, argv=None, **kwargs={})\n    653 \n    654         If a global instance already exists, this reinitializes and starts it\n    655         \"\"\"\n    656         app = cls.instance(**kwargs)\n    657         app.initialize(argv)\n--> 658         app.start()\n        app.start = <bound method IPKernelApp.start of <ipykernel.kernelapp.IPKernelApp object>>\n    659 \n    660 #-----------------------------------------------------------------------------\n    661 # utility functions, for convenience\n    662 #-----------------------------------------------------------------------------\n\n...........................................................................\nC:\\Users\\Dusica\\Anaconda3\\lib\\site-packages\\ipykernel\\kernelapp.py in start(self=<ipykernel.kernelapp.IPKernelApp object>)\n    472             return self.subapp.start()\n    473         if self.poller is not None:\n    474             self.poller.start()\n    475         self.kernel.start()\n    476         try:\n--> 477             ioloop.IOLoop.instance().start()\n    478         except KeyboardInterrupt:\n    479             pass\n    480 \n    481 launch_new_instance = IPKernelApp.launch_instance\n\n...........................................................................\nC:\\Users\\Dusica\\Anaconda3\\lib\\site-packages\\zmq\\eventloop\\ioloop.py in start(self=<zmq.eventloop.ioloop.ZMQIOLoop object>)\n    172             )\n    173         return loop\n    174     \n    175     def start(self):\n    176         try:\n--> 177             super(ZMQIOLoop, self).start()\n        self.start = <bound method ZMQIOLoop.start of <zmq.eventloop.ioloop.ZMQIOLoop object>>\n    178         except ZMQError as e:\n    179             if e.errno == ETERM:\n    180                 # quietly return on ETERM\n    181                 pass\n\n...........................................................................\nC:\\Users\\Dusica\\Anaconda3\\lib\\site-packages\\tornado\\ioloop.py in start(self=<zmq.eventloop.ioloop.ZMQIOLoop object>)\n    883                 self._events.update(event_pairs)\n    884                 while self._events:\n    885                     fd, events = self._events.popitem()\n    886                     try:\n    887                         fd_obj, handler_func = self._handlers[fd]\n--> 888                         handler_func(fd_obj, events)\n        handler_func = <function wrap.<locals>.null_wrapper>\n        fd_obj = <zmq.sugar.socket.Socket object>\n        events = 1\n    889                     except (OSError, IOError) as e:\n    890                         if errno_from_exception(e) == errno.EPIPE:\n    891                             # Happens when the client closes the connection\n    892                             pass\n\n...........................................................................\nC:\\Users\\Dusica\\Anaconda3\\lib\\site-packages\\tornado\\stack_context.py in null_wrapper(*args=(<zmq.sugar.socket.Socket object>, 1), **kwargs={})\n    272         # Fast path when there are no active contexts.\n    273         def null_wrapper(*args, **kwargs):\n    274             try:\n    275                 current_state = _state.contexts\n    276                 _state.contexts = cap_contexts[0]\n--> 277                 return fn(*args, **kwargs)\n        args = (<zmq.sugar.socket.Socket object>, 1)\n        kwargs = {}\n    278             finally:\n    279                 _state.contexts = current_state\n    280         null_wrapper._wrapped = True\n    281         return null_wrapper\n\n...........................................................................\nC:\\Users\\Dusica\\Anaconda3\\lib\\site-packages\\zmq\\eventloop\\zmqstream.py in _handle_events(self=<zmq.eventloop.zmqstream.ZMQStream object>, fd=<zmq.sugar.socket.Socket object>, events=1)\n    435             # dispatch events:\n    436             if events & IOLoop.ERROR:\n    437                 gen_log.error(\"got POLLERR event on ZMQStream, which doesn't make sense\")\n    438                 return\n    439             if events & IOLoop.READ:\n--> 440                 self._handle_recv()\n        self._handle_recv = <bound method ZMQStream._handle_recv of <zmq.eventloop.zmqstream.ZMQStream object>>\n    441                 if not self.socket:\n    442                     return\n    443             if events & IOLoop.WRITE:\n    444                 self._handle_send()\n\n...........................................................................\nC:\\Users\\Dusica\\Anaconda3\\lib\\site-packages\\zmq\\eventloop\\zmqstream.py in _handle_recv(self=<zmq.eventloop.zmqstream.ZMQStream object>)\n    467                 gen_log.error(\"RECV Error: %s\"%zmq.strerror(e.errno))\n    468         else:\n    469             if self._recv_callback:\n    470                 callback = self._recv_callback\n    471                 # self._recv_callback = None\n--> 472                 self._run_callback(callback, msg)\n        self._run_callback = <bound method ZMQStream._run_callback of <zmq.eventloop.zmqstream.ZMQStream object>>\n        callback = <function wrap.<locals>.null_wrapper>\n        msg = [<zmq.sugar.frame.Frame object>, <zmq.sugar.frame.Frame object>, <zmq.sugar.frame.Frame object>, <zmq.sugar.frame.Frame object>, <zmq.sugar.frame.Frame object>, <zmq.sugar.frame.Frame object>, <zmq.sugar.frame.Frame object>]\n    473                 \n    474         # self.update_state()\n    475         \n    476 \n\n...........................................................................\nC:\\Users\\Dusica\\Anaconda3\\lib\\site-packages\\zmq\\eventloop\\zmqstream.py in _run_callback(self=<zmq.eventloop.zmqstream.ZMQStream object>, callback=<function wrap.<locals>.null_wrapper>, *args=([<zmq.sugar.frame.Frame object>, <zmq.sugar.frame.Frame object>, <zmq.sugar.frame.Frame object>, <zmq.sugar.frame.Frame object>, <zmq.sugar.frame.Frame object>, <zmq.sugar.frame.Frame object>, <zmq.sugar.frame.Frame object>],), **kwargs={})\n    409         close our socket.\"\"\"\n    410         try:\n    411             # Use a NullContext to ensure that all StackContexts are run\n    412             # inside our blanket exception handler rather than outside.\n    413             with stack_context.NullContext():\n--> 414                 callback(*args, **kwargs)\n        callback = <function wrap.<locals>.null_wrapper>\n        args = ([<zmq.sugar.frame.Frame object>, <zmq.sugar.frame.Frame object>, <zmq.sugar.frame.Frame object>, <zmq.sugar.frame.Frame object>, <zmq.sugar.frame.Frame object>, <zmq.sugar.frame.Frame object>, <zmq.sugar.frame.Frame object>],)\n        kwargs = {}\n    415         except:\n    416             gen_log.error(\"Uncaught exception, closing connection.\",\n    417                           exc_info=True)\n    418             # Close the socket on an uncaught exception from a user callback\n\n...........................................................................\nC:\\Users\\Dusica\\Anaconda3\\lib\\site-packages\\tornado\\stack_context.py in null_wrapper(*args=([<zmq.sugar.frame.Frame object>, <zmq.sugar.frame.Frame object>, <zmq.sugar.frame.Frame object>, <zmq.sugar.frame.Frame object>, <zmq.sugar.frame.Frame object>, <zmq.sugar.frame.Frame object>, <zmq.sugar.frame.Frame object>],), **kwargs={})\n    272         # Fast path when there are no active contexts.\n    273         def null_wrapper(*args, **kwargs):\n    274             try:\n    275                 current_state = _state.contexts\n    276                 _state.contexts = cap_contexts[0]\n--> 277                 return fn(*args, **kwargs)\n        args = ([<zmq.sugar.frame.Frame object>, <zmq.sugar.frame.Frame object>, <zmq.sugar.frame.Frame object>, <zmq.sugar.frame.Frame object>, <zmq.sugar.frame.Frame object>, <zmq.sugar.frame.Frame object>, <zmq.sugar.frame.Frame object>],)\n        kwargs = {}\n    278             finally:\n    279                 _state.contexts = current_state\n    280         null_wrapper._wrapped = True\n    281         return null_wrapper\n\n...........................................................................\nC:\\Users\\Dusica\\Anaconda3\\lib\\site-packages\\ipykernel\\kernelbase.py in dispatcher(msg=[<zmq.sugar.frame.Frame object>, <zmq.sugar.frame.Frame object>, <zmq.sugar.frame.Frame object>, <zmq.sugar.frame.Frame object>, <zmq.sugar.frame.Frame object>, <zmq.sugar.frame.Frame object>, <zmq.sugar.frame.Frame object>])\n    278         if self.control_stream:\n    279             self.control_stream.on_recv(self.dispatch_control, copy=False)\n    280 \n    281         def make_dispatcher(stream):\n    282             def dispatcher(msg):\n--> 283                 return self.dispatch_shell(stream, msg)\n        msg = [<zmq.sugar.frame.Frame object>, <zmq.sugar.frame.Frame object>, <zmq.sugar.frame.Frame object>, <zmq.sugar.frame.Frame object>, <zmq.sugar.frame.Frame object>, <zmq.sugar.frame.Frame object>, <zmq.sugar.frame.Frame object>]\n    284             return dispatcher\n    285 \n    286         for s in self.shell_streams:\n    287             s.on_recv(make_dispatcher(s), copy=False)\n\n...........................................................................\nC:\\Users\\Dusica\\Anaconda3\\lib\\site-packages\\ipykernel\\kernelbase.py in dispatch_shell(self=<ipykernel.ipkernel.IPythonKernel object>, stream=<zmq.eventloop.zmqstream.ZMQStream object>, msg={'buffers': [], 'content': {'allow_stdin': True, 'code': 'opt_rf=optimizer.fit(x_train,y_train)\\n', 'silent': False, 'stop_on_error': True, 'store_history': True, 'user_expressions': {}}, 'header': {'date': datetime.datetime(2018, 1, 29, 7, 58, 18, 637675, tzinfo=datetime.timezone.utc), 'msg_id': '515d3def2295096090ca95bbff2e636e', 'msg_type': 'execute_request', 'session': '8e789c4ea8ddd1c6ab9b34f15e5fabdf', 'username': '', 'version': '5.2'}, 'metadata': {}, 'msg_id': '515d3def2295096090ca95bbff2e636e', 'msg_type': 'execute_request', 'parent_header': {}})\n    230             self.log.warn(\"Unknown message type: %r\", msg_type)\n    231         else:\n    232             self.log.debug(\"%s: %s\", msg_type, msg)\n    233             self.pre_handler_hook()\n    234             try:\n--> 235                 handler(stream, idents, msg)\n        handler = <bound method Kernel.execute_request of <ipykernel.ipkernel.IPythonKernel object>>\n        stream = <zmq.eventloop.zmqstream.ZMQStream object>\n        idents = [b'8e789c4ea8ddd1c6ab9b34f15e5fabdf']\n        msg = {'buffers': [], 'content': {'allow_stdin': True, 'code': 'opt_rf=optimizer.fit(x_train,y_train)\\n', 'silent': False, 'stop_on_error': True, 'store_history': True, 'user_expressions': {}}, 'header': {'date': datetime.datetime(2018, 1, 29, 7, 58, 18, 637675, tzinfo=datetime.timezone.utc), 'msg_id': '515d3def2295096090ca95bbff2e636e', 'msg_type': 'execute_request', 'session': '8e789c4ea8ddd1c6ab9b34f15e5fabdf', 'username': '', 'version': '5.2'}, 'metadata': {}, 'msg_id': '515d3def2295096090ca95bbff2e636e', 'msg_type': 'execute_request', 'parent_header': {}}\n    236             except Exception:\n    237                 self.log.error(\"Exception in message handler:\", exc_info=True)\n    238             finally:\n    239                 self.post_handler_hook()\n\n...........................................................................\nC:\\Users\\Dusica\\Anaconda3\\lib\\site-packages\\ipykernel\\kernelbase.py in execute_request(self=<ipykernel.ipkernel.IPythonKernel object>, stream=<zmq.eventloop.zmqstream.ZMQStream object>, ident=[b'8e789c4ea8ddd1c6ab9b34f15e5fabdf'], parent={'buffers': [], 'content': {'allow_stdin': True, 'code': 'opt_rf=optimizer.fit(x_train,y_train)\\n', 'silent': False, 'stop_on_error': True, 'store_history': True, 'user_expressions': {}}, 'header': {'date': datetime.datetime(2018, 1, 29, 7, 58, 18, 637675, tzinfo=datetime.timezone.utc), 'msg_id': '515d3def2295096090ca95bbff2e636e', 'msg_type': 'execute_request', 'session': '8e789c4ea8ddd1c6ab9b34f15e5fabdf', 'username': '', 'version': '5.2'}, 'metadata': {}, 'msg_id': '515d3def2295096090ca95bbff2e636e', 'msg_type': 'execute_request', 'parent_header': {}})\n    394         if not silent:\n    395             self.execution_count += 1\n    396             self._publish_execute_input(code, parent, self.execution_count)\n    397 \n    398         reply_content = self.do_execute(code, silent, store_history,\n--> 399                                         user_expressions, allow_stdin)\n        user_expressions = {}\n        allow_stdin = True\n    400 \n    401         # Flush output before sending the reply.\n    402         sys.stdout.flush()\n    403         sys.stderr.flush()\n\n...........................................................................\nC:\\Users\\Dusica\\Anaconda3\\lib\\site-packages\\ipykernel\\ipkernel.py in do_execute(self=<ipykernel.ipkernel.IPythonKernel object>, code='opt_rf=optimizer.fit(x_train,y_train)\\n', silent=False, store_history=True, user_expressions={}, allow_stdin=True)\n    191 \n    192         self._forward_input(allow_stdin)\n    193 \n    194         reply_content = {}\n    195         try:\n--> 196             res = shell.run_cell(code, store_history=store_history, silent=silent)\n        res = undefined\n        shell.run_cell = <bound method ZMQInteractiveShell.run_cell of <ipykernel.zmqshell.ZMQInteractiveShell object>>\n        code = 'opt_rf=optimizer.fit(x_train,y_train)\\n'\n        store_history = True\n        silent = False\n    197         finally:\n    198             self._restore_input()\n    199 \n    200         if res.error_before_exec is not None:\n\n...........................................................................\nC:\\Users\\Dusica\\Anaconda3\\lib\\site-packages\\ipykernel\\zmqshell.py in run_cell(self=<ipykernel.zmqshell.ZMQInteractiveShell object>, *args=('opt_rf=optimizer.fit(x_train,y_train)\\n',), **kwargs={'silent': False, 'store_history': True})\n    528             )\n    529         self.payload_manager.write_payload(payload)\n    530 \n    531     def run_cell(self, *args, **kwargs):\n    532         self._last_traceback = None\n--> 533         return super(ZMQInteractiveShell, self).run_cell(*args, **kwargs)\n        self.run_cell = <bound method ZMQInteractiveShell.run_cell of <ipykernel.zmqshell.ZMQInteractiveShell object>>\n        args = ('opt_rf=optimizer.fit(x_train,y_train)\\n',)\n        kwargs = {'silent': False, 'store_history': True}\n    534 \n    535     def _showtraceback(self, etype, evalue, stb):\n    536         # try to preserve ordering of tracebacks and print statements\n    537         sys.stdout.flush()\n\n...........................................................................\nC:\\Users\\Dusica\\Anaconda3\\lib\\site-packages\\IPython\\core\\interactiveshell.py in run_cell(self=<ipykernel.zmqshell.ZMQInteractiveShell object>, raw_cell='opt_rf=optimizer.fit(x_train,y_train)\\n', store_history=True, silent=False, shell_futures=True)\n   2693                 self.displayhook.exec_result = result\n   2694 \n   2695                 # Execute the user code\n   2696                 interactivity = \"none\" if silent else self.ast_node_interactivity\n   2697                 has_raised = self.run_ast_nodes(code_ast.body, cell_name,\n-> 2698                    interactivity=interactivity, compiler=compiler, result=result)\n        interactivity = 'last_expr'\n        compiler = <IPython.core.compilerop.CachingCompiler object>\n   2699                 \n   2700                 self.last_execution_succeeded = not has_raised\n   2701 \n   2702                 # Reset this so later displayed values do not modify the\n\n...........................................................................\nC:\\Users\\Dusica\\Anaconda3\\lib\\site-packages\\IPython\\core\\interactiveshell.py in run_ast_nodes(self=<ipykernel.zmqshell.ZMQInteractiveShell object>, nodelist=[<_ast.Assign object>], cell_name='<ipython-input-95-58182a297873>', interactivity='none', compiler=<IPython.core.compilerop.CachingCompiler object>, result=<ExecutionResult object at 1349190, execution_co..._before_exec=None error_in_exec=None result=None>)\n   2797 \n   2798         try:\n   2799             for i, node in enumerate(to_run_exec):\n   2800                 mod = ast.Module([node])\n   2801                 code = compiler(mod, cell_name, \"exec\")\n-> 2802                 if self.run_code(code, result):\n        self.run_code = <bound method InteractiveShell.run_code of <ipykernel.zmqshell.ZMQInteractiveShell object>>\n        code = <code object <module> at 0x0142A7B0, file \"<ipython-input-95-58182a297873>\", line 1>\n        result = <ExecutionResult object at 1349190, execution_co..._before_exec=None error_in_exec=None result=None>\n   2803                     return True\n   2804 \n   2805             for i, node in enumerate(to_run_interactive):\n   2806                 mod = ast.Interactive([node])\n\n...........................................................................\nC:\\Users\\Dusica\\Anaconda3\\lib\\site-packages\\IPython\\core\\interactiveshell.py in run_code(self=<ipykernel.zmqshell.ZMQInteractiveShell object>, code_obj=<code object <module> at 0x0142A7B0, file \"<ipython-input-95-58182a297873>\", line 1>, result=<ExecutionResult object at 1349190, execution_co..._before_exec=None error_in_exec=None result=None>)\n   2857         outflag = True  # happens in more places, so it's easier as default\n   2858         try:\n   2859             try:\n   2860                 self.hooks.pre_run_code_hook()\n   2861                 #rprint('Running code', repr(code_obj)) # dbg\n-> 2862                 exec(code_obj, self.user_global_ns, self.user_ns)\n        code_obj = <code object <module> at 0x0142A7B0, file \"<ipython-input-95-58182a297873>\", line 1>\n        self.user_global_ns = {'GridSearchCV': <class 'sklearn.model_selection._search.GridSearchCV'>, 'In': ['', 'import pandas as pd\\nimport numpy as np', r\"bank=pd.read_csv('C:\\\\Users\\\\Dusica\\\\Downloads\\\\Bank Marketing\\\\bank-additional.txt',sep=';')\", 'bank.shape', 'bank.describe()', 'bank.count()', 'pd.concat([bank.dtypes,bank.isnull().sum()],axis=1)', \"bank.drop(['duration'],axis=1,inplace=True)\", \"bank.dropna(subset=['y'],inplace=True)\", \"#set(bank['nr.employed'])\", \"pd.concat([bank['cons.price.idx'].describe(),ban...()],axis=1)\\n\\n#moze mean jer std ima malu vrednost\", \"mean_cons_price_idx=bank['cons.price.idx'].dropn...e_idx=np.average(bank['cons.price.idx'].dropna())\", \"mean_previous=bank['previous'].dropna().mean()\", \"bank['cons.price.idx'].replace(np.nan,mean_cons_price_idx,inplace=True)\", \"bank['previous'].replace(np.nan,mean_previous,inplace=True)\", \"bank['nr.employed']=pd.to_numeric(bank['nr.employed'],downcast='float')\", \"bank['nr.employed'].fillna(value=bank['nr.employed'].dropna().mean(),inplace=True)\", \"bank['nr.employed'].describe()\", \"pd.concat([bank['campaign'].describe(),bank['emp....describe(),bank['euribor3m'].describe()],axis=1)\", \"bank['campaign'].replace(np.nan,bank['campaign'].dropna().mean(),inplace=True)\", ...], 'LogisticRegression': <class 'sklearn.linear_model.logistic.LogisticRegression'>, 'Out': {3: (4119, 21), 4:                age     duration     campaign    ...000       94.767000       1.266000  5099.100000  , 5: age               4119\njob               4119\nma...ed       4118\ny                 4118\ndtype: int64, 6:                       0  1\nage               int...mployed      object  1\ny                object  1, 10:        cons.price.idx     previous\ncount     411...0     0.000000\nmax         94.767000     6.000000, 17: count    4118.000000\nmean     5166.518555\nstd   ...    5228.100098\nName: nr.employed, dtype: float64, 18:           campaign  emp.var.rate  cons.conf.idx ....000000      1.400000     -26.900000     5.045000, 26: (2883, 20), 27: (1235, 20), 29: (2883,), ...}, 'RandomForestClassifier': <class 'sklearn.ensemble.forest.RandomForestClassifier'>, '_': RandomForestClassifier(bootstrap=True, class_wei...te=None, verbose=0,\n            warm_start=False), '_10':        cons.price.idx     previous\ncount     411...0     0.000000\nmax         94.767000     6.000000, '_17': count    4118.000000\nmean     5166.518555\nstd   ...    5228.100098\nName: nr.employed, dtype: float64, '_18':           campaign  emp.var.rate  cons.conf.idx ....000000      1.400000     -26.900000     5.045000, '_26': (2883, 20), ...}\n        self.user_ns = {'GridSearchCV': <class 'sklearn.model_selection._search.GridSearchCV'>, 'In': ['', 'import pandas as pd\\nimport numpy as np', r\"bank=pd.read_csv('C:\\\\Users\\\\Dusica\\\\Downloads\\\\Bank Marketing\\\\bank-additional.txt',sep=';')\", 'bank.shape', 'bank.describe()', 'bank.count()', 'pd.concat([bank.dtypes,bank.isnull().sum()],axis=1)', \"bank.drop(['duration'],axis=1,inplace=True)\", \"bank.dropna(subset=['y'],inplace=True)\", \"#set(bank['nr.employed'])\", \"pd.concat([bank['cons.price.idx'].describe(),ban...()],axis=1)\\n\\n#moze mean jer std ima malu vrednost\", \"mean_cons_price_idx=bank['cons.price.idx'].dropn...e_idx=np.average(bank['cons.price.idx'].dropna())\", \"mean_previous=bank['previous'].dropna().mean()\", \"bank['cons.price.idx'].replace(np.nan,mean_cons_price_idx,inplace=True)\", \"bank['previous'].replace(np.nan,mean_previous,inplace=True)\", \"bank['nr.employed']=pd.to_numeric(bank['nr.employed'],downcast='float')\", \"bank['nr.employed'].fillna(value=bank['nr.employed'].dropna().mean(),inplace=True)\", \"bank['nr.employed'].describe()\", \"pd.concat([bank['campaign'].describe(),bank['emp....describe(),bank['euribor3m'].describe()],axis=1)\", \"bank['campaign'].replace(np.nan,bank['campaign'].dropna().mean(),inplace=True)\", ...], 'LogisticRegression': <class 'sklearn.linear_model.logistic.LogisticRegression'>, 'Out': {3: (4119, 21), 4:                age     duration     campaign    ...000       94.767000       1.266000  5099.100000  , 5: age               4119\njob               4119\nma...ed       4118\ny                 4118\ndtype: int64, 6:                       0  1\nage               int...mployed      object  1\ny                object  1, 10:        cons.price.idx     previous\ncount     411...0     0.000000\nmax         94.767000     6.000000, 17: count    4118.000000\nmean     5166.518555\nstd   ...    5228.100098\nName: nr.employed, dtype: float64, 18:           campaign  emp.var.rate  cons.conf.idx ....000000      1.400000     -26.900000     5.045000, 26: (2883, 20), 27: (1235, 20), 29: (2883,), ...}, 'RandomForestClassifier': <class 'sklearn.ensemble.forest.RandomForestClassifier'>, '_': RandomForestClassifier(bootstrap=True, class_wei...te=None, verbose=0,\n            warm_start=False), '_10':        cons.price.idx     previous\ncount     411...0     0.000000\nmax         94.767000     6.000000, '_17': count    4118.000000\nmean     5166.518555\nstd   ...    5228.100098\nName: nr.employed, dtype: float64, '_18':           campaign  emp.var.rate  cons.conf.idx ....000000      1.400000     -26.900000     5.045000, '_26': (2883, 20), ...}\n   2863             finally:\n   2864                 # Reset our crash handler in place\n   2865                 sys.excepthook = old_excepthook\n   2866         except SystemExit as e:\n\n...........................................................................\nC:\\Users\\Dusica\\<ipython-input-95-58182a297873> in <module>()\n----> 1 opt_rf=optimizer.fit(x_train,y_train)\n\n...........................................................................\nC:\\Users\\Dusica\\Anaconda3\\lib\\site-packages\\sklearn\\model_selection\\_search.py in fit(self=GridSearchCV(cv=3, error_score='raise',\n       e..._score=True,\n       scoring='roc_auc', verbose=0), X=      age  campaign  pdays  previous  emp.var.ra...    4.021  5195.799805  \n\n[2883 rows x 9 columns], y=3245     no\n2348     no\n1660    yes\n42       no\n...\n4007     no\nName: y, Length: 2883, dtype: object, groups=None, **fit_params={})\n    634                                   return_train_score=self.return_train_score,\n    635                                   return_n_test_samples=True,\n    636                                   return_times=True, return_parameters=False,\n    637                                   error_score=self.error_score)\n    638           for parameters, (train, test) in product(candidate_params,\n--> 639                                                    cv.split(X, y, groups)))\n        cv.split = <bound method StratifiedKFold.split of Stratifie...ld(n_splits=3, random_state=None, shuffle=False)>\n        X =       age  campaign  pdays  previous  emp.var.ra...    4.021  5195.799805  \n\n[2883 rows x 9 columns]\n        y = 3245     no\n2348     no\n1660    yes\n42       no\n...\n4007     no\nName: y, Length: 2883, dtype: object\n        groups = None\n    640 \n    641         # if one choose to see train score, \"out\" will contain train score info\n    642         if self.return_train_score:\n    643             (train_score_dicts, test_score_dicts, test_sample_counts, fit_time,\n\n...........................................................................\nC:\\Users\\Dusica\\Anaconda3\\lib\\site-packages\\sklearn\\externals\\joblib\\parallel.py in __call__(self=Parallel(n_jobs=2), iterable=<generator object BaseSearchCV.fit.<locals>.<genexpr>>)\n    784             if pre_dispatch == \"all\" or n_jobs == 1:\n    785                 # The iterable was consumed all at once by the above for loop.\n    786                 # No need to wait for async callbacks to trigger to\n    787                 # consumption.\n    788                 self._iterating = False\n--> 789             self.retrieve()\n        self.retrieve = <bound method Parallel.retrieve of Parallel(n_jobs=2)>\n    790             # Make sure that we get a last message telling us we are done\n    791             elapsed_time = time.time() - self._start_time\n    792             self._print('Done %3i out of %3i | elapsed: %s finished',\n    793                         (len(self._output), len(self._output),\n\n---------------------------------------------------------------------------\nSub-process traceback:\n---------------------------------------------------------------------------\nValueError                                         Mon Jan 29 08:58:21 2018\nPID: 8100                Python 3.6.3: C:\\Users\\Dusica\\Anaconda3\\python.exe\n...........................................................................\nC:\\Users\\Dusica\\Anaconda3\\lib\\site-packages\\sklearn\\externals\\joblib\\parallel.py in __call__(self=<sklearn.externals.joblib.parallel.BatchedCalls object>)\n    126     def __init__(self, iterator_slice):\n    127         self.items = list(iterator_slice)\n    128         self._size = len(self.items)\n    129 \n    130     def __call__(self):\n--> 131         return [func(*args, **kwargs) for func, args, kwargs in self.items]\n        self.items = [(<function _fit_and_score>, (RandomForestClassifier(bootstrap=True, class_wei...te=None, verbose=0,\n            warm_start=False),       age  campaign  pdays  previous  emp.var.ra...    4.021  5195.799805  \n\n[2883 rows x 9 columns], 3245     no\n2348     no\n1660    yes\n42       no\n...\n4007     no\nName: y, Length: 2883, dtype: object, {'score': make_scorer(roc_auc_score, needs_threshold=True)}, array([ 919,  922,  940, ..., 2880, 2881, 2882]), array([  0,   1,   2,   3,   4,   5,   6,   7,  ...56, 957, 958, 959, 960, 961, 962, 963, 966, 967]), 0, {'max_depth': 5, 'n_estimators': 20}), {'error_score': 'raise', 'fit_params': {}, 'return_n_test_samples': True, 'return_parameters': False, 'return_times': True, 'return_train_score': True})]\n    132 \n    133     def __len__(self):\n    134         return self._size\n    135 \n\n...........................................................................\nC:\\Users\\Dusica\\Anaconda3\\lib\\site-packages\\sklearn\\externals\\joblib\\parallel.py in <listcomp>(.0=<list_iterator object>)\n    126     def __init__(self, iterator_slice):\n    127         self.items = list(iterator_slice)\n    128         self._size = len(self.items)\n    129 \n    130     def __call__(self):\n--> 131         return [func(*args, **kwargs) for func, args, kwargs in self.items]\n        func = <function _fit_and_score>\n        args = (RandomForestClassifier(bootstrap=True, class_wei...te=None, verbose=0,\n            warm_start=False),       age  campaign  pdays  previous  emp.var.ra...    4.021  5195.799805  \n\n[2883 rows x 9 columns], 3245     no\n2348     no\n1660    yes\n42       no\n...\n4007     no\nName: y, Length: 2883, dtype: object, {'score': make_scorer(roc_auc_score, needs_threshold=True)}, array([ 919,  922,  940, ..., 2880, 2881, 2882]), array([  0,   1,   2,   3,   4,   5,   6,   7,  ...56, 957, 958, 959, 960, 961, 962, 963, 966, 967]), 0, {'max_depth': 5, 'n_estimators': 20})\n        kwargs = {'error_score': 'raise', 'fit_params': {}, 'return_n_test_samples': True, 'return_parameters': False, 'return_times': True, 'return_train_score': True}\n    132 \n    133     def __len__(self):\n    134         return self._size\n    135 \n\n...........................................................................\nC:\\Users\\Dusica\\Anaconda3\\lib\\site-packages\\sklearn\\model_selection\\_validation.py in _fit_and_score(estimator=RandomForestClassifier(bootstrap=True, class_wei...te=None, verbose=0,\n            warm_start=False), X=      age  campaign  pdays  previous  emp.var.ra...    4.021  5195.799805  \n\n[2883 rows x 9 columns], y=3245     no\n2348     no\n1660    yes\n42       no\n...\n4007     no\nName: y, Length: 2883, dtype: object, scorer={'score': make_scorer(roc_auc_score, needs_threshold=True)}, train=array([ 919,  922,  940, ..., 2880, 2881, 2882]), test=array([  0,   1,   2,   3,   4,   5,   6,   7,  ...56, 957, 958, 959, 960, 961, 962, 963, 966, 967]), verbose=0, parameters={'max_depth': 5, 'n_estimators': 20}, fit_params={}, return_train_score=True, return_parameters=False, return_n_test_samples=True, return_times=True, error_score='raise')\n    483                              \" make sure that it has been spelled correctly.)\")\n    484 \n    485     else:\n    486         fit_time = time.time() - start_time\n    487         # _score will return dict if is_multimetric is True\n--> 488         test_scores = _score(estimator, X_test, y_test, scorer, is_multimetric)\n        test_scores = {}\n        estimator = RandomForestClassifier(bootstrap=True, class_wei...te=None, verbose=0,\n            warm_start=False)\n        X_test =       age  campaign  pdays  previous  emp.var.ra...     4.966  5228.100098  \n\n[961 rows x 9 columns]\n        y_test = 3245     no\n2348     no\n1660    yes\n42       no\n...o\n1426     no\nName: y, Length: 961, dtype: object\n        scorer = {'score': make_scorer(roc_auc_score, needs_threshold=True)}\n        is_multimetric = True\n    489         score_time = time.time() - start_time - fit_time\n    490         if return_train_score:\n    491             train_scores = _score(estimator, X_train, y_train, scorer,\n    492                                   is_multimetric)\n\n...........................................................................\nC:\\Users\\Dusica\\Anaconda3\\lib\\site-packages\\sklearn\\model_selection\\_validation.py in _score(estimator=RandomForestClassifier(bootstrap=True, class_wei...te=None, verbose=0,\n            warm_start=False), X_test=      age  campaign  pdays  previous  emp.var.ra...     4.966  5228.100098  \n\n[961 rows x 9 columns], y_test=3245     no\n2348     no\n1660    yes\n42       no\n...o\n1426     no\nName: y, Length: 961, dtype: object, scorer={'score': make_scorer(roc_auc_score, needs_threshold=True)}, is_multimetric=True)\n    518 \n    519     Will return a single float if is_multimetric is False and a dict of floats,\n    520     if is_multimetric is True\n    521     \"\"\"\n    522     if is_multimetric:\n--> 523         return _multimetric_score(estimator, X_test, y_test, scorer)\n        estimator = RandomForestClassifier(bootstrap=True, class_wei...te=None, verbose=0,\n            warm_start=False)\n        X_test =       age  campaign  pdays  previous  emp.var.ra...     4.966  5228.100098  \n\n[961 rows x 9 columns]\n        y_test = 3245     no\n2348     no\n1660    yes\n42       no\n...o\n1426     no\nName: y, Length: 961, dtype: object\n        scorer = {'score': make_scorer(roc_auc_score, needs_threshold=True)}\n    524     else:\n    525         if y_test is None:\n    526             score = scorer(estimator, X_test)\n    527         else:\n\n...........................................................................\nC:\\Users\\Dusica\\Anaconda3\\lib\\site-packages\\sklearn\\model_selection\\_validation.py in _multimetric_score(estimator=RandomForestClassifier(bootstrap=True, class_wei...te=None, verbose=0,\n            warm_start=False), X_test=      age  campaign  pdays  previous  emp.var.ra...     4.966  5228.100098  \n\n[961 rows x 9 columns], y_test=3245     no\n2348     no\n1660    yes\n42       no\n...o\n1426     no\nName: y, Length: 961, dtype: object, scorers={'score': make_scorer(roc_auc_score, needs_threshold=True)})\n    548 \n    549     for name, scorer in scorers.items():\n    550         if y_test is None:\n    551             score = scorer(estimator, X_test)\n    552         else:\n--> 553             score = scorer(estimator, X_test, y_test)\n        score = undefined\n        scorer = make_scorer(roc_auc_score, needs_threshold=True)\n        estimator = RandomForestClassifier(bootstrap=True, class_wei...te=None, verbose=0,\n            warm_start=False)\n        X_test =       age  campaign  pdays  previous  emp.var.ra...     4.966  5228.100098  \n\n[961 rows x 9 columns]\n        y_test = 3245     no\n2348     no\n1660    yes\n42       no\n...o\n1426     no\nName: y, Length: 961, dtype: object\n    554 \n    555         if hasattr(score, 'item'):\n    556             try:\n    557                 # e.g. unwrap memmapped scalars\n\n...........................................................................\nC:\\Users\\Dusica\\Anaconda3\\lib\\site-packages\\sklearn\\metrics\\scorer.py in __call__(self=make_scorer(roc_auc_score, needs_threshold=True), clf=RandomForestClassifier(bootstrap=True, class_wei...te=None, verbose=0,\n            warm_start=False), X=      age  campaign  pdays  previous  emp.var.ra...     4.966  5228.100098  \n\n[961 rows x 9 columns], y=3245     no\n2348     no\n1660    yes\n42       no\n...o\n1426     no\nName: y, Length: 961, dtype: object, sample_weight=None)\n    201         if sample_weight is not None:\n    202             return self._sign * self._score_func(y, y_pred,\n    203                                                  sample_weight=sample_weight,\n    204                                                  **self._kwargs)\n    205         else:\n--> 206             return self._sign * self._score_func(y, y_pred, **self._kwargs)\n        self._sign = 1\n        self._score_func = <function roc_auc_score>\n        y = 3245     no\n2348     no\n1660    yes\n42       no\n...o\n1426     no\nName: y, Length: 961, dtype: object\n        y_pred = array([ 0.07597901,  0.09863563,  0.40801131,  0...3,  0.09430465,  0.09025455,\n        0.05109169])\n        self._kwargs = {}\n    207 \n    208     def _factory_args(self):\n    209         return \", needs_threshold=True\"\n    210 \n\n...........................................................................\nC:\\Users\\Dusica\\Anaconda3\\lib\\site-packages\\sklearn\\metrics\\ranking.py in roc_auc_score(y_true=3245     no\n2348     no\n1660    yes\n42       no\n...o\n1426     no\nName: y, Length: 961, dtype: object, y_score=array([ 0.07597901,  0.09863563,  0.40801131,  0...3,  0.09430465,  0.09025455,\n        0.05109169]), average='macro', sample_weight=None)\n    272                                         sample_weight=sample_weight)\n    273         return auc(fpr, tpr, reorder=True)\n    274 \n    275     return _average_binary_score(\n    276         _binary_roc_auc_score, y_true, y_score, average,\n--> 277         sample_weight=sample_weight)\n        sample_weight = None\n    278 \n    279 \n    280 def _binary_clf_curve(y_true, y_score, pos_label=None, sample_weight=None):\n    281     \"\"\"Calculate true and false positives per binary classification threshold.\n\n...........................................................................\nC:\\Users\\Dusica\\Anaconda3\\lib\\site-packages\\sklearn\\metrics\\base.py in _average_binary_score(binary_metric=<function roc_auc_score.<locals>._binary_roc_auc_score>, y_true=3245     no\n2348     no\n1660    yes\n42       no\n...o\n1426     no\nName: y, Length: 961, dtype: object, y_score=array([ 0.07597901,  0.09863563,  0.40801131,  0...3,  0.09430465,  0.09025455,\n        0.05109169]), average='macro', sample_weight=None)\n     70     y_type = type_of_target(y_true)\n     71     if y_type not in (\"binary\", \"multilabel-indicator\"):\n     72         raise ValueError(\"{0} format is not supported\".format(y_type))\n     73 \n     74     if y_type == \"binary\":\n---> 75         return binary_metric(y_true, y_score, sample_weight=sample_weight)\n        binary_metric = <function roc_auc_score.<locals>._binary_roc_auc_score>\n        y_true = 3245     no\n2348     no\n1660    yes\n42       no\n...o\n1426     no\nName: y, Length: 961, dtype: object\n        y_score = array([ 0.07597901,  0.09863563,  0.40801131,  0...3,  0.09430465,  0.09025455,\n        0.05109169])\n        sample_weight = None\n     76 \n     77     check_consistent_length(y_true, y_score, sample_weight)\n     78     y_true = check_array(y_true)\n     79     y_score = check_array(y_score)\n\n...........................................................................\nC:\\Users\\Dusica\\Anaconda3\\lib\\site-packages\\sklearn\\metrics\\ranking.py in _binary_roc_auc_score(y_true=3245     no\n2348     no\n1660    yes\n42       no\n...o\n1426     no\nName: y, Length: 961, dtype: object, y_score=array([ 0.07597901,  0.09863563,  0.40801131,  0...3,  0.09430465,  0.09025455,\n        0.05109169]), sample_weight=None)\n    267         if len(np.unique(y_true)) != 2:\n    268             raise ValueError(\"Only one class present in y_true. ROC AUC score \"\n    269                              \"is not defined in that case.\")\n    270 \n    271         fpr, tpr, tresholds = roc_curve(y_true, y_score,\n--> 272                                         sample_weight=sample_weight)\n        sample_weight = None\n    273         return auc(fpr, tpr, reorder=True)\n    274 \n    275     return _average_binary_score(\n    276         _binary_roc_auc_score, y_true, y_score, average,\n\n...........................................................................\nC:\\Users\\Dusica\\Anaconda3\\lib\\site-packages\\sklearn\\metrics\\ranking.py in roc_curve(y_true=3245     no\n2348     no\n1660    yes\n42       no\n...o\n1426     no\nName: y, Length: 961, dtype: object, y_score=array([ 0.07597901,  0.09863563,  0.40801131,  0...3,  0.09430465,  0.09025455,\n        0.05109169]), pos_label=None, sample_weight=None, drop_intermediate=True)\n    529     >>> thresholds\n    530     array([ 0.8 ,  0.4 ,  0.35,  0.1 ])\n    531 \n    532     \"\"\"\n    533     fps, tps, thresholds = _binary_clf_curve(\n--> 534         y_true, y_score, pos_label=pos_label, sample_weight=sample_weight)\n        y_true = 3245     no\n2348     no\n1660    yes\n42       no\n...o\n1426     no\nName: y, Length: 961, dtype: object\n        y_score = array([ 0.07597901,  0.09863563,  0.40801131,  0...3,  0.09430465,  0.09025455,\n        0.05109169])\n        pos_label = None\n        sample_weight = None\n    535 \n    536     # Attempt to drop thresholds corresponding to points in between and\n    537     # collinear with other points. These are always suboptimal and do not\n    538     # appear on a plotted ROC curve (and thus do not affect the AUC).\n\n...........................................................................\nC:\\Users\\Dusica\\Anaconda3\\lib\\site-packages\\sklearn\\metrics\\ranking.py in _binary_clf_curve(y_true=array(['no', 'no', 'yes', 'no', 'no', 'yes', 'no...     'no', 'no', 'no', 'no', 'no'], dtype=object), y_score=array([ 0.07597901,  0.09863563,  0.40801131,  0...3,  0.09430465,  0.09025455,\n        0.05109169]), pos_label=None, sample_weight=None)\n    332         not (np.array_equal(classes, [0, 1]) or\n    333              np.array_equal(classes, [-1, 1]) or\n    334              np.array_equal(classes, [0]) or\n    335              np.array_equal(classes, [-1]) or\n    336              np.array_equal(classes, [1]))):\n--> 337         raise ValueError(\"Data is not binary and pos_label is not specified\")\n    338     elif pos_label is None:\n    339         pos_label = 1.\n    340 \n    341     # make y_true a boolean vector\n\nValueError: Data is not binary and pos_label is not specified\n___________________________________________________________________________",
     "output_type": "error",
     "traceback": [
      "\u001b[1;31m---------------------------------------------------------------------------\u001b[0m",
      "\u001b[1;31mRemoteTraceback\u001b[0m                           Traceback (most recent call last)",
      "\u001b[1;31mRemoteTraceback\u001b[0m: \n\"\"\"\nTraceback (most recent call last):\n  File \"C:\\Users\\Dusica\\Anaconda3\\lib\\site-packages\\sklearn\\externals\\joblib\\_parallel_backends.py\", line 350, in __call__\n    return self.func(*args, **kwargs)\n  File \"C:\\Users\\Dusica\\Anaconda3\\lib\\site-packages\\sklearn\\externals\\joblib\\parallel.py\", line 131, in __call__\n    return [func(*args, **kwargs) for func, args, kwargs in self.items]\n  File \"C:\\Users\\Dusica\\Anaconda3\\lib\\site-packages\\sklearn\\externals\\joblib\\parallel.py\", line 131, in <listcomp>\n    return [func(*args, **kwargs) for func, args, kwargs in self.items]\n  File \"C:\\Users\\Dusica\\Anaconda3\\lib\\site-packages\\sklearn\\model_selection\\_validation.py\", line 488, in _fit_and_score\n    test_scores = _score(estimator, X_test, y_test, scorer, is_multimetric)\n  File \"C:\\Users\\Dusica\\Anaconda3\\lib\\site-packages\\sklearn\\model_selection\\_validation.py\", line 523, in _score\n    return _multimetric_score(estimator, X_test, y_test, scorer)\n  File \"C:\\Users\\Dusica\\Anaconda3\\lib\\site-packages\\sklearn\\model_selection\\_validation.py\", line 553, in _multimetric_score\n    score = scorer(estimator, X_test, y_test)\n  File \"C:\\Users\\Dusica\\Anaconda3\\lib\\site-packages\\sklearn\\metrics\\scorer.py\", line 206, in __call__\n    return self._sign * self._score_func(y, y_pred, **self._kwargs)\n  File \"C:\\Users\\Dusica\\Anaconda3\\lib\\site-packages\\sklearn\\metrics\\ranking.py\", line 277, in roc_auc_score\n    sample_weight=sample_weight)\n  File \"C:\\Users\\Dusica\\Anaconda3\\lib\\site-packages\\sklearn\\metrics\\base.py\", line 75, in _average_binary_score\n    return binary_metric(y_true, y_score, sample_weight=sample_weight)\n  File \"C:\\Users\\Dusica\\Anaconda3\\lib\\site-packages\\sklearn\\metrics\\ranking.py\", line 272, in _binary_roc_auc_score\n    sample_weight=sample_weight)\n  File \"C:\\Users\\Dusica\\Anaconda3\\lib\\site-packages\\sklearn\\metrics\\ranking.py\", line 534, in roc_curve\n    y_true, y_score, pos_label=pos_label, sample_weight=sample_weight)\n  File \"C:\\Users\\Dusica\\Anaconda3\\lib\\site-packages\\sklearn\\metrics\\ranking.py\", line 337, in _binary_clf_curve\n    raise ValueError(\"Data is not binary and pos_label is not specified\")\nValueError: Data is not binary and pos_label is not specified\n\nDuring handling of the above exception, another exception occurred:\n\nTraceback (most recent call last):\n  File \"C:\\Users\\Dusica\\Anaconda3\\lib\\multiprocessing\\pool.py\", line 119, in worker\n    result = (True, func(*args, **kwds))\n  File \"C:\\Users\\Dusica\\Anaconda3\\lib\\site-packages\\sklearn\\externals\\joblib\\_parallel_backends.py\", line 359, in __call__\n    raise TransportableException(text, e_type)\nsklearn.externals.joblib.my_exceptions.TransportableException: TransportableException\n___________________________________________________________________________\nValueError                                         Mon Jan 29 08:58:21 2018\nPID: 8100                Python 3.6.3: C:\\Users\\Dusica\\Anaconda3\\python.exe\n...........................................................................\nC:\\Users\\Dusica\\Anaconda3\\lib\\site-packages\\sklearn\\externals\\joblib\\parallel.py in __call__(self=<sklearn.externals.joblib.parallel.BatchedCalls object>)\n    126     def __init__(self, iterator_slice):\n    127         self.items = list(iterator_slice)\n    128         self._size = len(self.items)\n    129 \n    130     def __call__(self):\n--> 131         return [func(*args, **kwargs) for func, args, kwargs in self.items]\n        self.items = [(<function _fit_and_score>, (RandomForestClassifier(bootstrap=True, class_wei...te=None, verbose=0,\n            warm_start=False),       age  campaign  pdays  previous  emp.var.ra...    4.021  5195.799805  \n\n[2883 rows x 9 columns], 3245     no\n2348     no\n1660    yes\n42       no\n...\n4007     no\nName: y, Length: 2883, dtype: object, {'score': make_scorer(roc_auc_score, needs_threshold=True)}, array([ 919,  922,  940, ..., 2880, 2881, 2882]), array([  0,   1,   2,   3,   4,   5,   6,   7,  ...56, 957, 958, 959, 960, 961, 962, 963, 966, 967]), 0, {'max_depth': 5, 'n_estimators': 20}), {'error_score': 'raise', 'fit_params': {}, 'return_n_test_samples': True, 'return_parameters': False, 'return_times': True, 'return_train_score': True})]\n    132 \n    133     def __len__(self):\n    134         return self._size\n    135 \n\n...........................................................................\nC:\\Users\\Dusica\\Anaconda3\\lib\\site-packages\\sklearn\\externals\\joblib\\parallel.py in <listcomp>(.0=<list_iterator object>)\n    126     def __init__(self, iterator_slice):\n    127         self.items = list(iterator_slice)\n    128         self._size = len(self.items)\n    129 \n    130     def __call__(self):\n--> 131         return [func(*args, **kwargs) for func, args, kwargs in self.items]\n        func = <function _fit_and_score>\n        args = (RandomForestClassifier(bootstrap=True, class_wei...te=None, verbose=0,\n            warm_start=False),       age  campaign  pdays  previous  emp.var.ra...    4.021  5195.799805  \n\n[2883 rows x 9 columns], 3245     no\n2348     no\n1660    yes\n42       no\n...\n4007     no\nName: y, Length: 2883, dtype: object, {'score': make_scorer(roc_auc_score, needs_threshold=True)}, array([ 919,  922,  940, ..., 2880, 2881, 2882]), array([  0,   1,   2,   3,   4,   5,   6,   7,  ...56, 957, 958, 959, 960, 961, 962, 963, 966, 967]), 0, {'max_depth': 5, 'n_estimators': 20})\n        kwargs = {'error_score': 'raise', 'fit_params': {}, 'return_n_test_samples': True, 'return_parameters': False, 'return_times': True, 'return_train_score': True}\n    132 \n    133     def __len__(self):\n    134         return self._size\n    135 \n\n...........................................................................\nC:\\Users\\Dusica\\Anaconda3\\lib\\site-packages\\sklearn\\model_selection\\_validation.py in _fit_and_score(estimator=RandomForestClassifier(bootstrap=True, class_wei...te=None, verbose=0,\n            warm_start=False), X=      age  campaign  pdays  previous  emp.var.ra...    4.021  5195.799805  \n\n[2883 rows x 9 columns], y=3245     no\n2348     no\n1660    yes\n42       no\n...\n4007     no\nName: y, Length: 2883, dtype: object, scorer={'score': make_scorer(roc_auc_score, needs_threshold=True)}, train=array([ 919,  922,  940, ..., 2880, 2881, 2882]), test=array([  0,   1,   2,   3,   4,   5,   6,   7,  ...56, 957, 958, 959, 960, 961, 962, 963, 966, 967]), verbose=0, parameters={'max_depth': 5, 'n_estimators': 20}, fit_params={}, return_train_score=True, return_parameters=False, return_n_test_samples=True, return_times=True, error_score='raise')\n    483                              \" make sure that it has been spelled correctly.)\")\n    484 \n    485     else:\n    486         fit_time = time.time() - start_time\n    487         # _score will return dict if is_multimetric is True\n--> 488         test_scores = _score(estimator, X_test, y_test, scorer, is_multimetric)\n        test_scores = {}\n        estimator = RandomForestClassifier(bootstrap=True, class_wei...te=None, verbose=0,\n            warm_start=False)\n        X_test =       age  campaign  pdays  previous  emp.var.ra...     4.966  5228.100098  \n\n[961 rows x 9 columns]\n        y_test = 3245     no\n2348     no\n1660    yes\n42       no\n...o\n1426     no\nName: y, Length: 961, dtype: object\n        scorer = {'score': make_scorer(roc_auc_score, needs_threshold=True)}\n        is_multimetric = True\n    489         score_time = time.time() - start_time - fit_time\n    490         if return_train_score:\n    491             train_scores = _score(estimator, X_train, y_train, scorer,\n    492                                   is_multimetric)\n\n...........................................................................\nC:\\Users\\Dusica\\Anaconda3\\lib\\site-packages\\sklearn\\model_selection\\_validation.py in _score(estimator=RandomForestClassifier(bootstrap=True, class_wei...te=None, verbose=0,\n            warm_start=False), X_test=      age  campaign  pdays  previous  emp.var.ra...     4.966  5228.100098  \n\n[961 rows x 9 columns], y_test=3245     no\n2348     no\n1660    yes\n42       no\n...o\n1426     no\nName: y, Length: 961, dtype: object, scorer={'score': make_scorer(roc_auc_score, needs_threshold=True)}, is_multimetric=True)\n    518 \n    519     Will return a single float if is_multimetric is False and a dict of floats,\n    520     if is_multimetric is True\n    521     \"\"\"\n    522     if is_multimetric:\n--> 523         return _multimetric_score(estimator, X_test, y_test, scorer)\n        estimator = RandomForestClassifier(bootstrap=True, class_wei...te=None, verbose=0,\n            warm_start=False)\n        X_test =       age  campaign  pdays  previous  emp.var.ra...     4.966  5228.100098  \n\n[961 rows x 9 columns]\n        y_test = 3245     no\n2348     no\n1660    yes\n42       no\n...o\n1426     no\nName: y, Length: 961, dtype: object\n        scorer = {'score': make_scorer(roc_auc_score, needs_threshold=True)}\n    524     else:\n    525         if y_test is None:\n    526             score = scorer(estimator, X_test)\n    527         else:\n\n...........................................................................\nC:\\Users\\Dusica\\Anaconda3\\lib\\site-packages\\sklearn\\model_selection\\_validation.py in _multimetric_score(estimator=RandomForestClassifier(bootstrap=True, class_wei...te=None, verbose=0,\n            warm_start=False), X_test=      age  campaign  pdays  previous  emp.var.ra...     4.966  5228.100098  \n\n[961 rows x 9 columns], y_test=3245     no\n2348     no\n1660    yes\n42       no\n...o\n1426     no\nName: y, Length: 961, dtype: object, scorers={'score': make_scorer(roc_auc_score, needs_threshold=True)})\n    548 \n    549     for name, scorer in scorers.items():\n    550         if y_test is None:\n    551             score = scorer(estimator, X_test)\n    552         else:\n--> 553             score = scorer(estimator, X_test, y_test)\n        score = undefined\n        scorer = make_scorer(roc_auc_score, needs_threshold=True)\n        estimator = RandomForestClassifier(bootstrap=True, class_wei...te=None, verbose=0,\n            warm_start=False)\n        X_test =       age  campaign  pdays  previous  emp.var.ra...     4.966  5228.100098  \n\n[961 rows x 9 columns]\n        y_test = 3245     no\n2348     no\n1660    yes\n42       no\n...o\n1426     no\nName: y, Length: 961, dtype: object\n    554 \n    555         if hasattr(score, 'item'):\n    556             try:\n    557                 # e.g. unwrap memmapped scalars\n\n...........................................................................\nC:\\Users\\Dusica\\Anaconda3\\lib\\site-packages\\sklearn\\metrics\\scorer.py in __call__(self=make_scorer(roc_auc_score, needs_threshold=True), clf=RandomForestClassifier(bootstrap=True, class_wei...te=None, verbose=0,\n            warm_start=False), X=      age  campaign  pdays  previous  emp.var.ra...     4.966  5228.100098  \n\n[961 rows x 9 columns], y=3245     no\n2348     no\n1660    yes\n42       no\n...o\n1426     no\nName: y, Length: 961, dtype: object, sample_weight=None)\n    201         if sample_weight is not None:\n    202             return self._sign * self._score_func(y, y_pred,\n    203                                                  sample_weight=sample_weight,\n    204                                                  **self._kwargs)\n    205         else:\n--> 206             return self._sign * self._score_func(y, y_pred, **self._kwargs)\n        self._sign = 1\n        self._score_func = <function roc_auc_score>\n        y = 3245     no\n2348     no\n1660    yes\n42       no\n...o\n1426     no\nName: y, Length: 961, dtype: object\n        y_pred = array([ 0.07597901,  0.09863563,  0.40801131,  0...3,  0.09430465,  0.09025455,\n        0.05109169])\n        self._kwargs = {}\n    207 \n    208     def _factory_args(self):\n    209         return \", needs_threshold=True\"\n    210 \n\n...........................................................................\nC:\\Users\\Dusica\\Anaconda3\\lib\\site-packages\\sklearn\\metrics\\ranking.py in roc_auc_score(y_true=3245     no\n2348     no\n1660    yes\n42       no\n...o\n1426     no\nName: y, Length: 961, dtype: object, y_score=array([ 0.07597901,  0.09863563,  0.40801131,  0...3,  0.09430465,  0.09025455,\n        0.05109169]), average='macro', sample_weight=None)\n    272                                         sample_weight=sample_weight)\n    273         return auc(fpr, tpr, reorder=True)\n    274 \n    275     return _average_binary_score(\n    276         _binary_roc_auc_score, y_true, y_score, average,\n--> 277         sample_weight=sample_weight)\n        sample_weight = None\n    278 \n    279 \n    280 def _binary_clf_curve(y_true, y_score, pos_label=None, sample_weight=None):\n    281     \"\"\"Calculate true and false positives per binary classification threshold.\n\n...........................................................................\nC:\\Users\\Dusica\\Anaconda3\\lib\\site-packages\\sklearn\\metrics\\base.py in _average_binary_score(binary_metric=<function roc_auc_score.<locals>._binary_roc_auc_score>, y_true=3245     no\n2348     no\n1660    yes\n42       no\n...o\n1426     no\nName: y, Length: 961, dtype: object, y_score=array([ 0.07597901,  0.09863563,  0.40801131,  0...3,  0.09430465,  0.09025455,\n        0.05109169]), average='macro', sample_weight=None)\n     70     y_type = type_of_target(y_true)\n     71     if y_type not in (\"binary\", \"multilabel-indicator\"):\n     72         raise ValueError(\"{0} format is not supported\".format(y_type))\n     73 \n     74     if y_type == \"binary\":\n---> 75         return binary_metric(y_true, y_score, sample_weight=sample_weight)\n        binary_metric = <function roc_auc_score.<locals>._binary_roc_auc_score>\n        y_true = 3245     no\n2348     no\n1660    yes\n42       no\n...o\n1426     no\nName: y, Length: 961, dtype: object\n        y_score = array([ 0.07597901,  0.09863563,  0.40801131,  0...3,  0.09430465,  0.09025455,\n        0.05109169])\n        sample_weight = None\n     76 \n     77     check_consistent_length(y_true, y_score, sample_weight)\n     78     y_true = check_array(y_true)\n     79     y_score = check_array(y_score)\n\n...........................................................................\nC:\\Users\\Dusica\\Anaconda3\\lib\\site-packages\\sklearn\\metrics\\ranking.py in _binary_roc_auc_score(y_true=3245     no\n2348     no\n1660    yes\n42       no\n...o\n1426     no\nName: y, Length: 961, dtype: object, y_score=array([ 0.07597901,  0.09863563,  0.40801131,  0...3,  0.09430465,  0.09025455,\n        0.05109169]), sample_weight=None)\n    267         if len(np.unique(y_true)) != 2:\n    268             raise ValueError(\"Only one class present in y_true. ROC AUC score \"\n    269                              \"is not defined in that case.\")\n    270 \n    271         fpr, tpr, tresholds = roc_curve(y_true, y_score,\n--> 272                                         sample_weight=sample_weight)\n        sample_weight = None\n    273         return auc(fpr, tpr, reorder=True)\n    274 \n    275     return _average_binary_score(\n    276         _binary_roc_auc_score, y_true, y_score, average,\n\n...........................................................................\nC:\\Users\\Dusica\\Anaconda3\\lib\\site-packages\\sklearn\\metrics\\ranking.py in roc_curve(y_true=3245     no\n2348     no\n1660    yes\n42       no\n...o\n1426     no\nName: y, Length: 961, dtype: object, y_score=array([ 0.07597901,  0.09863563,  0.40801131,  0...3,  0.09430465,  0.09025455,\n        0.05109169]), pos_label=None, sample_weight=None, drop_intermediate=True)\n    529     >>> thresholds\n    530     array([ 0.8 ,  0.4 ,  0.35,  0.1 ])\n    531 \n    532     \"\"\"\n    533     fps, tps, thresholds = _binary_clf_curve(\n--> 534         y_true, y_score, pos_label=pos_label, sample_weight=sample_weight)\n        y_true = 3245     no\n2348     no\n1660    yes\n42       no\n...o\n1426     no\nName: y, Length: 961, dtype: object\n        y_score = array([ 0.07597901,  0.09863563,  0.40801131,  0...3,  0.09430465,  0.09025455,\n        0.05109169])\n        pos_label = None\n        sample_weight = None\n    535 \n    536     # Attempt to drop thresholds corresponding to points in between and\n    537     # collinear with other points. These are always suboptimal and do not\n    538     # appear on a plotted ROC curve (and thus do not affect the AUC).\n\n...........................................................................\nC:\\Users\\Dusica\\Anaconda3\\lib\\site-packages\\sklearn\\metrics\\ranking.py in _binary_clf_curve(y_true=array(['no', 'no', 'yes', 'no', 'no', 'yes', 'no...     'no', 'no', 'no', 'no', 'no'], dtype=object), y_score=array([ 0.07597901,  0.09863563,  0.40801131,  0...3,  0.09430465,  0.09025455,\n        0.05109169]), pos_label=None, sample_weight=None)\n    332         not (np.array_equal(classes, [0, 1]) or\n    333              np.array_equal(classes, [-1, 1]) or\n    334              np.array_equal(classes, [0]) or\n    335              np.array_equal(classes, [-1]) or\n    336              np.array_equal(classes, [1]))):\n--> 337         raise ValueError(\"Data is not binary and pos_label is not specified\")\n    338     elif pos_label is None:\n    339         pos_label = 1.\n    340 \n    341     # make y_true a boolean vector\n\nValueError: Data is not binary and pos_label is not specified\n___________________________________________________________________________\n\"\"\"",
      "\nThe above exception was the direct cause of the following exception:\n",
      "\u001b[1;31mTransportableException\u001b[0m                    Traceback (most recent call last)",
      "\u001b[1;32m~\\Anaconda3\\lib\\site-packages\\sklearn\\externals\\joblib\\parallel.py\u001b[0m in \u001b[0;36mretrieve\u001b[1;34m(self)\u001b[0m\n\u001b[0;32m    698\u001b[0m                 \u001b[1;32mif\u001b[0m \u001b[0mgetattr\u001b[0m\u001b[1;33m(\u001b[0m\u001b[0mself\u001b[0m\u001b[1;33m.\u001b[0m\u001b[0m_backend\u001b[0m\u001b[1;33m,\u001b[0m \u001b[1;34m'supports_timeout'\u001b[0m\u001b[1;33m,\u001b[0m \u001b[1;32mFalse\u001b[0m\u001b[1;33m)\u001b[0m\u001b[1;33m:\u001b[0m\u001b[1;33m\u001b[0m\u001b[0m\n\u001b[1;32m--> 699\u001b[1;33m                     \u001b[0mself\u001b[0m\u001b[1;33m.\u001b[0m\u001b[0m_output\u001b[0m\u001b[1;33m.\u001b[0m\u001b[0mextend\u001b[0m\u001b[1;33m(\u001b[0m\u001b[0mjob\u001b[0m\u001b[1;33m.\u001b[0m\u001b[0mget\u001b[0m\u001b[1;33m(\u001b[0m\u001b[0mtimeout\u001b[0m\u001b[1;33m=\u001b[0m\u001b[0mself\u001b[0m\u001b[1;33m.\u001b[0m\u001b[0mtimeout\u001b[0m\u001b[1;33m)\u001b[0m\u001b[1;33m)\u001b[0m\u001b[1;33m\u001b[0m\u001b[0m\n\u001b[0m\u001b[0;32m    700\u001b[0m                 \u001b[1;32melse\u001b[0m\u001b[1;33m:\u001b[0m\u001b[1;33m\u001b[0m\u001b[0m\n",
      "\u001b[1;32m~\\Anaconda3\\lib\\multiprocessing\\pool.py\u001b[0m in \u001b[0;36mget\u001b[1;34m(self, timeout)\u001b[0m\n\u001b[0;32m    643\u001b[0m         \u001b[1;32melse\u001b[0m\u001b[1;33m:\u001b[0m\u001b[1;33m\u001b[0m\u001b[0m\n\u001b[1;32m--> 644\u001b[1;33m             \u001b[1;32mraise\u001b[0m \u001b[0mself\u001b[0m\u001b[1;33m.\u001b[0m\u001b[0m_value\u001b[0m\u001b[1;33m\u001b[0m\u001b[0m\n\u001b[0m\u001b[0;32m    645\u001b[0m \u001b[1;33m\u001b[0m\u001b[0m\n",
      "\u001b[1;31mTransportableException\u001b[0m: TransportableException\n___________________________________________________________________________\nValueError                                         Mon Jan 29 08:58:21 2018\nPID: 8100                Python 3.6.3: C:\\Users\\Dusica\\Anaconda3\\python.exe\n...........................................................................\nC:\\Users\\Dusica\\Anaconda3\\lib\\site-packages\\sklearn\\externals\\joblib\\parallel.py in __call__(self=<sklearn.externals.joblib.parallel.BatchedCalls object>)\n    126     def __init__(self, iterator_slice):\n    127         self.items = list(iterator_slice)\n    128         self._size = len(self.items)\n    129 \n    130     def __call__(self):\n--> 131         return [func(*args, **kwargs) for func, args, kwargs in self.items]\n        self.items = [(<function _fit_and_score>, (RandomForestClassifier(bootstrap=True, class_wei...te=None, verbose=0,\n            warm_start=False),       age  campaign  pdays  previous  emp.var.ra...    4.021  5195.799805  \n\n[2883 rows x 9 columns], 3245     no\n2348     no\n1660    yes\n42       no\n...\n4007     no\nName: y, Length: 2883, dtype: object, {'score': make_scorer(roc_auc_score, needs_threshold=True)}, array([ 919,  922,  940, ..., 2880, 2881, 2882]), array([  0,   1,   2,   3,   4,   5,   6,   7,  ...56, 957, 958, 959, 960, 961, 962, 963, 966, 967]), 0, {'max_depth': 5, 'n_estimators': 20}), {'error_score': 'raise', 'fit_params': {}, 'return_n_test_samples': True, 'return_parameters': False, 'return_times': True, 'return_train_score': True})]\n    132 \n    133     def __len__(self):\n    134         return self._size\n    135 \n\n...........................................................................\nC:\\Users\\Dusica\\Anaconda3\\lib\\site-packages\\sklearn\\externals\\joblib\\parallel.py in <listcomp>(.0=<list_iterator object>)\n    126     def __init__(self, iterator_slice):\n    127         self.items = list(iterator_slice)\n    128         self._size = len(self.items)\n    129 \n    130     def __call__(self):\n--> 131         return [func(*args, **kwargs) for func, args, kwargs in self.items]\n        func = <function _fit_and_score>\n        args = (RandomForestClassifier(bootstrap=True, class_wei...te=None, verbose=0,\n            warm_start=False),       age  campaign  pdays  previous  emp.var.ra...    4.021  5195.799805  \n\n[2883 rows x 9 columns], 3245     no\n2348     no\n1660    yes\n42       no\n...\n4007     no\nName: y, Length: 2883, dtype: object, {'score': make_scorer(roc_auc_score, needs_threshold=True)}, array([ 919,  922,  940, ..., 2880, 2881, 2882]), array([  0,   1,   2,   3,   4,   5,   6,   7,  ...56, 957, 958, 959, 960, 961, 962, 963, 966, 967]), 0, {'max_depth': 5, 'n_estimators': 20})\n        kwargs = {'error_score': 'raise', 'fit_params': {}, 'return_n_test_samples': True, 'return_parameters': False, 'return_times': True, 'return_train_score': True}\n    132 \n    133     def __len__(self):\n    134         return self._size\n    135 \n\n...........................................................................\nC:\\Users\\Dusica\\Anaconda3\\lib\\site-packages\\sklearn\\model_selection\\_validation.py in _fit_and_score(estimator=RandomForestClassifier(bootstrap=True, class_wei...te=None, verbose=0,\n            warm_start=False), X=      age  campaign  pdays  previous  emp.var.ra...    4.021  5195.799805  \n\n[2883 rows x 9 columns], y=3245     no\n2348     no\n1660    yes\n42       no\n...\n4007     no\nName: y, Length: 2883, dtype: object, scorer={'score': make_scorer(roc_auc_score, needs_threshold=True)}, train=array([ 919,  922,  940, ..., 2880, 2881, 2882]), test=array([  0,   1,   2,   3,   4,   5,   6,   7,  ...56, 957, 958, 959, 960, 961, 962, 963, 966, 967]), verbose=0, parameters={'max_depth': 5, 'n_estimators': 20}, fit_params={}, return_train_score=True, return_parameters=False, return_n_test_samples=True, return_times=True, error_score='raise')\n    483                              \" make sure that it has been spelled correctly.)\")\n    484 \n    485     else:\n    486         fit_time = time.time() - start_time\n    487         # _score will return dict if is_multimetric is True\n--> 488         test_scores = _score(estimator, X_test, y_test, scorer, is_multimetric)\n        test_scores = {}\n        estimator = RandomForestClassifier(bootstrap=True, class_wei...te=None, verbose=0,\n            warm_start=False)\n        X_test =       age  campaign  pdays  previous  emp.var.ra...     4.966  5228.100098  \n\n[961 rows x 9 columns]\n        y_test = 3245     no\n2348     no\n1660    yes\n42       no\n...o\n1426     no\nName: y, Length: 961, dtype: object\n        scorer = {'score': make_scorer(roc_auc_score, needs_threshold=True)}\n        is_multimetric = True\n    489         score_time = time.time() - start_time - fit_time\n    490         if return_train_score:\n    491             train_scores = _score(estimator, X_train, y_train, scorer,\n    492                                   is_multimetric)\n\n...........................................................................\nC:\\Users\\Dusica\\Anaconda3\\lib\\site-packages\\sklearn\\model_selection\\_validation.py in _score(estimator=RandomForestClassifier(bootstrap=True, class_wei...te=None, verbose=0,\n            warm_start=False), X_test=      age  campaign  pdays  previous  emp.var.ra...     4.966  5228.100098  \n\n[961 rows x 9 columns], y_test=3245     no\n2348     no\n1660    yes\n42       no\n...o\n1426     no\nName: y, Length: 961, dtype: object, scorer={'score': make_scorer(roc_auc_score, needs_threshold=True)}, is_multimetric=True)\n    518 \n    519     Will return a single float if is_multimetric is False and a dict of floats,\n    520     if is_multimetric is True\n    521     \"\"\"\n    522     if is_multimetric:\n--> 523         return _multimetric_score(estimator, X_test, y_test, scorer)\n        estimator = RandomForestClassifier(bootstrap=True, class_wei...te=None, verbose=0,\n            warm_start=False)\n        X_test =       age  campaign  pdays  previous  emp.var.ra...     4.966  5228.100098  \n\n[961 rows x 9 columns]\n        y_test = 3245     no\n2348     no\n1660    yes\n42       no\n...o\n1426     no\nName: y, Length: 961, dtype: object\n        scorer = {'score': make_scorer(roc_auc_score, needs_threshold=True)}\n    524     else:\n    525         if y_test is None:\n    526             score = scorer(estimator, X_test)\n    527         else:\n\n...........................................................................\nC:\\Users\\Dusica\\Anaconda3\\lib\\site-packages\\sklearn\\model_selection\\_validation.py in _multimetric_score(estimator=RandomForestClassifier(bootstrap=True, class_wei...te=None, verbose=0,\n            warm_start=False), X_test=      age  campaign  pdays  previous  emp.var.ra...     4.966  5228.100098  \n\n[961 rows x 9 columns], y_test=3245     no\n2348     no\n1660    yes\n42       no\n...o\n1426     no\nName: y, Length: 961, dtype: object, scorers={'score': make_scorer(roc_auc_score, needs_threshold=True)})\n    548 \n    549     for name, scorer in scorers.items():\n    550         if y_test is None:\n    551             score = scorer(estimator, X_test)\n    552         else:\n--> 553             score = scorer(estimator, X_test, y_test)\n        score = undefined\n        scorer = make_scorer(roc_auc_score, needs_threshold=True)\n        estimator = RandomForestClassifier(bootstrap=True, class_wei...te=None, verbose=0,\n            warm_start=False)\n        X_test =       age  campaign  pdays  previous  emp.var.ra...     4.966  5228.100098  \n\n[961 rows x 9 columns]\n        y_test = 3245     no\n2348     no\n1660    yes\n42       no\n...o\n1426     no\nName: y, Length: 961, dtype: object\n    554 \n    555         if hasattr(score, 'item'):\n    556             try:\n    557                 # e.g. unwrap memmapped scalars\n\n...........................................................................\nC:\\Users\\Dusica\\Anaconda3\\lib\\site-packages\\sklearn\\metrics\\scorer.py in __call__(self=make_scorer(roc_auc_score, needs_threshold=True), clf=RandomForestClassifier(bootstrap=True, class_wei...te=None, verbose=0,\n            warm_start=False), X=      age  campaign  pdays  previous  emp.var.ra...     4.966  5228.100098  \n\n[961 rows x 9 columns], y=3245     no\n2348     no\n1660    yes\n42       no\n...o\n1426     no\nName: y, Length: 961, dtype: object, sample_weight=None)\n    201         if sample_weight is not None:\n    202             return self._sign * self._score_func(y, y_pred,\n    203                                                  sample_weight=sample_weight,\n    204                                                  **self._kwargs)\n    205         else:\n--> 206             return self._sign * self._score_func(y, y_pred, **self._kwargs)\n        self._sign = 1\n        self._score_func = <function roc_auc_score>\n        y = 3245     no\n2348     no\n1660    yes\n42       no\n...o\n1426     no\nName: y, Length: 961, dtype: object\n        y_pred = array([ 0.07597901,  0.09863563,  0.40801131,  0...3,  0.09430465,  0.09025455,\n        0.05109169])\n        self._kwargs = {}\n    207 \n    208     def _factory_args(self):\n    209         return \", needs_threshold=True\"\n    210 \n\n...........................................................................\nC:\\Users\\Dusica\\Anaconda3\\lib\\site-packages\\sklearn\\metrics\\ranking.py in roc_auc_score(y_true=3245     no\n2348     no\n1660    yes\n42       no\n...o\n1426     no\nName: y, Length: 961, dtype: object, y_score=array([ 0.07597901,  0.09863563,  0.40801131,  0...3,  0.09430465,  0.09025455,\n        0.05109169]), average='macro', sample_weight=None)\n    272                                         sample_weight=sample_weight)\n    273         return auc(fpr, tpr, reorder=True)\n    274 \n    275     return _average_binary_score(\n    276         _binary_roc_auc_score, y_true, y_score, average,\n--> 277         sample_weight=sample_weight)\n        sample_weight = None\n    278 \n    279 \n    280 def _binary_clf_curve(y_true, y_score, pos_label=None, sample_weight=None):\n    281     \"\"\"Calculate true and false positives per binary classification threshold.\n\n...........................................................................\nC:\\Users\\Dusica\\Anaconda3\\lib\\site-packages\\sklearn\\metrics\\base.py in _average_binary_score(binary_metric=<function roc_auc_score.<locals>._binary_roc_auc_score>, y_true=3245     no\n2348     no\n1660    yes\n42       no\n...o\n1426     no\nName: y, Length: 961, dtype: object, y_score=array([ 0.07597901,  0.09863563,  0.40801131,  0...3,  0.09430465,  0.09025455,\n        0.05109169]), average='macro', sample_weight=None)\n     70     y_type = type_of_target(y_true)\n     71     if y_type not in (\"binary\", \"multilabel-indicator\"):\n     72         raise ValueError(\"{0} format is not supported\".format(y_type))\n     73 \n     74     if y_type == \"binary\":\n---> 75         return binary_metric(y_true, y_score, sample_weight=sample_weight)\n        binary_metric = <function roc_auc_score.<locals>._binary_roc_auc_score>\n        y_true = 3245     no\n2348     no\n1660    yes\n42       no\n...o\n1426     no\nName: y, Length: 961, dtype: object\n        y_score = array([ 0.07597901,  0.09863563,  0.40801131,  0...3,  0.09430465,  0.09025455,\n        0.05109169])\n        sample_weight = None\n     76 \n     77     check_consistent_length(y_true, y_score, sample_weight)\n     78     y_true = check_array(y_true)\n     79     y_score = check_array(y_score)\n\n...........................................................................\nC:\\Users\\Dusica\\Anaconda3\\lib\\site-packages\\sklearn\\metrics\\ranking.py in _binary_roc_auc_score(y_true=3245     no\n2348     no\n1660    yes\n42       no\n...o\n1426     no\nName: y, Length: 961, dtype: object, y_score=array([ 0.07597901,  0.09863563,  0.40801131,  0...3,  0.09430465,  0.09025455,\n        0.05109169]), sample_weight=None)\n    267         if len(np.unique(y_true)) != 2:\n    268             raise ValueError(\"Only one class present in y_true. ROC AUC score \"\n    269                              \"is not defined in that case.\")\n    270 \n    271         fpr, tpr, tresholds = roc_curve(y_true, y_score,\n--> 272                                         sample_weight=sample_weight)\n        sample_weight = None\n    273         return auc(fpr, tpr, reorder=True)\n    274 \n    275     return _average_binary_score(\n    276         _binary_roc_auc_score, y_true, y_score, average,\n\n...........................................................................\nC:\\Users\\Dusica\\Anaconda3\\lib\\site-packages\\sklearn\\metrics\\ranking.py in roc_curve(y_true=3245     no\n2348     no\n1660    yes\n42       no\n...o\n1426     no\nName: y, Length: 961, dtype: object, y_score=array([ 0.07597901,  0.09863563,  0.40801131,  0...3,  0.09430465,  0.09025455,\n        0.05109169]), pos_label=None, sample_weight=None, drop_intermediate=True)\n    529     >>> thresholds\n    530     array([ 0.8 ,  0.4 ,  0.35,  0.1 ])\n    531 \n    532     \"\"\"\n    533     fps, tps, thresholds = _binary_clf_curve(\n--> 534         y_true, y_score, pos_label=pos_label, sample_weight=sample_weight)\n        y_true = 3245     no\n2348     no\n1660    yes\n42       no\n...o\n1426     no\nName: y, Length: 961, dtype: object\n        y_score = array([ 0.07597901,  0.09863563,  0.40801131,  0...3,  0.09430465,  0.09025455,\n        0.05109169])\n        pos_label = None\n        sample_weight = None\n    535 \n    536     # Attempt to drop thresholds corresponding to points in between and\n    537     # collinear with other points. These are always suboptimal and do not\n    538     # appear on a plotted ROC curve (and thus do not affect the AUC).\n\n...........................................................................\nC:\\Users\\Dusica\\Anaconda3\\lib\\site-packages\\sklearn\\metrics\\ranking.py in _binary_clf_curve(y_true=array(['no', 'no', 'yes', 'no', 'no', 'yes', 'no...     'no', 'no', 'no', 'no', 'no'], dtype=object), y_score=array([ 0.07597901,  0.09863563,  0.40801131,  0...3,  0.09430465,  0.09025455,\n        0.05109169]), pos_label=None, sample_weight=None)\n    332         not (np.array_equal(classes, [0, 1]) or\n    333              np.array_equal(classes, [-1, 1]) or\n    334              np.array_equal(classes, [0]) or\n    335              np.array_equal(classes, [-1]) or\n    336              np.array_equal(classes, [1]))):\n--> 337         raise ValueError(\"Data is not binary and pos_label is not specified\")\n    338     elif pos_label is None:\n    339         pos_label = 1.\n    340 \n    341     # make y_true a boolean vector\n\nValueError: Data is not binary and pos_label is not specified\n___________________________________________________________________________",
      "\nDuring handling of the above exception, another exception occurred:\n",
      "\u001b[1;31mJoblibValueError\u001b[0m                          Traceback (most recent call last)",
      "\u001b[1;32m<ipython-input-95-58182a297873>\u001b[0m in \u001b[0;36m<module>\u001b[1;34m()\u001b[0m\n\u001b[1;32m----> 1\u001b[1;33m \u001b[0mopt_rf\u001b[0m\u001b[1;33m=\u001b[0m\u001b[0moptimizer\u001b[0m\u001b[1;33m.\u001b[0m\u001b[0mfit\u001b[0m\u001b[1;33m(\u001b[0m\u001b[0mx_train\u001b[0m\u001b[1;33m,\u001b[0m\u001b[0my_train\u001b[0m\u001b[1;33m)\u001b[0m\u001b[1;33m\u001b[0m\u001b[0m\n\u001b[0m",
      "\u001b[1;32m~\\Anaconda3\\lib\\site-packages\\sklearn\\model_selection\\_search.py\u001b[0m in \u001b[0;36mfit\u001b[1;34m(self, X, y, groups, **fit_params)\u001b[0m\n\u001b[0;32m    637\u001b[0m                                   error_score=self.error_score)\n\u001b[0;32m    638\u001b[0m           for parameters, (train, test) in product(candidate_params,\n\u001b[1;32m--> 639\u001b[1;33m                                                    cv.split(X, y, groups)))\n\u001b[0m\u001b[0;32m    640\u001b[0m \u001b[1;33m\u001b[0m\u001b[0m\n\u001b[0;32m    641\u001b[0m         \u001b[1;31m# if one choose to see train score, \"out\" will contain train score info\u001b[0m\u001b[1;33m\u001b[0m\u001b[1;33m\u001b[0m\u001b[0m\n",
      "\u001b[1;32m~\\Anaconda3\\lib\\site-packages\\sklearn\\externals\\joblib\\parallel.py\u001b[0m in \u001b[0;36m__call__\u001b[1;34m(self, iterable)\u001b[0m\n\u001b[0;32m    787\u001b[0m                 \u001b[1;31m# consumption.\u001b[0m\u001b[1;33m\u001b[0m\u001b[1;33m\u001b[0m\u001b[0m\n\u001b[0;32m    788\u001b[0m                 \u001b[0mself\u001b[0m\u001b[1;33m.\u001b[0m\u001b[0m_iterating\u001b[0m \u001b[1;33m=\u001b[0m \u001b[1;32mFalse\u001b[0m\u001b[1;33m\u001b[0m\u001b[0m\n\u001b[1;32m--> 789\u001b[1;33m             \u001b[0mself\u001b[0m\u001b[1;33m.\u001b[0m\u001b[0mretrieve\u001b[0m\u001b[1;33m(\u001b[0m\u001b[1;33m)\u001b[0m\u001b[1;33m\u001b[0m\u001b[0m\n\u001b[0m\u001b[0;32m    790\u001b[0m             \u001b[1;31m# Make sure that we get a last message telling us we are done\u001b[0m\u001b[1;33m\u001b[0m\u001b[1;33m\u001b[0m\u001b[0m\n\u001b[0;32m    791\u001b[0m             \u001b[0melapsed_time\u001b[0m \u001b[1;33m=\u001b[0m \u001b[0mtime\u001b[0m\u001b[1;33m.\u001b[0m\u001b[0mtime\u001b[0m\u001b[1;33m(\u001b[0m\u001b[1;33m)\u001b[0m \u001b[1;33m-\u001b[0m \u001b[0mself\u001b[0m\u001b[1;33m.\u001b[0m\u001b[0m_start_time\u001b[0m\u001b[1;33m\u001b[0m\u001b[0m\n",
      "\u001b[1;32m~\\Anaconda3\\lib\\site-packages\\sklearn\\externals\\joblib\\parallel.py\u001b[0m in \u001b[0;36mretrieve\u001b[1;34m(self)\u001b[0m\n\u001b[0;32m    738\u001b[0m                     \u001b[0mexception\u001b[0m \u001b[1;33m=\u001b[0m \u001b[0mexception_type\u001b[0m\u001b[1;33m(\u001b[0m\u001b[0mreport\u001b[0m\u001b[1;33m)\u001b[0m\u001b[1;33m\u001b[0m\u001b[0m\n\u001b[0;32m    739\u001b[0m \u001b[1;33m\u001b[0m\u001b[0m\n\u001b[1;32m--> 740\u001b[1;33m                     \u001b[1;32mraise\u001b[0m \u001b[0mexception\u001b[0m\u001b[1;33m\u001b[0m\u001b[0m\n\u001b[0m\u001b[0;32m    741\u001b[0m \u001b[1;33m\u001b[0m\u001b[0m\n\u001b[0;32m    742\u001b[0m     \u001b[1;32mdef\u001b[0m \u001b[0m__call__\u001b[0m\u001b[1;33m(\u001b[0m\u001b[0mself\u001b[0m\u001b[1;33m,\u001b[0m \u001b[0miterable\u001b[0m\u001b[1;33m)\u001b[0m\u001b[1;33m:\u001b[0m\u001b[1;33m\u001b[0m\u001b[0m\n",
      "\u001b[1;31mJoblibValueError\u001b[0m: JoblibValueError\n___________________________________________________________________________\nMultiprocessing exception:\n...........................................................................\nC:\\Users\\Dusica\\Anaconda3\\lib\\runpy.py in _run_module_as_main(mod_name='ipykernel_launcher', alter_argv=1)\n    188         sys.exit(msg)\n    189     main_globals = sys.modules[\"__main__\"].__dict__\n    190     if alter_argv:\n    191         sys.argv[0] = mod_spec.origin\n    192     return _run_code(code, main_globals, None,\n--> 193                      \"__main__\", mod_spec)\n        mod_spec = ModuleSpec(name='ipykernel_launcher', loader=<_f...nda3\\\\lib\\\\site-packages\\\\ipykernel_launcher.py')\n    194 \n    195 def run_module(mod_name, init_globals=None,\n    196                run_name=None, alter_sys=False):\n    197     \"\"\"Execute a module's code without importing it\n\n...........................................................................\nC:\\Users\\Dusica\\Anaconda3\\lib\\runpy.py in _run_code(code=<code object <module> at 0x02ED6B78, file \"C:\\Us...lib\\site-packages\\ipykernel_launcher.py\", line 5>, run_globals={'__annotations__': {}, '__builtins__': <module 'builtins' (built-in)>, '__cached__': r'C:\\Users\\Dusica\\Anaconda3\\lib\\site-packages\\__pycache__\\ipykernel_launcher.cpython-36.pyc', '__doc__': 'Entry point for launching an IPython kernel.\\n\\nTh...orts until\\nafter removing the cwd from sys.path.\\n', '__file__': r'C:\\Users\\Dusica\\Anaconda3\\lib\\site-packages\\ipykernel_launcher.py', '__loader__': <_frozen_importlib_external.SourceFileLoader object>, '__name__': '__main__', '__package__': '', '__spec__': ModuleSpec(name='ipykernel_launcher', loader=<_f...nda3\\\\lib\\\\site-packages\\\\ipykernel_launcher.py'), 'app': <module 'ipykernel.kernelapp' from 'C:\\\\Users\\\\D...a3\\\\lib\\\\site-packages\\\\ipykernel\\\\kernelapp.py'>, ...}, init_globals=None, mod_name='__main__', mod_spec=ModuleSpec(name='ipykernel_launcher', loader=<_f...nda3\\\\lib\\\\site-packages\\\\ipykernel_launcher.py'), pkg_name='', script_name=None)\n     80                        __cached__ = cached,\n     81                        __doc__ = None,\n     82                        __loader__ = loader,\n     83                        __package__ = pkg_name,\n     84                        __spec__ = mod_spec)\n---> 85     exec(code, run_globals)\n        code = <code object <module> at 0x02ED6B78, file \"C:\\Us...lib\\site-packages\\ipykernel_launcher.py\", line 5>\n        run_globals = {'__annotations__': {}, '__builtins__': <module 'builtins' (built-in)>, '__cached__': r'C:\\Users\\Dusica\\Anaconda3\\lib\\site-packages\\__pycache__\\ipykernel_launcher.cpython-36.pyc', '__doc__': 'Entry point for launching an IPython kernel.\\n\\nTh...orts until\\nafter removing the cwd from sys.path.\\n', '__file__': r'C:\\Users\\Dusica\\Anaconda3\\lib\\site-packages\\ipykernel_launcher.py', '__loader__': <_frozen_importlib_external.SourceFileLoader object>, '__name__': '__main__', '__package__': '', '__spec__': ModuleSpec(name='ipykernel_launcher', loader=<_f...nda3\\\\lib\\\\site-packages\\\\ipykernel_launcher.py'), 'app': <module 'ipykernel.kernelapp' from 'C:\\\\Users\\\\D...a3\\\\lib\\\\site-packages\\\\ipykernel\\\\kernelapp.py'>, ...}\n     86     return run_globals\n     87 \n     88 def _run_module_code(code, init_globals=None,\n     89                     mod_name=None, mod_spec=None,\n\n...........................................................................\nC:\\Users\\Dusica\\Anaconda3\\lib\\site-packages\\ipykernel_launcher.py in <module>()\n     11     # This is added back by InteractiveShellApp.init_path()\n     12     if sys.path[0] == '':\n     13         del sys.path[0]\n     14 \n     15     from ipykernel import kernelapp as app\n---> 16     app.launch_new_instance()\n\n...........................................................................\nC:\\Users\\Dusica\\Anaconda3\\lib\\site-packages\\traitlets\\config\\application.py in launch_instance(cls=<class 'ipykernel.kernelapp.IPKernelApp'>, argv=None, **kwargs={})\n    653 \n    654         If a global instance already exists, this reinitializes and starts it\n    655         \"\"\"\n    656         app = cls.instance(**kwargs)\n    657         app.initialize(argv)\n--> 658         app.start()\n        app.start = <bound method IPKernelApp.start of <ipykernel.kernelapp.IPKernelApp object>>\n    659 \n    660 #-----------------------------------------------------------------------------\n    661 # utility functions, for convenience\n    662 #-----------------------------------------------------------------------------\n\n...........................................................................\nC:\\Users\\Dusica\\Anaconda3\\lib\\site-packages\\ipykernel\\kernelapp.py in start(self=<ipykernel.kernelapp.IPKernelApp object>)\n    472             return self.subapp.start()\n    473         if self.poller is not None:\n    474             self.poller.start()\n    475         self.kernel.start()\n    476         try:\n--> 477             ioloop.IOLoop.instance().start()\n    478         except KeyboardInterrupt:\n    479             pass\n    480 \n    481 launch_new_instance = IPKernelApp.launch_instance\n\n...........................................................................\nC:\\Users\\Dusica\\Anaconda3\\lib\\site-packages\\zmq\\eventloop\\ioloop.py in start(self=<zmq.eventloop.ioloop.ZMQIOLoop object>)\n    172             )\n    173         return loop\n    174     \n    175     def start(self):\n    176         try:\n--> 177             super(ZMQIOLoop, self).start()\n        self.start = <bound method ZMQIOLoop.start of <zmq.eventloop.ioloop.ZMQIOLoop object>>\n    178         except ZMQError as e:\n    179             if e.errno == ETERM:\n    180                 # quietly return on ETERM\n    181                 pass\n\n...........................................................................\nC:\\Users\\Dusica\\Anaconda3\\lib\\site-packages\\tornado\\ioloop.py in start(self=<zmq.eventloop.ioloop.ZMQIOLoop object>)\n    883                 self._events.update(event_pairs)\n    884                 while self._events:\n    885                     fd, events = self._events.popitem()\n    886                     try:\n    887                         fd_obj, handler_func = self._handlers[fd]\n--> 888                         handler_func(fd_obj, events)\n        handler_func = <function wrap.<locals>.null_wrapper>\n        fd_obj = <zmq.sugar.socket.Socket object>\n        events = 1\n    889                     except (OSError, IOError) as e:\n    890                         if errno_from_exception(e) == errno.EPIPE:\n    891                             # Happens when the client closes the connection\n    892                             pass\n\n...........................................................................\nC:\\Users\\Dusica\\Anaconda3\\lib\\site-packages\\tornado\\stack_context.py in null_wrapper(*args=(<zmq.sugar.socket.Socket object>, 1), **kwargs={})\n    272         # Fast path when there are no active contexts.\n    273         def null_wrapper(*args, **kwargs):\n    274             try:\n    275                 current_state = _state.contexts\n    276                 _state.contexts = cap_contexts[0]\n--> 277                 return fn(*args, **kwargs)\n        args = (<zmq.sugar.socket.Socket object>, 1)\n        kwargs = {}\n    278             finally:\n    279                 _state.contexts = current_state\n    280         null_wrapper._wrapped = True\n    281         return null_wrapper\n\n...........................................................................\nC:\\Users\\Dusica\\Anaconda3\\lib\\site-packages\\zmq\\eventloop\\zmqstream.py in _handle_events(self=<zmq.eventloop.zmqstream.ZMQStream object>, fd=<zmq.sugar.socket.Socket object>, events=1)\n    435             # dispatch events:\n    436             if events & IOLoop.ERROR:\n    437                 gen_log.error(\"got POLLERR event on ZMQStream, which doesn't make sense\")\n    438                 return\n    439             if events & IOLoop.READ:\n--> 440                 self._handle_recv()\n        self._handle_recv = <bound method ZMQStream._handle_recv of <zmq.eventloop.zmqstream.ZMQStream object>>\n    441                 if not self.socket:\n    442                     return\n    443             if events & IOLoop.WRITE:\n    444                 self._handle_send()\n\n...........................................................................\nC:\\Users\\Dusica\\Anaconda3\\lib\\site-packages\\zmq\\eventloop\\zmqstream.py in _handle_recv(self=<zmq.eventloop.zmqstream.ZMQStream object>)\n    467                 gen_log.error(\"RECV Error: %s\"%zmq.strerror(e.errno))\n    468         else:\n    469             if self._recv_callback:\n    470                 callback = self._recv_callback\n    471                 # self._recv_callback = None\n--> 472                 self._run_callback(callback, msg)\n        self._run_callback = <bound method ZMQStream._run_callback of <zmq.eventloop.zmqstream.ZMQStream object>>\n        callback = <function wrap.<locals>.null_wrapper>\n        msg = [<zmq.sugar.frame.Frame object>, <zmq.sugar.frame.Frame object>, <zmq.sugar.frame.Frame object>, <zmq.sugar.frame.Frame object>, <zmq.sugar.frame.Frame object>, <zmq.sugar.frame.Frame object>, <zmq.sugar.frame.Frame object>]\n    473                 \n    474         # self.update_state()\n    475         \n    476 \n\n...........................................................................\nC:\\Users\\Dusica\\Anaconda3\\lib\\site-packages\\zmq\\eventloop\\zmqstream.py in _run_callback(self=<zmq.eventloop.zmqstream.ZMQStream object>, callback=<function wrap.<locals>.null_wrapper>, *args=([<zmq.sugar.frame.Frame object>, <zmq.sugar.frame.Frame object>, <zmq.sugar.frame.Frame object>, <zmq.sugar.frame.Frame object>, <zmq.sugar.frame.Frame object>, <zmq.sugar.frame.Frame object>, <zmq.sugar.frame.Frame object>],), **kwargs={})\n    409         close our socket.\"\"\"\n    410         try:\n    411             # Use a NullContext to ensure that all StackContexts are run\n    412             # inside our blanket exception handler rather than outside.\n    413             with stack_context.NullContext():\n--> 414                 callback(*args, **kwargs)\n        callback = <function wrap.<locals>.null_wrapper>\n        args = ([<zmq.sugar.frame.Frame object>, <zmq.sugar.frame.Frame object>, <zmq.sugar.frame.Frame object>, <zmq.sugar.frame.Frame object>, <zmq.sugar.frame.Frame object>, <zmq.sugar.frame.Frame object>, <zmq.sugar.frame.Frame object>],)\n        kwargs = {}\n    415         except:\n    416             gen_log.error(\"Uncaught exception, closing connection.\",\n    417                           exc_info=True)\n    418             # Close the socket on an uncaught exception from a user callback\n\n...........................................................................\nC:\\Users\\Dusica\\Anaconda3\\lib\\site-packages\\tornado\\stack_context.py in null_wrapper(*args=([<zmq.sugar.frame.Frame object>, <zmq.sugar.frame.Frame object>, <zmq.sugar.frame.Frame object>, <zmq.sugar.frame.Frame object>, <zmq.sugar.frame.Frame object>, <zmq.sugar.frame.Frame object>, <zmq.sugar.frame.Frame object>],), **kwargs={})\n    272         # Fast path when there are no active contexts.\n    273         def null_wrapper(*args, **kwargs):\n    274             try:\n    275                 current_state = _state.contexts\n    276                 _state.contexts = cap_contexts[0]\n--> 277                 return fn(*args, **kwargs)\n        args = ([<zmq.sugar.frame.Frame object>, <zmq.sugar.frame.Frame object>, <zmq.sugar.frame.Frame object>, <zmq.sugar.frame.Frame object>, <zmq.sugar.frame.Frame object>, <zmq.sugar.frame.Frame object>, <zmq.sugar.frame.Frame object>],)\n        kwargs = {}\n    278             finally:\n    279                 _state.contexts = current_state\n    280         null_wrapper._wrapped = True\n    281         return null_wrapper\n\n...........................................................................\nC:\\Users\\Dusica\\Anaconda3\\lib\\site-packages\\ipykernel\\kernelbase.py in dispatcher(msg=[<zmq.sugar.frame.Frame object>, <zmq.sugar.frame.Frame object>, <zmq.sugar.frame.Frame object>, <zmq.sugar.frame.Frame object>, <zmq.sugar.frame.Frame object>, <zmq.sugar.frame.Frame object>, <zmq.sugar.frame.Frame object>])\n    278         if self.control_stream:\n    279             self.control_stream.on_recv(self.dispatch_control, copy=False)\n    280 \n    281         def make_dispatcher(stream):\n    282             def dispatcher(msg):\n--> 283                 return self.dispatch_shell(stream, msg)\n        msg = [<zmq.sugar.frame.Frame object>, <zmq.sugar.frame.Frame object>, <zmq.sugar.frame.Frame object>, <zmq.sugar.frame.Frame object>, <zmq.sugar.frame.Frame object>, <zmq.sugar.frame.Frame object>, <zmq.sugar.frame.Frame object>]\n    284             return dispatcher\n    285 \n    286         for s in self.shell_streams:\n    287             s.on_recv(make_dispatcher(s), copy=False)\n\n...........................................................................\nC:\\Users\\Dusica\\Anaconda3\\lib\\site-packages\\ipykernel\\kernelbase.py in dispatch_shell(self=<ipykernel.ipkernel.IPythonKernel object>, stream=<zmq.eventloop.zmqstream.ZMQStream object>, msg={'buffers': [], 'content': {'allow_stdin': True, 'code': 'opt_rf=optimizer.fit(x_train,y_train)\\n', 'silent': False, 'stop_on_error': True, 'store_history': True, 'user_expressions': {}}, 'header': {'date': datetime.datetime(2018, 1, 29, 7, 58, 18, 637675, tzinfo=datetime.timezone.utc), 'msg_id': '515d3def2295096090ca95bbff2e636e', 'msg_type': 'execute_request', 'session': '8e789c4ea8ddd1c6ab9b34f15e5fabdf', 'username': '', 'version': '5.2'}, 'metadata': {}, 'msg_id': '515d3def2295096090ca95bbff2e636e', 'msg_type': 'execute_request', 'parent_header': {}})\n    230             self.log.warn(\"Unknown message type: %r\", msg_type)\n    231         else:\n    232             self.log.debug(\"%s: %s\", msg_type, msg)\n    233             self.pre_handler_hook()\n    234             try:\n--> 235                 handler(stream, idents, msg)\n        handler = <bound method Kernel.execute_request of <ipykernel.ipkernel.IPythonKernel object>>\n        stream = <zmq.eventloop.zmqstream.ZMQStream object>\n        idents = [b'8e789c4ea8ddd1c6ab9b34f15e5fabdf']\n        msg = {'buffers': [], 'content': {'allow_stdin': True, 'code': 'opt_rf=optimizer.fit(x_train,y_train)\\n', 'silent': False, 'stop_on_error': True, 'store_history': True, 'user_expressions': {}}, 'header': {'date': datetime.datetime(2018, 1, 29, 7, 58, 18, 637675, tzinfo=datetime.timezone.utc), 'msg_id': '515d3def2295096090ca95bbff2e636e', 'msg_type': 'execute_request', 'session': '8e789c4ea8ddd1c6ab9b34f15e5fabdf', 'username': '', 'version': '5.2'}, 'metadata': {}, 'msg_id': '515d3def2295096090ca95bbff2e636e', 'msg_type': 'execute_request', 'parent_header': {}}\n    236             except Exception:\n    237                 self.log.error(\"Exception in message handler:\", exc_info=True)\n    238             finally:\n    239                 self.post_handler_hook()\n\n...........................................................................\nC:\\Users\\Dusica\\Anaconda3\\lib\\site-packages\\ipykernel\\kernelbase.py in execute_request(self=<ipykernel.ipkernel.IPythonKernel object>, stream=<zmq.eventloop.zmqstream.ZMQStream object>, ident=[b'8e789c4ea8ddd1c6ab9b34f15e5fabdf'], parent={'buffers': [], 'content': {'allow_stdin': True, 'code': 'opt_rf=optimizer.fit(x_train,y_train)\\n', 'silent': False, 'stop_on_error': True, 'store_history': True, 'user_expressions': {}}, 'header': {'date': datetime.datetime(2018, 1, 29, 7, 58, 18, 637675, tzinfo=datetime.timezone.utc), 'msg_id': '515d3def2295096090ca95bbff2e636e', 'msg_type': 'execute_request', 'session': '8e789c4ea8ddd1c6ab9b34f15e5fabdf', 'username': '', 'version': '5.2'}, 'metadata': {}, 'msg_id': '515d3def2295096090ca95bbff2e636e', 'msg_type': 'execute_request', 'parent_header': {}})\n    394         if not silent:\n    395             self.execution_count += 1\n    396             self._publish_execute_input(code, parent, self.execution_count)\n    397 \n    398         reply_content = self.do_execute(code, silent, store_history,\n--> 399                                         user_expressions, allow_stdin)\n        user_expressions = {}\n        allow_stdin = True\n    400 \n    401         # Flush output before sending the reply.\n    402         sys.stdout.flush()\n    403         sys.stderr.flush()\n\n...........................................................................\nC:\\Users\\Dusica\\Anaconda3\\lib\\site-packages\\ipykernel\\ipkernel.py in do_execute(self=<ipykernel.ipkernel.IPythonKernel object>, code='opt_rf=optimizer.fit(x_train,y_train)\\n', silent=False, store_history=True, user_expressions={}, allow_stdin=True)\n    191 \n    192         self._forward_input(allow_stdin)\n    193 \n    194         reply_content = {}\n    195         try:\n--> 196             res = shell.run_cell(code, store_history=store_history, silent=silent)\n        res = undefined\n        shell.run_cell = <bound method ZMQInteractiveShell.run_cell of <ipykernel.zmqshell.ZMQInteractiveShell object>>\n        code = 'opt_rf=optimizer.fit(x_train,y_train)\\n'\n        store_history = True\n        silent = False\n    197         finally:\n    198             self._restore_input()\n    199 \n    200         if res.error_before_exec is not None:\n\n...........................................................................\nC:\\Users\\Dusica\\Anaconda3\\lib\\site-packages\\ipykernel\\zmqshell.py in run_cell(self=<ipykernel.zmqshell.ZMQInteractiveShell object>, *args=('opt_rf=optimizer.fit(x_train,y_train)\\n',), **kwargs={'silent': False, 'store_history': True})\n    528             )\n    529         self.payload_manager.write_payload(payload)\n    530 \n    531     def run_cell(self, *args, **kwargs):\n    532         self._last_traceback = None\n--> 533         return super(ZMQInteractiveShell, self).run_cell(*args, **kwargs)\n        self.run_cell = <bound method ZMQInteractiveShell.run_cell of <ipykernel.zmqshell.ZMQInteractiveShell object>>\n        args = ('opt_rf=optimizer.fit(x_train,y_train)\\n',)\n        kwargs = {'silent': False, 'store_history': True}\n    534 \n    535     def _showtraceback(self, etype, evalue, stb):\n    536         # try to preserve ordering of tracebacks and print statements\n    537         sys.stdout.flush()\n\n...........................................................................\nC:\\Users\\Dusica\\Anaconda3\\lib\\site-packages\\IPython\\core\\interactiveshell.py in run_cell(self=<ipykernel.zmqshell.ZMQInteractiveShell object>, raw_cell='opt_rf=optimizer.fit(x_train,y_train)\\n', store_history=True, silent=False, shell_futures=True)\n   2693                 self.displayhook.exec_result = result\n   2694 \n   2695                 # Execute the user code\n   2696                 interactivity = \"none\" if silent else self.ast_node_interactivity\n   2697                 has_raised = self.run_ast_nodes(code_ast.body, cell_name,\n-> 2698                    interactivity=interactivity, compiler=compiler, result=result)\n        interactivity = 'last_expr'\n        compiler = <IPython.core.compilerop.CachingCompiler object>\n   2699                 \n   2700                 self.last_execution_succeeded = not has_raised\n   2701 \n   2702                 # Reset this so later displayed values do not modify the\n\n...........................................................................\nC:\\Users\\Dusica\\Anaconda3\\lib\\site-packages\\IPython\\core\\interactiveshell.py in run_ast_nodes(self=<ipykernel.zmqshell.ZMQInteractiveShell object>, nodelist=[<_ast.Assign object>], cell_name='<ipython-input-95-58182a297873>', interactivity='none', compiler=<IPython.core.compilerop.CachingCompiler object>, result=<ExecutionResult object at 1349190, execution_co..._before_exec=None error_in_exec=None result=None>)\n   2797 \n   2798         try:\n   2799             for i, node in enumerate(to_run_exec):\n   2800                 mod = ast.Module([node])\n   2801                 code = compiler(mod, cell_name, \"exec\")\n-> 2802                 if self.run_code(code, result):\n        self.run_code = <bound method InteractiveShell.run_code of <ipykernel.zmqshell.ZMQInteractiveShell object>>\n        code = <code object <module> at 0x0142A7B0, file \"<ipython-input-95-58182a297873>\", line 1>\n        result = <ExecutionResult object at 1349190, execution_co..._before_exec=None error_in_exec=None result=None>\n   2803                     return True\n   2804 \n   2805             for i, node in enumerate(to_run_interactive):\n   2806                 mod = ast.Interactive([node])\n\n...........................................................................\nC:\\Users\\Dusica\\Anaconda3\\lib\\site-packages\\IPython\\core\\interactiveshell.py in run_code(self=<ipykernel.zmqshell.ZMQInteractiveShell object>, code_obj=<code object <module> at 0x0142A7B0, file \"<ipython-input-95-58182a297873>\", line 1>, result=<ExecutionResult object at 1349190, execution_co..._before_exec=None error_in_exec=None result=None>)\n   2857         outflag = True  # happens in more places, so it's easier as default\n   2858         try:\n   2859             try:\n   2860                 self.hooks.pre_run_code_hook()\n   2861                 #rprint('Running code', repr(code_obj)) # dbg\n-> 2862                 exec(code_obj, self.user_global_ns, self.user_ns)\n        code_obj = <code object <module> at 0x0142A7B0, file \"<ipython-input-95-58182a297873>\", line 1>\n        self.user_global_ns = {'GridSearchCV': <class 'sklearn.model_selection._search.GridSearchCV'>, 'In': ['', 'import pandas as pd\\nimport numpy as np', r\"bank=pd.read_csv('C:\\\\Users\\\\Dusica\\\\Downloads\\\\Bank Marketing\\\\bank-additional.txt',sep=';')\", 'bank.shape', 'bank.describe()', 'bank.count()', 'pd.concat([bank.dtypes,bank.isnull().sum()],axis=1)', \"bank.drop(['duration'],axis=1,inplace=True)\", \"bank.dropna(subset=['y'],inplace=True)\", \"#set(bank['nr.employed'])\", \"pd.concat([bank['cons.price.idx'].describe(),ban...()],axis=1)\\n\\n#moze mean jer std ima malu vrednost\", \"mean_cons_price_idx=bank['cons.price.idx'].dropn...e_idx=np.average(bank['cons.price.idx'].dropna())\", \"mean_previous=bank['previous'].dropna().mean()\", \"bank['cons.price.idx'].replace(np.nan,mean_cons_price_idx,inplace=True)\", \"bank['previous'].replace(np.nan,mean_previous,inplace=True)\", \"bank['nr.employed']=pd.to_numeric(bank['nr.employed'],downcast='float')\", \"bank['nr.employed'].fillna(value=bank['nr.employed'].dropna().mean(),inplace=True)\", \"bank['nr.employed'].describe()\", \"pd.concat([bank['campaign'].describe(),bank['emp....describe(),bank['euribor3m'].describe()],axis=1)\", \"bank['campaign'].replace(np.nan,bank['campaign'].dropna().mean(),inplace=True)\", ...], 'LogisticRegression': <class 'sklearn.linear_model.logistic.LogisticRegression'>, 'Out': {3: (4119, 21), 4:                age     duration     campaign    ...000       94.767000       1.266000  5099.100000  , 5: age               4119\njob               4119\nma...ed       4118\ny                 4118\ndtype: int64, 6:                       0  1\nage               int...mployed      object  1\ny                object  1, 10:        cons.price.idx     previous\ncount     411...0     0.000000\nmax         94.767000     6.000000, 17: count    4118.000000\nmean     5166.518555\nstd   ...    5228.100098\nName: nr.employed, dtype: float64, 18:           campaign  emp.var.rate  cons.conf.idx ....000000      1.400000     -26.900000     5.045000, 26: (2883, 20), 27: (1235, 20), 29: (2883,), ...}, 'RandomForestClassifier': <class 'sklearn.ensemble.forest.RandomForestClassifier'>, '_': RandomForestClassifier(bootstrap=True, class_wei...te=None, verbose=0,\n            warm_start=False), '_10':        cons.price.idx     previous\ncount     411...0     0.000000\nmax         94.767000     6.000000, '_17': count    4118.000000\nmean     5166.518555\nstd   ...    5228.100098\nName: nr.employed, dtype: float64, '_18':           campaign  emp.var.rate  cons.conf.idx ....000000      1.400000     -26.900000     5.045000, '_26': (2883, 20), ...}\n        self.user_ns = {'GridSearchCV': <class 'sklearn.model_selection._search.GridSearchCV'>, 'In': ['', 'import pandas as pd\\nimport numpy as np', r\"bank=pd.read_csv('C:\\\\Users\\\\Dusica\\\\Downloads\\\\Bank Marketing\\\\bank-additional.txt',sep=';')\", 'bank.shape', 'bank.describe()', 'bank.count()', 'pd.concat([bank.dtypes,bank.isnull().sum()],axis=1)', \"bank.drop(['duration'],axis=1,inplace=True)\", \"bank.dropna(subset=['y'],inplace=True)\", \"#set(bank['nr.employed'])\", \"pd.concat([bank['cons.price.idx'].describe(),ban...()],axis=1)\\n\\n#moze mean jer std ima malu vrednost\", \"mean_cons_price_idx=bank['cons.price.idx'].dropn...e_idx=np.average(bank['cons.price.idx'].dropna())\", \"mean_previous=bank['previous'].dropna().mean()\", \"bank['cons.price.idx'].replace(np.nan,mean_cons_price_idx,inplace=True)\", \"bank['previous'].replace(np.nan,mean_previous,inplace=True)\", \"bank['nr.employed']=pd.to_numeric(bank['nr.employed'],downcast='float')\", \"bank['nr.employed'].fillna(value=bank['nr.employed'].dropna().mean(),inplace=True)\", \"bank['nr.employed'].describe()\", \"pd.concat([bank['campaign'].describe(),bank['emp....describe(),bank['euribor3m'].describe()],axis=1)\", \"bank['campaign'].replace(np.nan,bank['campaign'].dropna().mean(),inplace=True)\", ...], 'LogisticRegression': <class 'sklearn.linear_model.logistic.LogisticRegression'>, 'Out': {3: (4119, 21), 4:                age     duration     campaign    ...000       94.767000       1.266000  5099.100000  , 5: age               4119\njob               4119\nma...ed       4118\ny                 4118\ndtype: int64, 6:                       0  1\nage               int...mployed      object  1\ny                object  1, 10:        cons.price.idx     previous\ncount     411...0     0.000000\nmax         94.767000     6.000000, 17: count    4118.000000\nmean     5166.518555\nstd   ...    5228.100098\nName: nr.employed, dtype: float64, 18:           campaign  emp.var.rate  cons.conf.idx ....000000      1.400000     -26.900000     5.045000, 26: (2883, 20), 27: (1235, 20), 29: (2883,), ...}, 'RandomForestClassifier': <class 'sklearn.ensemble.forest.RandomForestClassifier'>, '_': RandomForestClassifier(bootstrap=True, class_wei...te=None, verbose=0,\n            warm_start=False), '_10':        cons.price.idx     previous\ncount     411...0     0.000000\nmax         94.767000     6.000000, '_17': count    4118.000000\nmean     5166.518555\nstd   ...    5228.100098\nName: nr.employed, dtype: float64, '_18':           campaign  emp.var.rate  cons.conf.idx ....000000      1.400000     -26.900000     5.045000, '_26': (2883, 20), ...}\n   2863             finally:\n   2864                 # Reset our crash handler in place\n   2865                 sys.excepthook = old_excepthook\n   2866         except SystemExit as e:\n\n...........................................................................\nC:\\Users\\Dusica\\<ipython-input-95-58182a297873> in <module>()\n----> 1 opt_rf=optimizer.fit(x_train,y_train)\n\n...........................................................................\nC:\\Users\\Dusica\\Anaconda3\\lib\\site-packages\\sklearn\\model_selection\\_search.py in fit(self=GridSearchCV(cv=3, error_score='raise',\n       e..._score=True,\n       scoring='roc_auc', verbose=0), X=      age  campaign  pdays  previous  emp.var.ra...    4.021  5195.799805  \n\n[2883 rows x 9 columns], y=3245     no\n2348     no\n1660    yes\n42       no\n...\n4007     no\nName: y, Length: 2883, dtype: object, groups=None, **fit_params={})\n    634                                   return_train_score=self.return_train_score,\n    635                                   return_n_test_samples=True,\n    636                                   return_times=True, return_parameters=False,\n    637                                   error_score=self.error_score)\n    638           for parameters, (train, test) in product(candidate_params,\n--> 639                                                    cv.split(X, y, groups)))\n        cv.split = <bound method StratifiedKFold.split of Stratifie...ld(n_splits=3, random_state=None, shuffle=False)>\n        X =       age  campaign  pdays  previous  emp.var.ra...    4.021  5195.799805  \n\n[2883 rows x 9 columns]\n        y = 3245     no\n2348     no\n1660    yes\n42       no\n...\n4007     no\nName: y, Length: 2883, dtype: object\n        groups = None\n    640 \n    641         # if one choose to see train score, \"out\" will contain train score info\n    642         if self.return_train_score:\n    643             (train_score_dicts, test_score_dicts, test_sample_counts, fit_time,\n\n...........................................................................\nC:\\Users\\Dusica\\Anaconda3\\lib\\site-packages\\sklearn\\externals\\joblib\\parallel.py in __call__(self=Parallel(n_jobs=2), iterable=<generator object BaseSearchCV.fit.<locals>.<genexpr>>)\n    784             if pre_dispatch == \"all\" or n_jobs == 1:\n    785                 # The iterable was consumed all at once by the above for loop.\n    786                 # No need to wait for async callbacks to trigger to\n    787                 # consumption.\n    788                 self._iterating = False\n--> 789             self.retrieve()\n        self.retrieve = <bound method Parallel.retrieve of Parallel(n_jobs=2)>\n    790             # Make sure that we get a last message telling us we are done\n    791             elapsed_time = time.time() - self._start_time\n    792             self._print('Done %3i out of %3i | elapsed: %s finished',\n    793                         (len(self._output), len(self._output),\n\n---------------------------------------------------------------------------\nSub-process traceback:\n---------------------------------------------------------------------------\nValueError                                         Mon Jan 29 08:58:21 2018\nPID: 8100                Python 3.6.3: C:\\Users\\Dusica\\Anaconda3\\python.exe\n...........................................................................\nC:\\Users\\Dusica\\Anaconda3\\lib\\site-packages\\sklearn\\externals\\joblib\\parallel.py in __call__(self=<sklearn.externals.joblib.parallel.BatchedCalls object>)\n    126     def __init__(self, iterator_slice):\n    127         self.items = list(iterator_slice)\n    128         self._size = len(self.items)\n    129 \n    130     def __call__(self):\n--> 131         return [func(*args, **kwargs) for func, args, kwargs in self.items]\n        self.items = [(<function _fit_and_score>, (RandomForestClassifier(bootstrap=True, class_wei...te=None, verbose=0,\n            warm_start=False),       age  campaign  pdays  previous  emp.var.ra...    4.021  5195.799805  \n\n[2883 rows x 9 columns], 3245     no\n2348     no\n1660    yes\n42       no\n...\n4007     no\nName: y, Length: 2883, dtype: object, {'score': make_scorer(roc_auc_score, needs_threshold=True)}, array([ 919,  922,  940, ..., 2880, 2881, 2882]), array([  0,   1,   2,   3,   4,   5,   6,   7,  ...56, 957, 958, 959, 960, 961, 962, 963, 966, 967]), 0, {'max_depth': 5, 'n_estimators': 20}), {'error_score': 'raise', 'fit_params': {}, 'return_n_test_samples': True, 'return_parameters': False, 'return_times': True, 'return_train_score': True})]\n    132 \n    133     def __len__(self):\n    134         return self._size\n    135 \n\n...........................................................................\nC:\\Users\\Dusica\\Anaconda3\\lib\\site-packages\\sklearn\\externals\\joblib\\parallel.py in <listcomp>(.0=<list_iterator object>)\n    126     def __init__(self, iterator_slice):\n    127         self.items = list(iterator_slice)\n    128         self._size = len(self.items)\n    129 \n    130     def __call__(self):\n--> 131         return [func(*args, **kwargs) for func, args, kwargs in self.items]\n        func = <function _fit_and_score>\n        args = (RandomForestClassifier(bootstrap=True, class_wei...te=None, verbose=0,\n            warm_start=False),       age  campaign  pdays  previous  emp.var.ra...    4.021  5195.799805  \n\n[2883 rows x 9 columns], 3245     no\n2348     no\n1660    yes\n42       no\n...\n4007     no\nName: y, Length: 2883, dtype: object, {'score': make_scorer(roc_auc_score, needs_threshold=True)}, array([ 919,  922,  940, ..., 2880, 2881, 2882]), array([  0,   1,   2,   3,   4,   5,   6,   7,  ...56, 957, 958, 959, 960, 961, 962, 963, 966, 967]), 0, {'max_depth': 5, 'n_estimators': 20})\n        kwargs = {'error_score': 'raise', 'fit_params': {}, 'return_n_test_samples': True, 'return_parameters': False, 'return_times': True, 'return_train_score': True}\n    132 \n    133     def __len__(self):\n    134         return self._size\n    135 \n\n...........................................................................\nC:\\Users\\Dusica\\Anaconda3\\lib\\site-packages\\sklearn\\model_selection\\_validation.py in _fit_and_score(estimator=RandomForestClassifier(bootstrap=True, class_wei...te=None, verbose=0,\n            warm_start=False), X=      age  campaign  pdays  previous  emp.var.ra...    4.021  5195.799805  \n\n[2883 rows x 9 columns], y=3245     no\n2348     no\n1660    yes\n42       no\n...\n4007     no\nName: y, Length: 2883, dtype: object, scorer={'score': make_scorer(roc_auc_score, needs_threshold=True)}, train=array([ 919,  922,  940, ..., 2880, 2881, 2882]), test=array([  0,   1,   2,   3,   4,   5,   6,   7,  ...56, 957, 958, 959, 960, 961, 962, 963, 966, 967]), verbose=0, parameters={'max_depth': 5, 'n_estimators': 20}, fit_params={}, return_train_score=True, return_parameters=False, return_n_test_samples=True, return_times=True, error_score='raise')\n    483                              \" make sure that it has been spelled correctly.)\")\n    484 \n    485     else:\n    486         fit_time = time.time() - start_time\n    487         # _score will return dict if is_multimetric is True\n--> 488         test_scores = _score(estimator, X_test, y_test, scorer, is_multimetric)\n        test_scores = {}\n        estimator = RandomForestClassifier(bootstrap=True, class_wei...te=None, verbose=0,\n            warm_start=False)\n        X_test =       age  campaign  pdays  previous  emp.var.ra...     4.966  5228.100098  \n\n[961 rows x 9 columns]\n        y_test = 3245     no\n2348     no\n1660    yes\n42       no\n...o\n1426     no\nName: y, Length: 961, dtype: object\n        scorer = {'score': make_scorer(roc_auc_score, needs_threshold=True)}\n        is_multimetric = True\n    489         score_time = time.time() - start_time - fit_time\n    490         if return_train_score:\n    491             train_scores = _score(estimator, X_train, y_train, scorer,\n    492                                   is_multimetric)\n\n...........................................................................\nC:\\Users\\Dusica\\Anaconda3\\lib\\site-packages\\sklearn\\model_selection\\_validation.py in _score(estimator=RandomForestClassifier(bootstrap=True, class_wei...te=None, verbose=0,\n            warm_start=False), X_test=      age  campaign  pdays  previous  emp.var.ra...     4.966  5228.100098  \n\n[961 rows x 9 columns], y_test=3245     no\n2348     no\n1660    yes\n42       no\n...o\n1426     no\nName: y, Length: 961, dtype: object, scorer={'score': make_scorer(roc_auc_score, needs_threshold=True)}, is_multimetric=True)\n    518 \n    519     Will return a single float if is_multimetric is False and a dict of floats,\n    520     if is_multimetric is True\n    521     \"\"\"\n    522     if is_multimetric:\n--> 523         return _multimetric_score(estimator, X_test, y_test, scorer)\n        estimator = RandomForestClassifier(bootstrap=True, class_wei...te=None, verbose=0,\n            warm_start=False)\n        X_test =       age  campaign  pdays  previous  emp.var.ra...     4.966  5228.100098  \n\n[961 rows x 9 columns]\n        y_test = 3245     no\n2348     no\n1660    yes\n42       no\n...o\n1426     no\nName: y, Length: 961, dtype: object\n        scorer = {'score': make_scorer(roc_auc_score, needs_threshold=True)}\n    524     else:\n    525         if y_test is None:\n    526             score = scorer(estimator, X_test)\n    527         else:\n\n...........................................................................\nC:\\Users\\Dusica\\Anaconda3\\lib\\site-packages\\sklearn\\model_selection\\_validation.py in _multimetric_score(estimator=RandomForestClassifier(bootstrap=True, class_wei...te=None, verbose=0,\n            warm_start=False), X_test=      age  campaign  pdays  previous  emp.var.ra...     4.966  5228.100098  \n\n[961 rows x 9 columns], y_test=3245     no\n2348     no\n1660    yes\n42       no\n...o\n1426     no\nName: y, Length: 961, dtype: object, scorers={'score': make_scorer(roc_auc_score, needs_threshold=True)})\n    548 \n    549     for name, scorer in scorers.items():\n    550         if y_test is None:\n    551             score = scorer(estimator, X_test)\n    552         else:\n--> 553             score = scorer(estimator, X_test, y_test)\n        score = undefined\n        scorer = make_scorer(roc_auc_score, needs_threshold=True)\n        estimator = RandomForestClassifier(bootstrap=True, class_wei...te=None, verbose=0,\n            warm_start=False)\n        X_test =       age  campaign  pdays  previous  emp.var.ra...     4.966  5228.100098  \n\n[961 rows x 9 columns]\n        y_test = 3245     no\n2348     no\n1660    yes\n42       no\n...o\n1426     no\nName: y, Length: 961, dtype: object\n    554 \n    555         if hasattr(score, 'item'):\n    556             try:\n    557                 # e.g. unwrap memmapped scalars\n\n...........................................................................\nC:\\Users\\Dusica\\Anaconda3\\lib\\site-packages\\sklearn\\metrics\\scorer.py in __call__(self=make_scorer(roc_auc_score, needs_threshold=True), clf=RandomForestClassifier(bootstrap=True, class_wei...te=None, verbose=0,\n            warm_start=False), X=      age  campaign  pdays  previous  emp.var.ra...     4.966  5228.100098  \n\n[961 rows x 9 columns], y=3245     no\n2348     no\n1660    yes\n42       no\n...o\n1426     no\nName: y, Length: 961, dtype: object, sample_weight=None)\n    201         if sample_weight is not None:\n    202             return self._sign * self._score_func(y, y_pred,\n    203                                                  sample_weight=sample_weight,\n    204                                                  **self._kwargs)\n    205         else:\n--> 206             return self._sign * self._score_func(y, y_pred, **self._kwargs)\n        self._sign = 1\n        self._score_func = <function roc_auc_score>\n        y = 3245     no\n2348     no\n1660    yes\n42       no\n...o\n1426     no\nName: y, Length: 961, dtype: object\n        y_pred = array([ 0.07597901,  0.09863563,  0.40801131,  0...3,  0.09430465,  0.09025455,\n        0.05109169])\n        self._kwargs = {}\n    207 \n    208     def _factory_args(self):\n    209         return \", needs_threshold=True\"\n    210 \n\n...........................................................................\nC:\\Users\\Dusica\\Anaconda3\\lib\\site-packages\\sklearn\\metrics\\ranking.py in roc_auc_score(y_true=3245     no\n2348     no\n1660    yes\n42       no\n...o\n1426     no\nName: y, Length: 961, dtype: object, y_score=array([ 0.07597901,  0.09863563,  0.40801131,  0...3,  0.09430465,  0.09025455,\n        0.05109169]), average='macro', sample_weight=None)\n    272                                         sample_weight=sample_weight)\n    273         return auc(fpr, tpr, reorder=True)\n    274 \n    275     return _average_binary_score(\n    276         _binary_roc_auc_score, y_true, y_score, average,\n--> 277         sample_weight=sample_weight)\n        sample_weight = None\n    278 \n    279 \n    280 def _binary_clf_curve(y_true, y_score, pos_label=None, sample_weight=None):\n    281     \"\"\"Calculate true and false positives per binary classification threshold.\n\n...........................................................................\nC:\\Users\\Dusica\\Anaconda3\\lib\\site-packages\\sklearn\\metrics\\base.py in _average_binary_score(binary_metric=<function roc_auc_score.<locals>._binary_roc_auc_score>, y_true=3245     no\n2348     no\n1660    yes\n42       no\n...o\n1426     no\nName: y, Length: 961, dtype: object, y_score=array([ 0.07597901,  0.09863563,  0.40801131,  0...3,  0.09430465,  0.09025455,\n        0.05109169]), average='macro', sample_weight=None)\n     70     y_type = type_of_target(y_true)\n     71     if y_type not in (\"binary\", \"multilabel-indicator\"):\n     72         raise ValueError(\"{0} format is not supported\".format(y_type))\n     73 \n     74     if y_type == \"binary\":\n---> 75         return binary_metric(y_true, y_score, sample_weight=sample_weight)\n        binary_metric = <function roc_auc_score.<locals>._binary_roc_auc_score>\n        y_true = 3245     no\n2348     no\n1660    yes\n42       no\n...o\n1426     no\nName: y, Length: 961, dtype: object\n        y_score = array([ 0.07597901,  0.09863563,  0.40801131,  0...3,  0.09430465,  0.09025455,\n        0.05109169])\n        sample_weight = None\n     76 \n     77     check_consistent_length(y_true, y_score, sample_weight)\n     78     y_true = check_array(y_true)\n     79     y_score = check_array(y_score)\n\n...........................................................................\nC:\\Users\\Dusica\\Anaconda3\\lib\\site-packages\\sklearn\\metrics\\ranking.py in _binary_roc_auc_score(y_true=3245     no\n2348     no\n1660    yes\n42       no\n...o\n1426     no\nName: y, Length: 961, dtype: object, y_score=array([ 0.07597901,  0.09863563,  0.40801131,  0...3,  0.09430465,  0.09025455,\n        0.05109169]), sample_weight=None)\n    267         if len(np.unique(y_true)) != 2:\n    268             raise ValueError(\"Only one class present in y_true. ROC AUC score \"\n    269                              \"is not defined in that case.\")\n    270 \n    271         fpr, tpr, tresholds = roc_curve(y_true, y_score,\n--> 272                                         sample_weight=sample_weight)\n        sample_weight = None\n    273         return auc(fpr, tpr, reorder=True)\n    274 \n    275     return _average_binary_score(\n    276         _binary_roc_auc_score, y_true, y_score, average,\n\n...........................................................................\nC:\\Users\\Dusica\\Anaconda3\\lib\\site-packages\\sklearn\\metrics\\ranking.py in roc_curve(y_true=3245     no\n2348     no\n1660    yes\n42       no\n...o\n1426     no\nName: y, Length: 961, dtype: object, y_score=array([ 0.07597901,  0.09863563,  0.40801131,  0...3,  0.09430465,  0.09025455,\n        0.05109169]), pos_label=None, sample_weight=None, drop_intermediate=True)\n    529     >>> thresholds\n    530     array([ 0.8 ,  0.4 ,  0.35,  0.1 ])\n    531 \n    532     \"\"\"\n    533     fps, tps, thresholds = _binary_clf_curve(\n--> 534         y_true, y_score, pos_label=pos_label, sample_weight=sample_weight)\n        y_true = 3245     no\n2348     no\n1660    yes\n42       no\n...o\n1426     no\nName: y, Length: 961, dtype: object\n        y_score = array([ 0.07597901,  0.09863563,  0.40801131,  0...3,  0.09430465,  0.09025455,\n        0.05109169])\n        pos_label = None\n        sample_weight = None\n    535 \n    536     # Attempt to drop thresholds corresponding to points in between and\n    537     # collinear with other points. These are always suboptimal and do not\n    538     # appear on a plotted ROC curve (and thus do not affect the AUC).\n\n...........................................................................\nC:\\Users\\Dusica\\Anaconda3\\lib\\site-packages\\sklearn\\metrics\\ranking.py in _binary_clf_curve(y_true=array(['no', 'no', 'yes', 'no', 'no', 'yes', 'no...     'no', 'no', 'no', 'no', 'no'], dtype=object), y_score=array([ 0.07597901,  0.09863563,  0.40801131,  0...3,  0.09430465,  0.09025455,\n        0.05109169]), pos_label=None, sample_weight=None)\n    332         not (np.array_equal(classes, [0, 1]) or\n    333              np.array_equal(classes, [-1, 1]) or\n    334              np.array_equal(classes, [0]) or\n    335              np.array_equal(classes, [-1]) or\n    336              np.array_equal(classes, [1]))):\n--> 337         raise ValueError(\"Data is not binary and pos_label is not specified\")\n    338     elif pos_label is None:\n    339         pos_label = 1.\n    340 \n    341     # make y_true a boolean vector\n\nValueError: Data is not binary and pos_label is not specified\n___________________________________________________________________________"
     ]
    }
   ],
   "source": [
    "opt_rf=optimizer.fit(x_train,y_train)\n"
   ]
  },
  {
   "cell_type": "code",
   "execution_count": 88,
   "metadata": {},
   "outputs": [
    {
     "ename": "NameError",
     "evalue": "name 'opt_rf' is not defined",
     "output_type": "error",
     "traceback": [
      "\u001b[1;31m---------------------------------------------------------------------------\u001b[0m",
      "\u001b[1;31mNameError\u001b[0m                                 Traceback (most recent call last)",
      "\u001b[1;32m<ipython-input-88-17b3c26fd16c>\u001b[0m in \u001b[0;36m<module>\u001b[1;34m()\u001b[0m\n\u001b[1;32m----> 1\u001b[1;33m \u001b[0mopt_rf\u001b[0m\u001b[1;33m.\u001b[0m\u001b[0mbest_estimator_\u001b[0m\u001b[1;33m\u001b[0m\u001b[0m\n\u001b[0m",
      "\u001b[1;31mNameError\u001b[0m: name 'opt_rf' is not defined"
     ]
    }
   ],
   "source": [
    "opt_rf.best_estimator_\n"
   ]
  },
  {
   "cell_type": "code",
   "execution_count": null,
   "metadata": {},
   "outputs": [],
   "source": [
    "probas_opt=opt_rf.predict_proba(X_test)[:,1]\n"
   ]
  },
  {
   "cell_type": "code",
   "execution_count": 1038,
   "metadata": {},
   "outputs": [
    {
     "ename": "NameError",
     "evalue": "name 'opt_rf' is not defined",
     "output_type": "error",
     "traceback": [
      "\u001b[1;31m---------------------------------------------------------------------------\u001b[0m",
      "\u001b[1;31mNameError\u001b[0m                                 Traceback (most recent call last)",
      "\u001b[1;32m<ipython-input-1038-37c2731cdb64>\u001b[0m in \u001b[0;36m<module>\u001b[1;34m()\u001b[0m\n\u001b[1;32m----> 1\u001b[1;33m \u001b[0mpredictions_opt\u001b[0m\u001b[1;33m=\u001b[0m\u001b[0mopt_rf\u001b[0m\u001b[1;33m.\u001b[0m\u001b[0mpredict\u001b[0m\u001b[1;33m(\u001b[0m\u001b[0mX_test\u001b[0m\u001b[1;33m)\u001b[0m\u001b[1;33m\u001b[0m\u001b[0m\n\u001b[0m",
      "\u001b[1;31mNameError\u001b[0m: name 'opt_rf' is not defined"
     ]
    }
   ],
   "source": [
    "predictions_opt=opt_rf.predict(X_test)\n"
   ]
  },
  {
   "cell_type": "code",
   "execution_count": null,
   "metadata": {},
   "outputs": [],
   "source": [
    "roc_auc_score(y_test, predictions_opt)\n"
   ]
  },
  {
   "cell_type": "markdown",
   "metadata": {},
   "source": [
    "### Podela inicijalnog skupa podataka na osnovu jednog kategoričkog atributa u datasetu"
   ]
  },
  {
   "cell_type": "code",
   "execution_count": 96,
   "metadata": {},
   "outputs": [],
   "source": [
    "#bank.sort_values(['contact'])"
   ]
  },
  {
   "cell_type": "raw",
   "metadata": {},
   "source": [
    "indexSplit = [] # list containing the boundry indices\n",
    "\n",
    "prevRoutine = bank['contact'][0] # log is the complete dataframe\n",
    "i = 1\n",
    "while i < len(bank):\n",
    "        if prevRoutine != bank['contact'][i]:\n",
    "            indexSplit.append(i)\n",
    "        prevRoutine = bank['contact'][i]"
   ]
  },
  {
   "cell_type": "raw",
   "metadata": {},
   "source": [
    "s = bank['contact'].ne(bank['contact'].shift()).cumsum()\n",
    "print (s)"
   ]
  },
  {
   "cell_type": "raw",
   "metadata": {},
   "source": [
    "dfs = [g for i,g in bank.groupby(bank['loan'].ne(bank['loan'].shift()).cumsum())]\n",
    "print (dfs)"
   ]
  },
  {
   "cell_type": "code",
   "execution_count": 125,
   "metadata": {},
   "outputs": [],
   "source": [
    "#bank.loc[bank['loan'] == 'yes']"
   ]
  },
  {
   "cell_type": "code",
   "execution_count": 126,
   "metadata": {},
   "outputs": [],
   "source": [
    "loan_yes=bank.loc[lambda bank:bank['loan']=='yes']"
   ]
  },
  {
   "cell_type": "code",
   "execution_count": 104,
   "metadata": {},
   "outputs": [],
   "source": [
    "categories=bank.loan.unique()"
   ]
  },
  {
   "cell_type": "code",
   "execution_count": 128,
   "metadata": {},
   "outputs": [
    {
     "name": "stdout",
     "output_type": "stream",
     "text": [
      "0\n",
      "1\n",
      "2\n"
     ]
    }
   ],
   "source": [
    "for n in range(len(categories)):\n",
    "        print(n)"
   ]
  },
  {
   "cell_type": "code",
   "execution_count": 161,
   "metadata": {},
   "outputs": [],
   "source": [
    "listaDF=[pd.DataFrame,pd.DataFrame,pd.DataFrame]"
   ]
  },
  {
   "cell_type": "code",
   "execution_count": 173,
   "metadata": {},
   "outputs": [],
   "source": [
    "#def vratiSS():\n",
    "for n in range(len(categories)):\n",
    "    listaDF[n]=bank.loc[lambda bank:bank['loan']==categories[n]]\n",
    "    #return listaDF[n]"
   ]
  },
  {
   "cell_type": "code",
   "execution_count": 176,
   "metadata": {},
   "outputs": [
    {
     "data": {
      "text/plain": [
       "array(['unknown'], dtype=object)"
      ]
     },
     "execution_count": 176,
     "metadata": {},
     "output_type": "execute_result"
    }
   ],
   "source": [
    "#listaDF[1].loan.unique()"
   ]
  },
  {
   "cell_type": "code",
   "execution_count": 179,
   "metadata": {},
   "outputs": [
    {
     "data": {
      "text/plain": [
       "(3349, 20)"
      ]
     },
     "execution_count": 179,
     "metadata": {},
     "output_type": "execute_result"
    }
   ],
   "source": []
  },
  {
   "cell_type": "code",
   "execution_count": null,
   "metadata": {},
   "outputs": [],
   "source": []
  },
  {
   "cell_type": "code",
   "execution_count": null,
   "metadata": {},
   "outputs": [],
   "source": []
  },
  {
   "cell_type": "code",
   "execution_count": null,
   "metadata": {},
   "outputs": [],
   "source": []
  },
  {
   "cell_type": "code",
   "execution_count": null,
   "metadata": {},
   "outputs": [],
   "source": []
  },
  {
   "cell_type": "code",
   "execution_count": null,
   "metadata": {},
   "outputs": [],
   "source": []
  },
  {
   "cell_type": "code",
   "execution_count": null,
   "metadata": {},
   "outputs": [],
   "source": []
  },
  {
   "cell_type": "code",
   "execution_count": 844,
   "metadata": {},
   "outputs": [],
   "source": [
    "import seaborn as sns"
   ]
  },
  {
   "cell_type": "code",
   "execution_count": 851,
   "metadata": {},
   "outputs": [
    {
     "ename": "TypeError",
     "evalue": "unsupported operand type(s) for /: 'str' and 'int'",
     "output_type": "error",
     "traceback": [
      "\u001b[1;31m---------------------------------------------------------------------------\u001b[0m",
      "\u001b[1;31mTypeError\u001b[0m                                 Traceback (most recent call last)",
      "\u001b[1;32m<ipython-input-851-31f92968f6f6>\u001b[0m in \u001b[0;36m<module>\u001b[1;34m()\u001b[0m\n\u001b[1;32m----> 1\u001b[1;33m \u001b[0max1\u001b[0m\u001b[1;33m=\u001b[0m\u001b[0msns\u001b[0m\u001b[1;33m.\u001b[0m\u001b[0mdistplot\u001b[0m\u001b[1;33m(\u001b[0m\u001b[0mbank\u001b[0m\u001b[1;33m[\u001b[0m\u001b[1;34m'y'\u001b[0m\u001b[1;33m]\u001b[0m\u001b[1;33m,\u001b[0m\u001b[0mhist\u001b[0m\u001b[1;33m=\u001b[0m\u001b[1;32mFalse\u001b[0m\u001b[1;33m)\u001b[0m\u001b[1;33m\u001b[0m\u001b[0m\n\u001b[0m",
      "\u001b[1;32m~\\Anaconda3\\lib\\site-packages\\seaborn\\distributions.py\u001b[0m in \u001b[0;36mdistplot\u001b[1;34m(a, bins, hist, kde, rug, fit, hist_kws, kde_kws, rug_kws, fit_kws, color, vertical, norm_hist, axlabel, label, ax)\u001b[0m\n\u001b[0;32m    189\u001b[0m             \u001b[0mline\u001b[0m\u001b[1;33m,\u001b[0m \u001b[1;33m=\u001b[0m \u001b[0max\u001b[0m\u001b[1;33m.\u001b[0m\u001b[0mplot\u001b[0m\u001b[1;33m(\u001b[0m\u001b[1;36m0\u001b[0m\u001b[1;33m,\u001b[0m \u001b[0ma\u001b[0m\u001b[1;33m.\u001b[0m\u001b[0mmean\u001b[0m\u001b[1;33m(\u001b[0m\u001b[1;33m)\u001b[0m\u001b[1;33m)\u001b[0m\u001b[1;33m\u001b[0m\u001b[0m\n\u001b[0;32m    190\u001b[0m         \u001b[1;32melse\u001b[0m\u001b[1;33m:\u001b[0m\u001b[1;33m\u001b[0m\u001b[0m\n\u001b[1;32m--> 191\u001b[1;33m             \u001b[0mline\u001b[0m\u001b[1;33m,\u001b[0m \u001b[1;33m=\u001b[0m \u001b[0max\u001b[0m\u001b[1;33m.\u001b[0m\u001b[0mplot\u001b[0m\u001b[1;33m(\u001b[0m\u001b[0ma\u001b[0m\u001b[1;33m.\u001b[0m\u001b[0mmean\u001b[0m\u001b[1;33m(\u001b[0m\u001b[1;33m)\u001b[0m\u001b[1;33m,\u001b[0m \u001b[1;36m0\u001b[0m\u001b[1;33m)\u001b[0m\u001b[1;33m\u001b[0m\u001b[0m\n\u001b[0m\u001b[0;32m    192\u001b[0m         \u001b[0mcolor\u001b[0m \u001b[1;33m=\u001b[0m \u001b[0mline\u001b[0m\u001b[1;33m.\u001b[0m\u001b[0mget_color\u001b[0m\u001b[1;33m(\u001b[0m\u001b[1;33m)\u001b[0m\u001b[1;33m\u001b[0m\u001b[0m\n\u001b[0;32m    193\u001b[0m         \u001b[0mline\u001b[0m\u001b[1;33m.\u001b[0m\u001b[0mremove\u001b[0m\u001b[1;33m(\u001b[0m\u001b[1;33m)\u001b[0m\u001b[1;33m\u001b[0m\u001b[0m\n",
      "\u001b[1;32m~\\Anaconda3\\lib\\site-packages\\numpy\\core\\_methods.py\u001b[0m in \u001b[0;36m_mean\u001b[1;34m(a, axis, dtype, out, keepdims)\u001b[0m\n\u001b[0;32m     80\u001b[0m             \u001b[0mret\u001b[0m \u001b[1;33m=\u001b[0m \u001b[0mret\u001b[0m\u001b[1;33m.\u001b[0m\u001b[0mdtype\u001b[0m\u001b[1;33m.\u001b[0m\u001b[0mtype\u001b[0m\u001b[1;33m(\u001b[0m\u001b[0mret\u001b[0m \u001b[1;33m/\u001b[0m \u001b[0mrcount\u001b[0m\u001b[1;33m)\u001b[0m\u001b[1;33m\u001b[0m\u001b[0m\n\u001b[0;32m     81\u001b[0m     \u001b[1;32melse\u001b[0m\u001b[1;33m:\u001b[0m\u001b[1;33m\u001b[0m\u001b[0m\n\u001b[1;32m---> 82\u001b[1;33m         \u001b[0mret\u001b[0m \u001b[1;33m=\u001b[0m \u001b[0mret\u001b[0m \u001b[1;33m/\u001b[0m \u001b[0mrcount\u001b[0m\u001b[1;33m\u001b[0m\u001b[0m\n\u001b[0m\u001b[0;32m     83\u001b[0m \u001b[1;33m\u001b[0m\u001b[0m\n\u001b[0;32m     84\u001b[0m     \u001b[1;32mreturn\u001b[0m \u001b[0mret\u001b[0m\u001b[1;33m\u001b[0m\u001b[0m\n",
      "\u001b[1;31mTypeError\u001b[0m: unsupported operand type(s) for /: 'str' and 'int'"
     ]
    }
   ],
   "source": [
    "ax1=sns.distplot(bank['y'],hist=False)"
   ]
  },
  {
   "cell_type": "code",
   "execution_count": null,
   "metadata": {},
   "outputs": [],
   "source": []
  },
  {
   "cell_type": "code",
   "execution_count": null,
   "metadata": {},
   "outputs": [],
   "source": []
  },
  {
   "cell_type": "code",
   "execution_count": null,
   "metadata": {},
   "outputs": [],
   "source": []
  },
  {
   "cell_type": "code",
   "execution_count": null,
   "metadata": {},
   "outputs": [],
   "source": []
  },
  {
   "cell_type": "code",
   "execution_count": null,
   "metadata": {},
   "outputs": [],
   "source": []
  },
  {
   "cell_type": "code",
   "execution_count": null,
   "metadata": {},
   "outputs": [],
   "source": []
  },
  {
   "cell_type": "code",
   "execution_count": null,
   "metadata": {},
   "outputs": [],
   "source": []
  },
  {
   "cell_type": "code",
   "execution_count": null,
   "metadata": {},
   "outputs": [],
   "source": []
  },
  {
   "cell_type": "raw",
   "metadata": {},
   "source": [
    "from sklearn.model_selection import cross_val_predict\n",
    "from sklearn import linear_model\n",
    "import matplotlib.pyplot as plt\n",
    "\n",
    "lr = linear_model.LinearRegression()\n",
    "y = bank['y']\n",
    "\n",
    "# cross_val_predict returns an array of the same size as `y` where each entry\n",
    "# is a prediction obtained by cross validation:\n",
    "predicted = cross_val_predict(lr, bank, y, cv=10)\n",
    "\n",
    "fig, ax = plt.subplots()\n",
    "ax.scatter(y, predicted, edgecolors=(0, 0, 0))\n",
    "ax.plot([y['yes'], y['no']],[ y['yes'], y['no']], 'k--', lw=4)\n",
    "ax.set_xlabel('Measured')\n",
    "ax.set_ylabel('Predicted')\n",
    "plt.show()"
   ]
  },
  {
   "cell_type": "code",
   "execution_count": null,
   "metadata": {},
   "outputs": [],
   "source": []
  },
  {
   "cell_type": "code",
   "execution_count": null,
   "metadata": {},
   "outputs": [],
   "source": []
  },
  {
   "cell_type": "code",
   "execution_count": null,
   "metadata": {},
   "outputs": [],
   "source": []
  },
  {
   "cell_type": "code",
   "execution_count": null,
   "metadata": {},
   "outputs": [],
   "source": []
  },
  {
   "cell_type": "code",
   "execution_count": null,
   "metadata": {},
   "outputs": [],
   "source": []
  },
  {
   "cell_type": "code",
   "execution_count": null,
   "metadata": {},
   "outputs": [],
   "source": []
  },
  {
   "cell_type": "code",
   "execution_count": null,
   "metadata": {},
   "outputs": [],
   "source": []
  },
  {
   "cell_type": "code",
   "execution_count": null,
   "metadata": {},
   "outputs": [],
   "source": []
  },
  {
   "cell_type": "code",
   "execution_count": null,
   "metadata": {},
   "outputs": [],
   "source": []
  },
  {
   "cell_type": "code",
   "execution_count": null,
   "metadata": {},
   "outputs": [],
   "source": []
  },
  {
   "cell_type": "code",
   "execution_count": null,
   "metadata": {},
   "outputs": [],
   "source": []
  },
  {
   "cell_type": "code",
   "execution_count": null,
   "metadata": {},
   "outputs": [],
   "source": []
  },
  {
   "cell_type": "code",
   "execution_count": null,
   "metadata": {},
   "outputs": [],
   "source": []
  },
  {
   "cell_type": "code",
   "execution_count": null,
   "metadata": {},
   "outputs": [],
   "source": []
  },
  {
   "cell_type": "code",
   "execution_count": null,
   "metadata": {},
   "outputs": [],
   "source": []
  },
  {
   "cell_type": "code",
   "execution_count": null,
   "metadata": {},
   "outputs": [],
   "source": []
  },
  {
   "cell_type": "code",
   "execution_count": null,
   "metadata": {},
   "outputs": [],
   "source": []
  },
  {
   "cell_type": "code",
   "execution_count": 760,
   "metadata": {},
   "outputs": [
    {
     "data": {
      "text/plain": [
       "numpy.ndarray"
      ]
     },
     "execution_count": 760,
     "metadata": {},
     "output_type": "execute_result"
    }
   ],
   "source": [
    "type(np.array(prediction_probs))\n"
   ]
  },
  {
   "cell_type": "code",
   "execution_count": 765,
   "metadata": {},
   "outputs": [
    {
     "data": {
      "text/plain": [
       "array([ 0.95796279,  0.04203721])"
      ]
     },
     "execution_count": 765,
     "metadata": {},
     "output_type": "execute_result"
    }
   ],
   "source": [
    "prediction_probs[1]"
   ]
  },
  {
   "cell_type": "code",
   "execution_count": 773,
   "metadata": {},
   "outputs": [
    {
     "ename": "TypeError",
     "evalue": "expected 1D vector for x",
     "output_type": "error",
     "traceback": [
      "\u001b[1;31m---------------------------------------------------------------------------\u001b[0m",
      "\u001b[1;31mTypeError\u001b[0m                                 Traceback (most recent call last)",
      "\u001b[1;32m<ipython-input-773-0bb58c8c9f5f>\u001b[0m in \u001b[0;36m<module>\u001b[1;34m()\u001b[0m\n\u001b[0;32m      3\u001b[0m \u001b[1;33m\u001b[0m\u001b[0m\n\u001b[0;32m      4\u001b[0m \u001b[1;31m#t = np.arange(0., 1., 0.2)\u001b[0m\u001b[1;33m\u001b[0m\u001b[1;33m\u001b[0m\u001b[0m\n\u001b[1;32m----> 5\u001b[1;33m \u001b[0mx\u001b[0m\u001b[1;33m,\u001b[0m\u001b[0my\u001b[0m\u001b[1;33m=\u001b[0m \u001b[0mnp\u001b[0m\u001b[1;33m.\u001b[0m\u001b[0mpolyfit\u001b[0m\u001b[1;33m(\u001b[0m\u001b[0mnp\u001b[0m\u001b[1;33m.\u001b[0m\u001b[0marray\u001b[0m\u001b[1;33m(\u001b[0m\u001b[0mprediction_probs\u001b[0m\u001b[1;33m)\u001b[0m\u001b[1;33m,\u001b[0m \u001b[0mnp\u001b[0m\u001b[1;33m.\u001b[0m\u001b[0marray\u001b[0m\u001b[1;33m(\u001b[0m\u001b[0mprediction_probs\u001b[0m\u001b[1;33m)\u001b[0m\u001b[1;33m,\u001b[0m \u001b[1;36m1\u001b[0m\u001b[1;33m)\u001b[0m\u001b[1;33m\u001b[0m\u001b[0m\n\u001b[0m\u001b[0;32m      6\u001b[0m \u001b[1;31m# red dashes, blue squares and green triangles\u001b[0m\u001b[1;33m\u001b[0m\u001b[1;33m\u001b[0m\u001b[0m\n\u001b[0;32m      7\u001b[0m \u001b[0mplt\u001b[0m\u001b[1;33m.\u001b[0m\u001b[0mplot\u001b[0m\u001b[1;33m(\u001b[0m \u001b[0mx\u001b[0m\u001b[1;33m,\u001b[0m \u001b[1;34m'r--'\u001b[0m\u001b[1;33m,\u001b[0m \u001b[0my\u001b[0m\u001b[1;33m,\u001b[0m \u001b[1;34m'bs'\u001b[0m\u001b[1;33m)\u001b[0m\u001b[1;33m\u001b[0m\u001b[0m\n",
      "\u001b[1;32m~\\Anaconda3\\lib\\site-packages\\numpy\\lib\\polynomial.py\u001b[0m in \u001b[0;36mpolyfit\u001b[1;34m(x, y, deg, rcond, full, w, cov)\u001b[0m\n\u001b[0;32m    551\u001b[0m         \u001b[1;32mraise\u001b[0m \u001b[0mValueError\u001b[0m\u001b[1;33m(\u001b[0m\u001b[1;34m\"expected deg >= 0\"\u001b[0m\u001b[1;33m)\u001b[0m\u001b[1;33m\u001b[0m\u001b[0m\n\u001b[0;32m    552\u001b[0m     \u001b[1;32mif\u001b[0m \u001b[0mx\u001b[0m\u001b[1;33m.\u001b[0m\u001b[0mndim\u001b[0m \u001b[1;33m!=\u001b[0m \u001b[1;36m1\u001b[0m\u001b[1;33m:\u001b[0m\u001b[1;33m\u001b[0m\u001b[0m\n\u001b[1;32m--> 553\u001b[1;33m         \u001b[1;32mraise\u001b[0m \u001b[0mTypeError\u001b[0m\u001b[1;33m(\u001b[0m\u001b[1;34m\"expected 1D vector for x\"\u001b[0m\u001b[1;33m)\u001b[0m\u001b[1;33m\u001b[0m\u001b[0m\n\u001b[0m\u001b[0;32m    554\u001b[0m     \u001b[1;32mif\u001b[0m \u001b[0mx\u001b[0m\u001b[1;33m.\u001b[0m\u001b[0msize\u001b[0m \u001b[1;33m==\u001b[0m \u001b[1;36m0\u001b[0m\u001b[1;33m:\u001b[0m\u001b[1;33m\u001b[0m\u001b[0m\n\u001b[0;32m    555\u001b[0m         \u001b[1;32mraise\u001b[0m \u001b[0mTypeError\u001b[0m\u001b[1;33m(\u001b[0m\u001b[1;34m\"expected non-empty vector for x\"\u001b[0m\u001b[1;33m)\u001b[0m\u001b[1;33m\u001b[0m\u001b[0m\n",
      "\u001b[1;31mTypeError\u001b[0m: expected 1D vector for x"
     ]
    }
   ],
   "source": [
    "import numpy as np\n",
    "import matplotlib.pyplot as plt\n",
    "\n",
    "#t = np.arange(0., 1., 0.2)\n",
    "x,y= np.polyfit(np.array(prediction_probs), np.array(prediction_probs), 1)\n",
    "# red dashes, blue squares and green triangles\n",
    "plt.plot( x, 'r--', y, 'bs')\n",
    "plt.xlim(0,1)\n",
    "plt.ylim(0,1)\n",
    "plt.show()"
   ]
  },
  {
   "cell_type": "code",
   "execution_count": null,
   "metadata": {},
   "outputs": [],
   "source": []
  },
  {
   "cell_type": "code",
   "execution_count": null,
   "metadata": {},
   "outputs": [],
   "source": []
  },
  {
   "cell_type": "code",
   "execution_count": null,
   "metadata": {},
   "outputs": [],
   "source": []
  },
  {
   "cell_type": "code",
   "execution_count": null,
   "metadata": {},
   "outputs": [],
   "source": []
  },
  {
   "cell_type": "raw",
   "metadata": {},
   "source": [
    "#categorical to numerical\n",
    "bank_dummy=bank.add(pd.get_dummies(bank.default))"
   ]
  },
  {
   "cell_type": "raw",
   "metadata": {},
   "source": [
    "bank_dummy=bank_dummy.append(pd.get_dummies(bank.housing))"
   ]
  },
  {
   "cell_type": "raw",
   "metadata": {},
   "source": [
    "bank_dummy=bank_dummy.append(pd.get_dummies(bank.loan))"
   ]
  },
  {
   "cell_type": "raw",
   "metadata": {},
   "source": [
    "bank_dummy.shape"
   ]
  },
  {
   "cell_type": "raw",
   "metadata": {},
   "source": [
    "bank_dummy.isnull().sum()"
   ]
  },
  {
   "cell_type": "raw",
   "metadata": {},
   "source": [
    "#binning in python\n",
    "#binwidth=int( (max(bank['price'])-min(bank['price'])) /4)\n",
    "#bins=range(min(bank['price']),max(bank['price']),binwidth)\n",
    "#group_names=['Low','Medium','High']\n",
    "#bank['price_binned']=pd.cut(bank['price'],bins,labels=group_names)"
   ]
  },
  {
   "cell_type": "raw",
   "metadata": {},
   "source": [
    "#binwidth=int( (max(bank['price'])-min(bank['price'])) /4)\n",
    "#bins=range(min(bank['price']),max(bank['price']),binwidth)\n",
    "bins=bank['day_of_week'].unique()\n",
    "#group_names=['Low','Medium','High']\n",
    "bank['day_of_week']=\n",
    "pd.cut(bank['day_of_week'],bins)\n",
    "bank.day_opd.cut(bank['day_of_week'],bins)\n",
    "f_week"
   ]
  },
  {
   "cell_type": "raw",
   "metadata": {},
   "source": [
    "gb=bank_without_cat.groupby(['job'])"
   ]
  }
 ],
 "metadata": {
  "kernelspec": {
   "display_name": "Python 3",
   "language": "python",
   "name": "python3"
  },
  "language_info": {
   "codemirror_mode": {
    "name": "ipython",
    "version": 3
   },
   "file_extension": ".py",
   "mimetype": "text/x-python",
   "name": "python",
   "nbconvert_exporter": "python",
   "pygments_lexer": "ipython3",
   "version": "3.6.3"
  }
 },
 "nbformat": 4,
 "nbformat_minor": 2
}
