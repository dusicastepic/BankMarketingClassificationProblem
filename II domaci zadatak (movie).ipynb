{
 "cells": [
  {
   "cell_type": "code",
   "execution_count": 128,
   "metadata": {},
   "outputs": [],
   "source": [
    "from surprise import SVD\n",
    "from surprise import Dataset\n",
    "from surprise import accuracy\n",
    "\n",
    "from surprise.model_selection import train_test_split\n",
    "from surprise.model_selection import GridSearchCV\n",
    "from surprise.model_selection import cross_validate"
   ]
  },
  {
   "cell_type": "code",
   "execution_count": 2,
   "metadata": {},
   "outputs": [],
   "source": [
    "data = Dataset.load_builtin('ml-100k')"
   ]
  },
  {
   "cell_type": "code",
   "execution_count": 3,
   "metadata": {},
   "outputs": [],
   "source": [
    "trainset, testset = train_test_split(data, test_size=.25)"
   ]
  },
  {
   "cell_type": "code",
   "execution_count": 83,
   "metadata": {},
   "outputs": [],
   "source": [
    "def TrainAndTestModel(alg):\n",
    "    alg.fit(trainset)\n",
    "    predictions=alg.test(testset)\n",
    "    accuracy.rmse(predictions)\n",
    "    accuracy.mae(predictions)\n",
    "    cross_validate(alg, data, measures=['RMSE', 'MAE', 'FCP'], cv=5, verbose=True)"
   ]
  },
  {
   "cell_type": "markdown",
   "metadata": {},
   "source": [
    "## 0. Random"
   ]
  },
  {
   "cell_type": "code",
   "execution_count": 136,
   "metadata": {},
   "outputs": [
    {
     "name": "stdout",
     "output_type": "stream",
     "text": [
      "RMSE: 1.5165\n",
      "MAE:  1.2197\n",
      "Evaluating RMSE, MAE, FCP of algorithm NormalPredictor on 5 split(s).\n",
      "\n",
      "                  Fold 1  Fold 2  Fold 3  Fold 4  Fold 5  Mean    Std     \n",
      "RMSE (testset)    1.5187  1.5228  1.5228  1.5224  1.5086  1.5190  0.0055  \n",
      "MAE (testset)     1.2184  1.2195  1.2273  1.2238  1.2101  1.2198  0.0058  \n",
      "FCP (testset)     0.5037  0.5004  0.4993  0.4975  0.5067  0.5015  0.0033  \n",
      "Fit time          0.38    0.38    0.25    0.29    0.27    0.31    0.06    \n",
      "Test time         0.30    0.25    0.22    0.28    0.22    0.25    0.03    \n"
     ]
    }
   ],
   "source": [
    "from surprise.prediction_algorithms.random_pred import NormalPredictor\n",
    "\n",
    "algo_r = NormalPredictor()\n",
    "TrainAndTestModel(algo_r)"
   ]
  },
  {
   "cell_type": "markdown",
   "metadata": {},
   "source": [
    "## 1. SVD (Singular Value Decomposition)"
   ]
  },
  {
   "cell_type": "code",
   "execution_count": 98,
   "metadata": {},
   "outputs": [],
   "source": [
    "algo1 = SVD()"
   ]
  },
  {
   "cell_type": "code",
   "execution_count": 134,
   "metadata": {},
   "outputs": [
    {
     "name": "stdout",
     "output_type": "stream",
     "text": [
      "RMSE: 0.9296\n",
      "MAE:  0.7332\n",
      "Evaluating RMSE, MAE, FCP of algorithm SVD on 5 split(s).\n",
      "\n",
      "                  Fold 1  Fold 2  Fold 3  Fold 4  Fold 5  Mean    Std     \n",
      "RMSE (testset)    0.9351  0.9386  0.9307  0.9428  0.9370  0.9368  0.0040  \n",
      "MAE (testset)     0.7364  0.7403  0.7310  0.7403  0.7405  0.7377  0.0037  \n",
      "FCP (testset)     0.7054  0.7000  0.7012  0.6917  0.6962  0.6989  0.0047  \n",
      "Fit time          9.96    9.92    10.13   9.80    9.57    9.88    0.18    \n",
      "Test time         0.26    0.22    0.22    0.22    0.23    0.23    0.01    \n"
     ]
    }
   ],
   "source": [
    "TrainAndTestModel(algo1)"
   ]
  },
  {
   "cell_type": "code",
   "execution_count": 116,
   "metadata": {},
   "outputs": [],
   "source": [
    "#Optimizacija parametara SVD default(15,20,0.005,0.02)"
   ]
  },
  {
   "cell_type": "code",
   "execution_count": 124,
   "metadata": {},
   "outputs": [],
   "source": [
    "param_grid = {'n_factors':[5,10,15],'n_epochs': [5, 10, 15,20], 'lr_all': [0.002, 0.005, 0.01, 0.3],\n",
    "              'reg_all': [0.01,0.02,0.04,0.4,0.6]}"
   ]
  },
  {
   "cell_type": "code",
   "execution_count": 118,
   "metadata": {},
   "outputs": [],
   "source": [
    "gs = GridSearchCV(SVD, param_grid, measures=['rmse', 'mae'], cv=3)"
   ]
  },
  {
   "cell_type": "code",
   "execution_count": 119,
   "metadata": {},
   "outputs": [],
   "source": [
    "gs.fit(data)"
   ]
  },
  {
   "cell_type": "code",
   "execution_count": 120,
   "metadata": {},
   "outputs": [
    {
     "name": "stdout",
     "output_type": "stream",
     "text": [
      "0.9342943563328268\n"
     ]
    }
   ],
   "source": [
    "print(gs.best_score['rmse'])"
   ]
  },
  {
   "cell_type": "code",
   "execution_count": 125,
   "metadata": {},
   "outputs": [
    {
     "name": "stdout",
     "output_type": "stream",
     "text": [
      "{'n_factors': 10, 'n_epochs': 20, 'lr_all': 0.01, 'reg_all': 0.04}\n"
     ]
    }
   ],
   "source": [
    "print(gs.best_params['rmse'])\n",
    "algo = gs.best_estimator['rmse']"
   ]
  },
  {
   "cell_type": "code",
   "execution_count": 123,
   "metadata": {},
   "outputs": [
    {
     "name": "stdout",
     "output_type": "stream",
     "text": [
      "RMSE: 0.9225\n",
      "MAE:  0.7292\n",
      "Evaluating RMSE, MAE, FCP of algorithm SVD on 5 split(s).\n",
      "\n",
      "                  Fold 1  Fold 2  Fold 3  Fold 4  Fold 5  Mean    Std     \n",
      "RMSE (testset)    0.9279  0.9248  0.9300  0.9220  0.9204  0.9250  0.0036  \n",
      "MAE (testset)     0.7317  0.7275  0.7284  0.7285  0.7247  0.7281  0.0022  \n",
      "FCP (testset)     0.7021  0.7097  0.7045  0.7070  0.7174  0.7081  0.0053  \n",
      "Fit time          4.18    4.01    3.99    3.68    3.11    3.79    0.38    \n",
      "Test time         0.23    0.36    0.32    0.28    0.21    0.28    0.06    \n"
     ]
    }
   ],
   "source": [
    "TrainAndTestModel(algo)"
   ]
  },
  {
   "cell_type": "markdown",
   "metadata": {},
   "source": [
    "## 2. SVD++ (Singular Value Decomposition)"
   ]
  },
  {
   "cell_type": "code",
   "execution_count": 75,
   "metadata": {},
   "outputs": [],
   "source": [
    "from surprise.prediction_algorithms.matrix_factorization import SVDpp"
   ]
  },
  {
   "cell_type": "code",
   "execution_count": 76,
   "metadata": {},
   "outputs": [],
   "source": [
    "algo2 = SVDpp()\n",
    "algo2.fit(trainset)\n",
    "predictions2 = algo2.test(testset)"
   ]
  },
  {
   "cell_type": "code",
   "execution_count": 77,
   "metadata": {},
   "outputs": [
    {
     "name": "stdout",
     "output_type": "stream",
     "text": [
      "RMSE: 0.9166\n",
      "MAE:  0.7212\n"
     ]
    },
    {
     "data": {
      "text/plain": [
       "0.7211969567252345"
      ]
     },
     "execution_count": 77,
     "metadata": {},
     "output_type": "execute_result"
    }
   ],
   "source": [
    "accuracy.rmse(predictions2)\n",
    "accuracy.mae(predictions2)"
   ]
  },
  {
   "cell_type": "raw",
   "metadata": {},
   "source": [
    "cross_validate(algo2, data, measures=['RMSE', 'MAE', 'FCP'], cv=5, verbose=True)"
   ]
  },
  {
   "cell_type": "markdown",
   "metadata": {},
   "source": [
    "## 3. NMF ( Non-negative Matrix Factorization )"
   ]
  },
  {
   "cell_type": "code",
   "execution_count": 144,
   "metadata": {},
   "outputs": [
    {
     "name": "stdout",
     "output_type": "stream",
     "text": [
      "RMSE: 0.9591\n",
      "MAE:  0.7550\n",
      "Evaluating RMSE, MAE, FCP of algorithm NMF on 5 split(s).\n",
      "\n",
      "                  Fold 1  Fold 2  Fold 3  Fold 4  Fold 5  Mean    Std     \n",
      "RMSE (testset)    0.9654  0.9652  0.9587  0.9662  0.9662  0.9643  0.0029  \n",
      "MAE (testset)     0.7575  0.7591  0.7555  0.7595  0.7582  0.7580  0.0014  \n",
      "FCP (testset)     0.6901  0.6905  0.6800  0.6865  0.6934  0.6881  0.0046  \n",
      "Fit time          12.78   12.74   13.37   13.20   9.93    12.40   1.26    \n",
      "Test time         0.24    0.24    0.26    0.23    0.24    0.24    0.01    \n"
     ]
    }
   ],
   "source": [
    "from surprise.prediction_algorithms.matrix_factorization import NMF\n",
    "algo3 = NMF()\n",
    "TrainAndTestModel(algo3)"
   ]
  },
  {
   "cell_type": "code",
   "execution_count": 139,
   "metadata": {},
   "outputs": [],
   "source": [
    "param_grid1 = {'n_factors':[5,10,15,20], 'n_epochs':[25,50,75]}"
   ]
  },
  {
   "cell_type": "code",
   "execution_count": 140,
   "metadata": {},
   "outputs": [],
   "source": [
    "gs1 = GridSearchCV(NMF, param_grid1, measures=['rmse', 'mae'], cv=3)"
   ]
  },
  {
   "cell_type": "code",
   "execution_count": null,
   "metadata": {},
   "outputs": [],
   "source": [
    "gs1.fit(data)"
   ]
  },
  {
   "cell_type": "code",
   "execution_count": 142,
   "metadata": {},
   "outputs": [
    {
     "name": "stdout",
     "output_type": "stream",
     "text": [
      "0.973010364187657\n"
     ]
    }
   ],
   "source": [
    "print(gs1.best_score['rmse'])"
   ]
  },
  {
   "cell_type": "code",
   "execution_count": 138,
   "metadata": {},
   "outputs": [
    {
     "name": "stdout",
     "output_type": "stream",
     "text": [
      "{'n_factors': 5, 'n_epochs': 75}\n",
      "RMSE: 0.9573\n",
      "MAE:  0.7418\n",
      "Evaluating RMSE, MAE, FCP of algorithm NMF on 5 split(s).\n",
      "\n",
      "                  Fold 1  Fold 2  Fold 3  Fold 4  Fold 5  Mean    Std     \n",
      "RMSE (testset)    0.9486  0.9624  0.9577  0.9642  0.9546  0.9575  0.0056  \n",
      "MAE (testset)     0.7374  0.7479  0.7412  0.7468  0.7395  0.7425  0.0041  \n",
      "FCP (testset)     0.7050  0.6996  0.6925  0.6932  0.7002  0.6981  0.0047  \n",
      "Fit time          12.21   12.46   12.71   12.49   11.60   12.30   0.38    \n",
      "Test time         0.26    0.25    0.27    0.33    0.19    0.26    0.05    \n"
     ]
    }
   ],
   "source": [
    "print(gs1.best_params['rmse'])\n",
    "algo3 = gs1.best_estimator['rmse']\n",
    "algo3.fit(data.build_full_trainset())\n",
    "TrainAndTestModel(algo3)"
   ]
  },
  {
   "cell_type": "markdown",
   "metadata": {},
   "source": [
    "## 4. SlopeOne "
   ]
  },
  {
   "cell_type": "code",
   "execution_count": 145,
   "metadata": {},
   "outputs": [
    {
     "name": "stdout",
     "output_type": "stream",
     "text": [
      "RMSE: 0.9350\n",
      "MAE:  0.7361\n",
      "Evaluating RMSE, MAE, FCP of algorithm SlopeOne on 5 split(s).\n",
      "\n",
      "                  Fold 1  Fold 2  Fold 3  Fold 4  Fold 5  Mean    Std     \n",
      "RMSE (testset)    0.9385  0.9437  0.9509  0.9450  0.9445  0.9445  0.0039  \n",
      "MAE (testset)     0.7396  0.7404  0.7452  0.7456  0.7417  0.7425  0.0025  \n",
      "FCP (testset)     0.6960  0.6953  0.6954  0.7004  0.6994  0.6973  0.0022  \n",
      "Fit time          2.41    2.31    2.49    2.02    1.85    2.22    0.24    \n",
      "Test time         6.33    6.34    6.77    6.64    4.77    6.17    0.72    \n"
     ]
    }
   ],
   "source": [
    "from surprise.prediction_algorithms.slope_one import SlopeOne\n",
    "algo4 = SlopeOne()\n",
    "TrainAndTestModel(algo4)"
   ]
  },
  {
   "cell_type": "markdown",
   "metadata": {},
   "source": [
    "## 5. KNNBasic "
   ]
  },
  {
   "cell_type": "code",
   "execution_count": 146,
   "metadata": {},
   "outputs": [
    {
     "name": "stdout",
     "output_type": "stream",
     "text": [
      "Computing the msd similarity matrix...\n",
      "Done computing similarity matrix.\n",
      "RMSE: 0.9724\n",
      "MAE:  0.7682\n",
      "Evaluating RMSE, MAE, FCP of algorithm KNNBasic on 5 split(s).\n",
      "\n",
      "                  Fold 1  Fold 2  Fold 3  Fold 4  Fold 5  Mean    Std     \n",
      "RMSE (testset)    0.9826  0.9791  0.9739  0.9756  0.9824  0.9787  0.0035  \n",
      "MAE (testset)     0.7769  0.7731  0.7680  0.7720  0.7758  0.7732  0.0031  \n",
      "FCP (testset)     0.7006  0.7134  0.7061  0.7136  0.7091  0.7085  0.0049  \n",
      "Fit time          1.47    1.29    1.66    1.52    0.87    1.36    0.27    \n",
      "Test time         5.14    5.02    5.36    5.13    4.68    5.07    0.22    \n"
     ]
    }
   ],
   "source": [
    "from surprise.prediction_algorithms.knns import KNNBasic\n",
    "algo5 = KNNBasic()\n",
    "TrainAndTestModel(algo5)"
   ]
  },
  {
   "cell_type": "code",
   "execution_count": 147,
   "metadata": {},
   "outputs": [],
   "source": [
    "#40,1\n",
    "param_grid2 = {'k':[10,20,40,60], 'min_k':[1,3,4,5]}"
   ]
  },
  {
   "cell_type": "code",
   "execution_count": 148,
   "metadata": {},
   "outputs": [],
   "source": [
    "gs2 = GridSearchCV(KNNBasic, param_grid2, measures=['rmse', 'mae'], cv=3)"
   ]
  },
  {
   "cell_type": "code",
   "execution_count": 149,
   "metadata": {},
   "outputs": [],
   "source": [
    "gs2.fit(data)"
   ]
  },
  {
   "cell_type": "code",
   "execution_count": 150,
   "metadata": {},
   "outputs": [
    {
     "name": "stdout",
     "output_type": "stream",
     "text": [
      "0.9861530744908782\n"
     ]
    }
   ],
   "source": [
    "print(gs2.best_score['rmse'])"
   ]
  },
  {
   "cell_type": "code",
   "execution_count": 151,
   "metadata": {},
   "outputs": [
    {
     "name": "stdout",
     "output_type": "stream",
     "text": [
      "{'k': 20, 'min_k': 3}\n"
     ]
    },
    {
     "data": {
      "text/plain": [
       "<surprise.prediction_algorithms.matrix_factorization.NMF at 0xa2fbe50>"
      ]
     },
     "execution_count": 151,
     "metadata": {},
     "output_type": "execute_result"
    }
   ],
   "source": [
    "print(gs2.best_params['rmse'])\n",
    "algo5 = gs1.best_estimator['rmse']\n",
    "algo5.fit(data.build_full_trainset())"
   ]
  },
  {
   "cell_type": "markdown",
   "metadata": {},
   "source": [
    "## 6. KNNWithZScore "
   ]
  },
  {
   "cell_type": "code",
   "execution_count": 152,
   "metadata": {},
   "outputs": [
    {
     "name": "stdout",
     "output_type": "stream",
     "text": [
      "Computing the msd similarity matrix...\n",
      "Done computing similarity matrix.\n",
      "RMSE: 0.9451\n",
      "MAE:  0.7423\n",
      "Evaluating RMSE, MAE, FCP of algorithm KNNWithZScore on 5 split(s).\n",
      "\n",
      "                  Fold 1  Fold 2  Fold 3  Fold 4  Fold 5  Mean    Std     \n",
      "RMSE (testset)    0.9369  0.9458  0.9637  0.9595  0.9519  0.9515  0.0096  \n",
      "MAE (testset)     0.7332  0.7401  0.7553  0.7541  0.7495  0.7464  0.0085  \n",
      "FCP (testset)     0.7074  0.7056  0.6968  0.7035  0.7004  0.7027  0.0038  \n",
      "Fit time          1.32    1.29    1.39    1.49    1.38    1.37    0.07    \n",
      "Test time         7.06    7.14    6.28    6.36    7.01    6.77    0.37    \n"
     ]
    }
   ],
   "source": [
    "from surprise.prediction_algorithms.knns import KNNWithZScore\n",
    "algo6 = KNNWithZScore()\n",
    "TrainAndTestModel(algo6)"
   ]
  },
  {
   "cell_type": "code",
   "execution_count": 40,
   "metadata": {},
   "outputs": [],
   "source": [
    "param_grid3 = {'k':[20,40,60], 'min_k':[1,3,5]}"
   ]
  },
  {
   "cell_type": "code",
   "execution_count": 41,
   "metadata": {},
   "outputs": [],
   "source": [
    "gs3 = GridSearchCV(KNNWithZScore, param_grid3, measures=['rmse', 'mae'], cv=3)"
   ]
  },
  {
   "cell_type": "code",
   "execution_count": 42,
   "metadata": {},
   "outputs": [],
   "source": [
    "gs3.fit(data)"
   ]
  },
  {
   "cell_type": "code",
   "execution_count": 43,
   "metadata": {},
   "outputs": [
    {
     "name": "stdout",
     "output_type": "stream",
     "text": [
      "0.9548599873047982\n"
     ]
    }
   ],
   "source": [
    "print(gs3.best_score['rmse'])"
   ]
  },
  {
   "cell_type": "code",
   "execution_count": 44,
   "metadata": {},
   "outputs": [
    {
     "name": "stdout",
     "output_type": "stream",
     "text": [
      "{'k': 60, 'min_k': 3}\n",
      "Computing the msd similarity matrix...\n",
      "Done computing similarity matrix.\n"
     ]
    },
    {
     "data": {
      "text/plain": [
       "<surprise.prediction_algorithms.knns.KNNWithZScore at 0xa360670>"
      ]
     },
     "execution_count": 44,
     "metadata": {},
     "output_type": "execute_result"
    }
   ],
   "source": [
    "print(gs3.best_params['rmse'])\n",
    "algo6 = gs3.best_estimator['rmse']\n",
    "algo6.fit(data.build_full_trainset())"
   ]
  },
  {
   "cell_type": "markdown",
   "metadata": {},
   "source": [
    "## 7. KNNBaseline "
   ]
  },
  {
   "cell_type": "code",
   "execution_count": 153,
   "metadata": {},
   "outputs": [
    {
     "name": "stdout",
     "output_type": "stream",
     "text": [
      "Estimating biases using als...\n",
      "Computing the msd similarity matrix...\n",
      "Done computing similarity matrix.\n",
      "RMSE: 0.9230\n",
      "MAE:  0.7277\n",
      "Evaluating RMSE, MAE, FCP of algorithm KNNBaseline on 5 split(s).\n",
      "\n",
      "                  Fold 1  Fold 2  Fold 3  Fold 4  Fold 5  Mean    Std     \n",
      "RMSE (testset)    0.9260  0.9319  0.9328  0.9318  0.9319  0.9309  0.0025  \n",
      "MAE (testset)     0.7292  0.7353  0.7351  0.7319  0.7347  0.7332  0.0024  \n",
      "FCP (testset)     0.7027  0.7028  0.7050  0.7055  0.7070  0.7046  0.0017  \n",
      "Fit time          1.37    1.32    1.45    1.14    1.14    1.28    0.13    \n",
      "Test time         7.39    7.36    6.64    6.62    5.96    6.79    0.53    \n"
     ]
    }
   ],
   "source": [
    "from surprise.prediction_algorithms.knns import KNNBaseline\n",
    "\n",
    "algo7 = KNNBaseline()\n",
    "TrainAndTestModel(algo7)"
   ]
  },
  {
   "cell_type": "code",
   "execution_count": 46,
   "metadata": {},
   "outputs": [],
   "source": [
    "param_grid4 = {'k':[20,40,60], 'min_k':[1,3,5]\n",
    "              }"
   ]
  },
  {
   "cell_type": "code",
   "execution_count": 47,
   "metadata": {},
   "outputs": [],
   "source": [
    "gs4 = GridSearchCV(KNNBaseline, param_grid4, measures=['rmse', 'mae'], cv=3)"
   ]
  },
  {
   "cell_type": "code",
   "execution_count": 48,
   "metadata": {},
   "outputs": [],
   "source": [
    "gs4.fit(data)"
   ]
  },
  {
   "cell_type": "code",
   "execution_count": 49,
   "metadata": {},
   "outputs": [
    {
     "name": "stdout",
     "output_type": "stream",
     "text": [
      "0.9340694348797752\n"
     ]
    }
   ],
   "source": [
    "print(gs4.best_score['rmse'])"
   ]
  },
  {
   "cell_type": "code",
   "execution_count": 50,
   "metadata": {},
   "outputs": [
    {
     "name": "stdout",
     "output_type": "stream",
     "text": [
      "{'k': 60, 'min_k': 5}\n",
      "Estimating biases using als...\n",
      "Computing the msd similarity matrix...\n",
      "Done computing similarity matrix.\n"
     ]
    },
    {
     "data": {
      "text/plain": [
       "<surprise.prediction_algorithms.knns.KNNBaseline at 0xe58ef10>"
      ]
     },
     "execution_count": 50,
     "metadata": {},
     "output_type": "execute_result"
    }
   ],
   "source": [
    "print(gs4.best_params['rmse'])\n",
    "algo7 = gs4.best_estimator['rmse']\n",
    "algo7.fit(data.build_full_trainset())"
   ]
  },
  {
   "cell_type": "markdown",
   "metadata": {},
   "source": [
    "## 8. CoClustering "
   ]
  },
  {
   "cell_type": "code",
   "execution_count": 154,
   "metadata": {},
   "outputs": [
    {
     "name": "stdout",
     "output_type": "stream",
     "text": [
      "RMSE: 0.9662\n",
      "MAE:  0.7577\n",
      "Evaluating RMSE, MAE, FCP of algorithm CoClustering on 5 split(s).\n",
      "\n",
      "                  Fold 1  Fold 2  Fold 3  Fold 4  Fold 5  Mean    Std     \n",
      "RMSE (testset)    0.9592  0.9710  0.9637  0.9662  0.9697  0.9660  0.0042  \n",
      "MAE (testset)     0.7495  0.7603  0.7550  0.7561  0.7590  0.7560  0.0038  \n",
      "FCP (testset)     0.7045  0.6865  0.6944  0.6949  0.6938  0.6948  0.0057  \n",
      "Fit time          3.26    3.23    3.29    2.84    2.58    3.04    0.28    \n",
      "Test time         0.24    0.23    0.18    0.19    0.16    0.20    0.03    \n"
     ]
    }
   ],
   "source": [
    "from surprise.prediction_algorithms.co_clustering import CoClustering\n",
    "\n",
    "algo8 = CoClustering()\n",
    "TrainAndTestModel(algo8)"
   ]
  },
  {
   "cell_type": "code",
   "execution_count": 52,
   "metadata": {},
   "outputs": [],
   "source": [
    "param_grid7 = {'n_epochs':[25,50,75] ,'n_cltr_u':[1,3,5,7], 'n_cltr_i':[1,3,5,7]\n",
    "              }"
   ]
  },
  {
   "cell_type": "code",
   "execution_count": 53,
   "metadata": {},
   "outputs": [],
   "source": [
    "gs7 = GridSearchCV(CoClustering, param_grid7, measures=['rmse', 'mae'], cv=3)"
   ]
  },
  {
   "cell_type": "code",
   "execution_count": 54,
   "metadata": {},
   "outputs": [],
   "source": [
    "gs7.fit(data)"
   ]
  },
  {
   "cell_type": "code",
   "execution_count": 55,
   "metadata": {},
   "outputs": [
    {
     "name": "stdout",
     "output_type": "stream",
     "text": [
      "0.9684113570378144\n"
     ]
    }
   ],
   "source": [
    "print(gs7.best_score['rmse'])"
   ]
  },
  {
   "cell_type": "code",
   "execution_count": 56,
   "metadata": {},
   "outputs": [
    {
     "name": "stdout",
     "output_type": "stream",
     "text": [
      "{'n_epochs': 75, 'n_cltr_u': 5, 'n_cltr_i': 3}\n"
     ]
    },
    {
     "data": {
      "text/plain": [
       "<surprise.prediction_algorithms.co_clustering.CoClustering at 0x1189ba90>"
      ]
     },
     "execution_count": 56,
     "metadata": {},
     "output_type": "execute_result"
    }
   ],
   "source": [
    "print(gs7.best_params['rmse'])\n",
    "algo8 = gs7.best_estimator['rmse']\n",
    "algo8.fit(data.build_full_trainset())"
   ]
  },
  {
   "cell_type": "markdown",
   "metadata": {},
   "source": [
    "## 9. KNNWithMeans "
   ]
  },
  {
   "cell_type": "code",
   "execution_count": 155,
   "metadata": {},
   "outputs": [
    {
     "name": "stdout",
     "output_type": "stream",
     "text": [
      "Computing the msd similarity matrix...\n",
      "Done computing similarity matrix.\n",
      "RMSE: 0.9451\n",
      "MAE:  0.7452\n",
      "Evaluating RMSE, MAE, FCP of algorithm KNNWithMeans on 5 split(s).\n",
      "\n",
      "                  Fold 1  Fold 2  Fold 3  Fold 4  Fold 5  Mean    Std     \n",
      "RMSE (testset)    0.9446  0.9597  0.9572  0.9476  0.9446  0.9508  0.0064  \n",
      "MAE (testset)     0.7446  0.7551  0.7555  0.7494  0.7427  0.7495  0.0052  \n",
      "FCP (testset)     0.7054  0.7041  0.7012  0.6999  0.7057  0.7033  0.0023  \n",
      "Fit time          1.12    0.97    1.21    1.07    0.91    1.05    0.11    \n",
      "Test time         4.91    5.15    4.98    5.08    4.81    4.99    0.12    \n"
     ]
    }
   ],
   "source": [
    "from surprise.prediction_algorithms.knns import KNNWithMeans\n",
    "algo9 = KNNWithMeans()\n",
    "TrainAndTestModel(algo9)"
   ]
  },
  {
   "cell_type": "code",
   "execution_count": 58,
   "metadata": {},
   "outputs": [],
   "source": [
    "param_grid5 = {'k':[40,60,80], 'min_k':[1,3,5,7]\n",
    "              }"
   ]
  },
  {
   "cell_type": "code",
   "execution_count": 59,
   "metadata": {},
   "outputs": [],
   "source": [
    "gs5 = GridSearchCV(KNNWithMeans, param_grid5, measures=['rmse', 'mae'], cv=3)"
   ]
  },
  {
   "cell_type": "code",
   "execution_count": 60,
   "metadata": {},
   "outputs": [],
   "source": [
    "gs5.fit(data)"
   ]
  },
  {
   "cell_type": "code",
   "execution_count": 61,
   "metadata": {},
   "outputs": [
    {
     "name": "stdout",
     "output_type": "stream",
     "text": [
      "0.9556160524946807\n"
     ]
    }
   ],
   "source": [
    "print(gs5.best_score['rmse'])"
   ]
  },
  {
   "cell_type": "code",
   "execution_count": 62,
   "metadata": {},
   "outputs": [
    {
     "name": "stdout",
     "output_type": "stream",
     "text": [
      "{'k': 60, 'min_k': 3}\n",
      "Computing the msd similarity matrix...\n",
      "Done computing similarity matrix.\n"
     ]
    },
    {
     "data": {
      "text/plain": [
       "<surprise.prediction_algorithms.knns.KNNWithMeans at 0x137456b0>"
      ]
     },
     "execution_count": 62,
     "metadata": {},
     "output_type": "execute_result"
    }
   ],
   "source": [
    "print(gs5.best_params['rmse'])\n",
    "algo9 = gs5.best_estimator['rmse']\n",
    "algo9.fit(data.build_full_trainset())"
   ]
  },
  {
   "cell_type": "markdown",
   "metadata": {},
   "source": [
    "## 10. BaselineOnly "
   ]
  },
  {
   "cell_type": "code",
   "execution_count": 63,
   "metadata": {},
   "outputs": [
    {
     "name": "stdout",
     "output_type": "stream",
     "text": [
      "Estimating biases using als...\n",
      "RMSE: 0.9362\n",
      "MAE:  0.7435\n"
     ]
    },
    {
     "data": {
      "text/plain": [
       "0.743474660829392"
      ]
     },
     "execution_count": 63,
     "metadata": {},
     "output_type": "execute_result"
    }
   ],
   "source": [
    "from surprise.prediction_algorithms.baseline_only import BaselineOnly\n",
    "algo10 = BaselineOnly()\n",
    "algo10.fit(trainset)\n",
    "predictions10 = algo10.test(testset)\n",
    "accuracy.rmse(predictions10)\n",
    "accuracy.mae(predictions10)"
   ]
  },
  {
   "cell_type": "code",
   "execution_count": 137,
   "metadata": {},
   "outputs": [
    {
     "name": "stdout",
     "output_type": "stream",
     "text": [
      "Estimating biases using als...\n",
      "RMSE: 0.9362\n",
      "MAE:  0.7435\n",
      "Evaluating RMSE, MAE, FCP of algorithm BaselineOnly on 5 split(s).\n",
      "\n",
      "                  Fold 1  Fold 2  Fold 3  Fold 4  Fold 5  Mean    Std     \n",
      "RMSE (testset)    0.9316  0.9483  0.9491  0.9481  0.9444  0.9443  0.0066  \n",
      "MAE (testset)     0.7383  0.7527  0.7503  0.7495  0.7524  0.7486  0.0053  \n",
      "FCP (testset)     0.7005  0.6970  0.6997  0.6869  0.6893  0.6947  0.0055  \n",
      "Fit time          0.19    0.22    0.16    0.09    0.08    0.15    0.05    \n",
      "Test time         0.28    0.25    0.22    0.28    0.23    0.25    0.03    \n"
     ]
    }
   ],
   "source": [
    "from surprise.prediction_algorithms.baseline_only import BaselineOnly\n",
    "algo10 = BaselineOnly()\n",
    "TrainAndTestModel(algo10)"
   ]
  },
  {
   "cell_type": "code",
   "execution_count": 64,
   "metadata": {},
   "outputs": [],
   "source": [
    "param_grid6 = {'bsl_options': {'method': ['als', 'sgd'],\n",
    "                              'reg': [1, 2]}\n",
    "              }"
   ]
  },
  {
   "cell_type": "code",
   "execution_count": 65,
   "metadata": {},
   "outputs": [],
   "source": [
    "gs6 = GridSearchCV(BaselineOnly, param_grid6, measures=['rmse', 'mae'], cv=3)"
   ]
  },
  {
   "cell_type": "code",
   "execution_count": 66,
   "metadata": {},
   "outputs": [],
   "source": [
    "gs6.fit(data)"
   ]
  },
  {
   "cell_type": "code",
   "execution_count": 67,
   "metadata": {},
   "outputs": [
    {
     "name": "stdout",
     "output_type": "stream",
     "text": [
      "0.9475444004779824\n"
     ]
    }
   ],
   "source": [
    "print(gs6.best_score['rmse'])"
   ]
  },
  {
   "cell_type": "code",
   "execution_count": 68,
   "metadata": {},
   "outputs": [
    {
     "name": "stdout",
     "output_type": "stream",
     "text": [
      "{'bsl_options': {'method': 'als', 'reg': 1}}\n",
      "Estimating biases using als...\n"
     ]
    },
    {
     "data": {
      "text/plain": [
       "<surprise.prediction_algorithms.baseline_only.BaselineOnly at 0x13e1fcb0>"
      ]
     },
     "execution_count": 68,
     "metadata": {},
     "output_type": "execute_result"
    }
   ],
   "source": [
    "print(gs6.best_params['rmse'])\n",
    "algo10 = gs6.best_estimator['rmse']\n",
    "algo10.fit(data.build_full_trainset())"
   ]
  },
  {
   "cell_type": "raw",
   "metadata": {},
   "source": [
    "algos=[algo1,algo3,algo4,algo5,algo6,algo7,algo8,algo9,algo10]\n",
    "# Run 5-fold cross-validation and print results.\n",
    "for a in range(len(algos)):\n",
    "    print('\\n')\n",
    "    cross_validate(algos[a], data, measures=['RMSE', 'MAE', 'FCP'], cv=5, verbose=True)"
   ]
  },
  {
   "cell_type": "code",
   "execution_count": null,
   "metadata": {},
   "outputs": [],
   "source": []
  },
  {
   "cell_type": "code",
   "execution_count": null,
   "metadata": {},
   "outputs": [],
   "source": []
  }
 ],
 "metadata": {
  "kernelspec": {
   "display_name": "Python 3",
   "language": "python",
   "name": "python3"
  },
  "language_info": {
   "codemirror_mode": {
    "name": "ipython",
    "version": 3
   },
   "file_extension": ".py",
   "mimetype": "text/x-python",
   "name": "python",
   "nbconvert_exporter": "python",
   "pygments_lexer": "ipython3",
   "version": "3.6.3"
  }
 },
 "nbformat": 4,
 "nbformat_minor": 2
}
