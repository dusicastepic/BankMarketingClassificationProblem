{
 "cells": [
  {
   "cell_type": "markdown",
   "metadata": {},
   "source": [
    "## Učitati skup podataka "
   ]
  },
  {
   "cell_type": "code",
   "execution_count": 806,
   "metadata": {},
   "outputs": [],
   "source": [
    "import pandas as pd\n",
    "import numpy as np"
   ]
  },
  {
   "cell_type": "code",
   "execution_count": 807,
   "metadata": {},
   "outputs": [],
   "source": [
    "bank=pd.read_csv('C:\\\\Users\\\\Dusica\\\\Downloads\\\\Bank Marketing\\\\bank-additional.txt',sep=';')"
   ]
  },
  {
   "cell_type": "markdown",
   "metadata": {},
   "source": [
    "## Deskriptivna statistika skupa podataka "
   ]
  },
  {
   "cell_type": "code",
   "execution_count": 808,
   "metadata": {},
   "outputs": [
    {
     "data": {
      "text/plain": [
       "(4119, 21)"
      ]
     },
     "execution_count": 808,
     "metadata": {},
     "output_type": "execute_result"
    }
   ],
   "source": [
    "bank.shape\n"
   ]
  },
  {
   "cell_type": "code",
   "execution_count": 809,
   "metadata": {},
   "outputs": [
    {
     "data": {
      "text/html": [
       "<div>\n",
       "<style>\n",
       "    .dataframe thead tr:only-child th {\n",
       "        text-align: right;\n",
       "    }\n",
       "\n",
       "    .dataframe thead th {\n",
       "        text-align: left;\n",
       "    }\n",
       "\n",
       "    .dataframe tbody tr th {\n",
       "        vertical-align: top;\n",
       "    }\n",
       "</style>\n",
       "<table border=\"1\" class=\"dataframe\">\n",
       "  <thead>\n",
       "    <tr style=\"text-align: right;\">\n",
       "      <th></th>\n",
       "      <th>age</th>\n",
       "      <th>duration</th>\n",
       "      <th>campaign</th>\n",
       "      <th>pdays</th>\n",
       "      <th>previous</th>\n",
       "      <th>emp.var.rate</th>\n",
       "      <th>cons.price.idx</th>\n",
       "      <th>cons.conf.idx</th>\n",
       "      <th>euribor3m</th>\n",
       "    </tr>\n",
       "  </thead>\n",
       "  <tbody>\n",
       "    <tr>\n",
       "      <th>count</th>\n",
       "      <td>4119.000000</td>\n",
       "      <td>4116.000000</td>\n",
       "      <td>4114.000000</td>\n",
       "      <td>4119.000000</td>\n",
       "      <td>4117.000000</td>\n",
       "      <td>4116.000000</td>\n",
       "      <td>4117.000000</td>\n",
       "      <td>4117.000000</td>\n",
       "      <td>4117.000000</td>\n",
       "    </tr>\n",
       "    <tr>\n",
       "      <th>mean</th>\n",
       "      <td>40.113620</td>\n",
       "      <td>256.869048</td>\n",
       "      <td>2.534273</td>\n",
       "      <td>960.422190</td>\n",
       "      <td>0.190430</td>\n",
       "      <td>0.084694</td>\n",
       "      <td>93.579540</td>\n",
       "      <td>-40.486358</td>\n",
       "      <td>4.858993</td>\n",
       "    </tr>\n",
       "    <tr>\n",
       "      <th>std</th>\n",
       "      <td>10.313362</td>\n",
       "      <td>254.763913</td>\n",
       "      <td>2.566673</td>\n",
       "      <td>191.922786</td>\n",
       "      <td>0.541904</td>\n",
       "      <td>1.563361</td>\n",
       "      <td>0.579442</td>\n",
       "      <td>4.639840</td>\n",
       "      <td>79.432456</td>\n",
       "    </tr>\n",
       "    <tr>\n",
       "      <th>min</th>\n",
       "      <td>18.000000</td>\n",
       "      <td>0.000000</td>\n",
       "      <td>1.000000</td>\n",
       "      <td>0.000000</td>\n",
       "      <td>0.000000</td>\n",
       "      <td>-3.400000</td>\n",
       "      <td>92.201000</td>\n",
       "      <td>-50.800000</td>\n",
       "      <td>0.635000</td>\n",
       "    </tr>\n",
       "    <tr>\n",
       "      <th>25%</th>\n",
       "      <td>32.000000</td>\n",
       "      <td>103.000000</td>\n",
       "      <td>1.000000</td>\n",
       "      <td>999.000000</td>\n",
       "      <td>0.000000</td>\n",
       "      <td>-1.800000</td>\n",
       "      <td>93.075000</td>\n",
       "      <td>-42.700000</td>\n",
       "      <td>1.334000</td>\n",
       "    </tr>\n",
       "    <tr>\n",
       "      <th>50%</th>\n",
       "      <td>38.000000</td>\n",
       "      <td>181.000000</td>\n",
       "      <td>2.000000</td>\n",
       "      <td>999.000000</td>\n",
       "      <td>0.000000</td>\n",
       "      <td>1.100000</td>\n",
       "      <td>93.749000</td>\n",
       "      <td>-41.800000</td>\n",
       "      <td>4.857000</td>\n",
       "    </tr>\n",
       "    <tr>\n",
       "      <th>75%</th>\n",
       "      <td>47.000000</td>\n",
       "      <td>317.250000</td>\n",
       "      <td>3.000000</td>\n",
       "      <td>999.000000</td>\n",
       "      <td>0.000000</td>\n",
       "      <td>1.400000</td>\n",
       "      <td>93.994000</td>\n",
       "      <td>-36.400000</td>\n",
       "      <td>4.961000</td>\n",
       "    </tr>\n",
       "    <tr>\n",
       "      <th>max</th>\n",
       "      <td>88.000000</td>\n",
       "      <td>3643.000000</td>\n",
       "      <td>35.000000</td>\n",
       "      <td>999.000000</td>\n",
       "      <td>6.000000</td>\n",
       "      <td>1.400000</td>\n",
       "      <td>94.767000</td>\n",
       "      <td>1.266000</td>\n",
       "      <td>5099.100000</td>\n",
       "    </tr>\n",
       "  </tbody>\n",
       "</table>\n",
       "</div>"
      ],
      "text/plain": [
       "               age     duration     campaign        pdays     previous  \\\n",
       "count  4119.000000  4116.000000  4114.000000  4119.000000  4117.000000   \n",
       "mean     40.113620   256.869048     2.534273   960.422190     0.190430   \n",
       "std      10.313362   254.763913     2.566673   191.922786     0.541904   \n",
       "min      18.000000     0.000000     1.000000     0.000000     0.000000   \n",
       "25%      32.000000   103.000000     1.000000   999.000000     0.000000   \n",
       "50%      38.000000   181.000000     2.000000   999.000000     0.000000   \n",
       "75%      47.000000   317.250000     3.000000   999.000000     0.000000   \n",
       "max      88.000000  3643.000000    35.000000   999.000000     6.000000   \n",
       "\n",
       "       emp.var.rate  cons.price.idx  cons.conf.idx    euribor3m  \n",
       "count   4116.000000     4117.000000    4117.000000  4117.000000  \n",
       "mean       0.084694       93.579540     -40.486358     4.858993  \n",
       "std        1.563361        0.579442       4.639840    79.432456  \n",
       "min       -3.400000       92.201000     -50.800000     0.635000  \n",
       "25%       -1.800000       93.075000     -42.700000     1.334000  \n",
       "50%        1.100000       93.749000     -41.800000     4.857000  \n",
       "75%        1.400000       93.994000     -36.400000     4.961000  \n",
       "max        1.400000       94.767000       1.266000  5099.100000  "
      ]
     },
     "execution_count": 809,
     "metadata": {},
     "output_type": "execute_result"
    }
   ],
   "source": [
    "bank.describe()"
   ]
  },
  {
   "cell_type": "code",
   "execution_count": 810,
   "metadata": {},
   "outputs": [
    {
     "data": {
      "text/html": [
       "<div>\n",
       "<style>\n",
       "    .dataframe thead tr:only-child th {\n",
       "        text-align: right;\n",
       "    }\n",
       "\n",
       "    .dataframe thead th {\n",
       "        text-align: left;\n",
       "    }\n",
       "\n",
       "    .dataframe tbody tr th {\n",
       "        vertical-align: top;\n",
       "    }\n",
       "</style>\n",
       "<table border=\"1\" class=\"dataframe\">\n",
       "  <thead>\n",
       "    <tr style=\"text-align: right;\">\n",
       "      <th></th>\n",
       "      <th>job</th>\n",
       "      <th>marital</th>\n",
       "      <th>education</th>\n",
       "      <th>default</th>\n",
       "      <th>housing</th>\n",
       "      <th>loan</th>\n",
       "      <th>contact</th>\n",
       "      <th>month</th>\n",
       "      <th>day_of_week</th>\n",
       "      <th>poutcome</th>\n",
       "      <th>nr.employed</th>\n",
       "      <th>y</th>\n",
       "    </tr>\n",
       "  </thead>\n",
       "  <tbody>\n",
       "    <tr>\n",
       "      <th>count</th>\n",
       "      <td>4119</td>\n",
       "      <td>4119</td>\n",
       "      <td>4119</td>\n",
       "      <td>4119</td>\n",
       "      <td>4119</td>\n",
       "      <td>4119</td>\n",
       "      <td>4119</td>\n",
       "      <td>4119</td>\n",
       "      <td>4119</td>\n",
       "      <td>4119</td>\n",
       "      <td>4118</td>\n",
       "      <td>4118</td>\n",
       "    </tr>\n",
       "    <tr>\n",
       "      <th>unique</th>\n",
       "      <td>12</td>\n",
       "      <td>4</td>\n",
       "      <td>8</td>\n",
       "      <td>3</td>\n",
       "      <td>3</td>\n",
       "      <td>3</td>\n",
       "      <td>2</td>\n",
       "      <td>10</td>\n",
       "      <td>5</td>\n",
       "      <td>3</td>\n",
       "      <td>12</td>\n",
       "      <td>2</td>\n",
       "    </tr>\n",
       "    <tr>\n",
       "      <th>top</th>\n",
       "      <td>admin.</td>\n",
       "      <td>married</td>\n",
       "      <td>university.degree</td>\n",
       "      <td>no</td>\n",
       "      <td>yes</td>\n",
       "      <td>no</td>\n",
       "      <td>cellular</td>\n",
       "      <td>may</td>\n",
       "      <td>thu</td>\n",
       "      <td>nonexistent</td>\n",
       "      <td>5228.1</td>\n",
       "      <td>no</td>\n",
       "    </tr>\n",
       "    <tr>\n",
       "      <th>freq</th>\n",
       "      <td>1012</td>\n",
       "      <td>2509</td>\n",
       "      <td>1264</td>\n",
       "      <td>3315</td>\n",
       "      <td>2175</td>\n",
       "      <td>3349</td>\n",
       "      <td>2652</td>\n",
       "      <td>1378</td>\n",
       "      <td>860</td>\n",
       "      <td>3523</td>\n",
       "      <td>1625</td>\n",
       "      <td>3667</td>\n",
       "    </tr>\n",
       "  </tbody>\n",
       "</table>\n",
       "</div>"
      ],
      "text/plain": [
       "           job  marital          education default housing  loan   contact  \\\n",
       "count     4119     4119               4119    4119    4119  4119      4119   \n",
       "unique      12        4                  8       3       3     3         2   \n",
       "top     admin.  married  university.degree      no     yes    no  cellular   \n",
       "freq      1012     2509               1264    3315    2175  3349      2652   \n",
       "\n",
       "       month day_of_week     poutcome nr.employed     y  \n",
       "count   4119        4119         4119        4118  4118  \n",
       "unique    10           5            3          12     2  \n",
       "top      may         thu  nonexistent      5228.1    no  \n",
       "freq    1378         860         3523        1625  3667  "
      ]
     },
     "execution_count": 810,
     "metadata": {},
     "output_type": "execute_result"
    }
   ],
   "source": [
    "bank.select_dtypes(include=['object']).describe()"
   ]
  },
  {
   "cell_type": "code",
   "execution_count": 811,
   "metadata": {},
   "outputs": [
    {
     "data": {
      "text/html": [
       "<div>\n",
       "<style>\n",
       "    .dataframe thead tr:only-child th {\n",
       "        text-align: right;\n",
       "    }\n",
       "\n",
       "    .dataframe thead th {\n",
       "        text-align: left;\n",
       "    }\n",
       "\n",
       "    .dataframe tbody tr th {\n",
       "        vertical-align: top;\n",
       "    }\n",
       "</style>\n",
       "<table border=\"1\" class=\"dataframe\">\n",
       "  <thead>\n",
       "    <tr style=\"text-align: right;\">\n",
       "      <th></th>\n",
       "      <th>0</th>\n",
       "      <th>1</th>\n",
       "    </tr>\n",
       "  </thead>\n",
       "  <tbody>\n",
       "    <tr>\n",
       "      <th>age</th>\n",
       "      <td>int64</td>\n",
       "      <td>0</td>\n",
       "    </tr>\n",
       "    <tr>\n",
       "      <th>job</th>\n",
       "      <td>object</td>\n",
       "      <td>0</td>\n",
       "    </tr>\n",
       "    <tr>\n",
       "      <th>marital</th>\n",
       "      <td>object</td>\n",
       "      <td>0</td>\n",
       "    </tr>\n",
       "    <tr>\n",
       "      <th>education</th>\n",
       "      <td>object</td>\n",
       "      <td>0</td>\n",
       "    </tr>\n",
       "    <tr>\n",
       "      <th>default</th>\n",
       "      <td>object</td>\n",
       "      <td>0</td>\n",
       "    </tr>\n",
       "    <tr>\n",
       "      <th>housing</th>\n",
       "      <td>object</td>\n",
       "      <td>0</td>\n",
       "    </tr>\n",
       "    <tr>\n",
       "      <th>loan</th>\n",
       "      <td>object</td>\n",
       "      <td>0</td>\n",
       "    </tr>\n",
       "    <tr>\n",
       "      <th>contact</th>\n",
       "      <td>object</td>\n",
       "      <td>0</td>\n",
       "    </tr>\n",
       "    <tr>\n",
       "      <th>month</th>\n",
       "      <td>object</td>\n",
       "      <td>0</td>\n",
       "    </tr>\n",
       "    <tr>\n",
       "      <th>day_of_week</th>\n",
       "      <td>object</td>\n",
       "      <td>0</td>\n",
       "    </tr>\n",
       "    <tr>\n",
       "      <th>duration</th>\n",
       "      <td>float64</td>\n",
       "      <td>3</td>\n",
       "    </tr>\n",
       "    <tr>\n",
       "      <th>campaign</th>\n",
       "      <td>float64</td>\n",
       "      <td>5</td>\n",
       "    </tr>\n",
       "    <tr>\n",
       "      <th>pdays</th>\n",
       "      <td>int64</td>\n",
       "      <td>0</td>\n",
       "    </tr>\n",
       "    <tr>\n",
       "      <th>previous</th>\n",
       "      <td>float64</td>\n",
       "      <td>2</td>\n",
       "    </tr>\n",
       "    <tr>\n",
       "      <th>poutcome</th>\n",
       "      <td>object</td>\n",
       "      <td>0</td>\n",
       "    </tr>\n",
       "    <tr>\n",
       "      <th>emp.var.rate</th>\n",
       "      <td>float64</td>\n",
       "      <td>3</td>\n",
       "    </tr>\n",
       "    <tr>\n",
       "      <th>cons.price.idx</th>\n",
       "      <td>float64</td>\n",
       "      <td>2</td>\n",
       "    </tr>\n",
       "    <tr>\n",
       "      <th>cons.conf.idx</th>\n",
       "      <td>float64</td>\n",
       "      <td>2</td>\n",
       "    </tr>\n",
       "    <tr>\n",
       "      <th>euribor3m</th>\n",
       "      <td>float64</td>\n",
       "      <td>2</td>\n",
       "    </tr>\n",
       "    <tr>\n",
       "      <th>nr.employed</th>\n",
       "      <td>object</td>\n",
       "      <td>1</td>\n",
       "    </tr>\n",
       "    <tr>\n",
       "      <th>y</th>\n",
       "      <td>object</td>\n",
       "      <td>1</td>\n",
       "    </tr>\n",
       "  </tbody>\n",
       "</table>\n",
       "</div>"
      ],
      "text/plain": [
       "                      0  1\n",
       "age               int64  0\n",
       "job              object  0\n",
       "marital          object  0\n",
       "education        object  0\n",
       "default          object  0\n",
       "housing          object  0\n",
       "loan             object  0\n",
       "contact          object  0\n",
       "month            object  0\n",
       "day_of_week      object  0\n",
       "duration        float64  3\n",
       "campaign        float64  5\n",
       "pdays             int64  0\n",
       "previous        float64  2\n",
       "poutcome         object  0\n",
       "emp.var.rate    float64  3\n",
       "cons.price.idx  float64  2\n",
       "cons.conf.idx   float64  2\n",
       "euribor3m       float64  2\n",
       "nr.employed      object  1\n",
       "y                object  1"
      ]
     },
     "execution_count": 811,
     "metadata": {},
     "output_type": "execute_result"
    }
   ],
   "source": [
    "pd.concat([bank.dtypes,bank.isnull().sum()],axis=1)"
   ]
  },
  {
   "cell_type": "markdown",
   "metadata": {},
   "source": [
    "## Priprema skupa podataka\n",
    "(tako da bude pogodan za prediktivno modelovanje)"
   ]
  },
  {
   "cell_type": "markdown",
   "metadata": {},
   "source": [
    "Input(duration) should only be included for benchmark purposes and should be discarded if the intention is to have a realistic predictive model."
   ]
  },
  {
   "cell_type": "code",
   "execution_count": 812,
   "metadata": {},
   "outputs": [],
   "source": [
    "bank.drop(['duration'],axis=1,inplace=True)"
   ]
  },
  {
   "cell_type": "markdown",
   "metadata": {},
   "source": [
    "### *Resavanje null vrednosti*"
   ]
  },
  {
   "cell_type": "raw",
   "metadata": {},
   "source": [
    "*Resavanje null vrednosti* za\n",
    "y\tobject\t1 "
   ]
  },
  {
   "cell_type": "code",
   "execution_count": 813,
   "metadata": {},
   "outputs": [],
   "source": [
    "bank.dropna(subset=['y'],inplace=True)"
   ]
  },
  {
   "cell_type": "code",
   "execution_count": 814,
   "metadata": {},
   "outputs": [],
   "source": [
    "#set(bank['nr.employed'])"
   ]
  },
  {
   "cell_type": "raw",
   "metadata": {},
   "source": [
    "*Resavanje null vrednosti* za\n",
    "cons.price.idx\tfloat64\t2\n",
    "previous\tfloat64\t2\n"
   ]
  },
  {
   "cell_type": "code",
   "execution_count": 815,
   "metadata": {},
   "outputs": [
    {
     "data": {
      "text/html": [
       "<div>\n",
       "<style>\n",
       "    .dataframe thead tr:only-child th {\n",
       "        text-align: right;\n",
       "    }\n",
       "\n",
       "    .dataframe thead th {\n",
       "        text-align: left;\n",
       "    }\n",
       "\n",
       "    .dataframe tbody tr th {\n",
       "        vertical-align: top;\n",
       "    }\n",
       "</style>\n",
       "<table border=\"1\" class=\"dataframe\">\n",
       "  <thead>\n",
       "    <tr style=\"text-align: right;\">\n",
       "      <th></th>\n",
       "      <th>cons.price.idx</th>\n",
       "      <th>previous</th>\n",
       "    </tr>\n",
       "  </thead>\n",
       "  <tbody>\n",
       "    <tr>\n",
       "      <th>count</th>\n",
       "      <td>4116.000000</td>\n",
       "      <td>4116.000000</td>\n",
       "    </tr>\n",
       "    <tr>\n",
       "      <th>mean</th>\n",
       "      <td>93.579707</td>\n",
       "      <td>0.190476</td>\n",
       "    </tr>\n",
       "    <tr>\n",
       "      <th>std</th>\n",
       "      <td>0.579413</td>\n",
       "      <td>0.541961</td>\n",
       "    </tr>\n",
       "    <tr>\n",
       "      <th>min</th>\n",
       "      <td>92.201000</td>\n",
       "      <td>0.000000</td>\n",
       "    </tr>\n",
       "    <tr>\n",
       "      <th>25%</th>\n",
       "      <td>93.075000</td>\n",
       "      <td>0.000000</td>\n",
       "    </tr>\n",
       "    <tr>\n",
       "      <th>50%</th>\n",
       "      <td>93.749000</td>\n",
       "      <td>0.000000</td>\n",
       "    </tr>\n",
       "    <tr>\n",
       "      <th>75%</th>\n",
       "      <td>93.994000</td>\n",
       "      <td>0.000000</td>\n",
       "    </tr>\n",
       "    <tr>\n",
       "      <th>max</th>\n",
       "      <td>94.767000</td>\n",
       "      <td>6.000000</td>\n",
       "    </tr>\n",
       "  </tbody>\n",
       "</table>\n",
       "</div>"
      ],
      "text/plain": [
       "       cons.price.idx     previous\n",
       "count     4116.000000  4116.000000\n",
       "mean        93.579707     0.190476\n",
       "std          0.579413     0.541961\n",
       "min         92.201000     0.000000\n",
       "25%         93.075000     0.000000\n",
       "50%         93.749000     0.000000\n",
       "75%         93.994000     0.000000\n",
       "max         94.767000     6.000000"
      ]
     },
     "execution_count": 815,
     "metadata": {},
     "output_type": "execute_result"
    }
   ],
   "source": [
    "pd.concat([bank['cons.price.idx'].describe(),bank['previous'].describe()],axis=1)\n",
    "\n",
    "#moze mean jer std ima malu vrednost"
   ]
  },
  {
   "cell_type": "code",
   "execution_count": 816,
   "metadata": {},
   "outputs": [],
   "source": [
    "mean_cons_price_idx=bank['cons.price.idx'].dropna().mean()\n",
    "#mean_cons_price_idx=np.average(bank['cons.price.idx'].dropna())"
   ]
  },
  {
   "cell_type": "code",
   "execution_count": 817,
   "metadata": {},
   "outputs": [],
   "source": [
    "mean_previous=bank['previous'].dropna().mean()"
   ]
  },
  {
   "cell_type": "code",
   "execution_count": 818,
   "metadata": {},
   "outputs": [],
   "source": [
    "bank['cons.price.idx'].replace(np.nan,mean_cons_price_idx,inplace=True)"
   ]
  },
  {
   "cell_type": "code",
   "execution_count": 819,
   "metadata": {},
   "outputs": [],
   "source": [
    "bank['previous'].replace(np.nan,mean_previous,inplace=True)"
   ]
  },
  {
   "cell_type": "raw",
   "metadata": {},
   "source": [
    "Nr.employed is a number\n",
    "nr.employed\tobject\t1"
   ]
  },
  {
   "cell_type": "code",
   "execution_count": 820,
   "metadata": {},
   "outputs": [],
   "source": [
    "bank['nr.employed']=pd.to_numeric(bank['nr.employed'],downcast='float')"
   ]
  },
  {
   "cell_type": "code",
   "execution_count": 821,
   "metadata": {},
   "outputs": [],
   "source": [
    "bank['nr.employed'].fillna(value=bank['nr.employed'].dropna().mean(),inplace=True)"
   ]
  },
  {
   "cell_type": "code",
   "execution_count": 822,
   "metadata": {},
   "outputs": [
    {
     "data": {
      "text/plain": [
       "count    4118.000000\n",
       "mean     5166.518555\n",
       "std        73.662903\n",
       "min      4963.600098\n",
       "25%      5099.100098\n",
       "50%      5191.000000\n",
       "75%      5228.100098\n",
       "max      5228.100098\n",
       "Name: nr.employed, dtype: float64"
      ]
     },
     "execution_count": 822,
     "metadata": {},
     "output_type": "execute_result"
    }
   ],
   "source": [
    "bank['nr.employed'].describe()"
   ]
  },
  {
   "cell_type": "markdown",
   "metadata": {},
   "source": [
    "campaign\tfloat64\t5\n",
    "emp.var.rate\tfloat64\t3\n",
    "cons.conf.idx\tfloat64\t2\n",
    "euribor3m\tfloat64\t2"
   ]
  },
  {
   "cell_type": "code",
   "execution_count": 823,
   "metadata": {},
   "outputs": [
    {
     "data": {
      "text/html": [
       "<div>\n",
       "<style>\n",
       "    .dataframe thead tr:only-child th {\n",
       "        text-align: right;\n",
       "    }\n",
       "\n",
       "    .dataframe thead th {\n",
       "        text-align: left;\n",
       "    }\n",
       "\n",
       "    .dataframe tbody tr th {\n",
       "        vertical-align: top;\n",
       "    }\n",
       "</style>\n",
       "<table border=\"1\" class=\"dataframe\">\n",
       "  <thead>\n",
       "    <tr style=\"text-align: right;\">\n",
       "      <th></th>\n",
       "      <th>campaign</th>\n",
       "      <th>emp.var.rate</th>\n",
       "      <th>cons.conf.idx</th>\n",
       "      <th>euribor3m</th>\n",
       "    </tr>\n",
       "  </thead>\n",
       "  <tbody>\n",
       "    <tr>\n",
       "      <th>count</th>\n",
       "      <td>4113.000000</td>\n",
       "      <td>4115.000000</td>\n",
       "      <td>4116.000000</td>\n",
       "      <td>4116.000000</td>\n",
       "    </tr>\n",
       "    <tr>\n",
       "      <th>mean</th>\n",
       "      <td>2.533917</td>\n",
       "      <td>0.085152</td>\n",
       "      <td>-40.496501</td>\n",
       "      <td>3.621325</td>\n",
       "    </tr>\n",
       "    <tr>\n",
       "      <th>std</th>\n",
       "      <td>2.566883</td>\n",
       "      <td>1.563274</td>\n",
       "      <td>4.594520</td>\n",
       "      <td>1.733618</td>\n",
       "    </tr>\n",
       "    <tr>\n",
       "      <th>min</th>\n",
       "      <td>1.000000</td>\n",
       "      <td>-3.400000</td>\n",
       "      <td>-50.800000</td>\n",
       "      <td>0.635000</td>\n",
       "    </tr>\n",
       "    <tr>\n",
       "      <th>25%</th>\n",
       "      <td>1.000000</td>\n",
       "      <td>-1.800000</td>\n",
       "      <td>-42.700000</td>\n",
       "      <td>1.334000</td>\n",
       "    </tr>\n",
       "    <tr>\n",
       "      <th>50%</th>\n",
       "      <td>2.000000</td>\n",
       "      <td>1.100000</td>\n",
       "      <td>-41.800000</td>\n",
       "      <td>4.857000</td>\n",
       "    </tr>\n",
       "    <tr>\n",
       "      <th>75%</th>\n",
       "      <td>3.000000</td>\n",
       "      <td>1.400000</td>\n",
       "      <td>-36.400000</td>\n",
       "      <td>4.961000</td>\n",
       "    </tr>\n",
       "    <tr>\n",
       "      <th>max</th>\n",
       "      <td>35.000000</td>\n",
       "      <td>1.400000</td>\n",
       "      <td>-26.900000</td>\n",
       "      <td>5.045000</td>\n",
       "    </tr>\n",
       "  </tbody>\n",
       "</table>\n",
       "</div>"
      ],
      "text/plain": [
       "          campaign  emp.var.rate  cons.conf.idx    euribor3m\n",
       "count  4113.000000   4115.000000    4116.000000  4116.000000\n",
       "mean      2.533917      0.085152     -40.496501     3.621325\n",
       "std       2.566883      1.563274       4.594520     1.733618\n",
       "min       1.000000     -3.400000     -50.800000     0.635000\n",
       "25%       1.000000     -1.800000     -42.700000     1.334000\n",
       "50%       2.000000      1.100000     -41.800000     4.857000\n",
       "75%       3.000000      1.400000     -36.400000     4.961000\n",
       "max      35.000000      1.400000     -26.900000     5.045000"
      ]
     },
     "execution_count": 823,
     "metadata": {},
     "output_type": "execute_result"
    }
   ],
   "source": [
    "pd.concat([bank['campaign'].describe(),bank['emp.var.rate'].describe(),bank['cons.conf.idx'].describe(),bank['euribor3m'].describe()],axis=1)"
   ]
  },
  {
   "cell_type": "code",
   "execution_count": 824,
   "metadata": {},
   "outputs": [],
   "source": [
    "bank['campaign'].replace(np.nan,bank['campaign'].dropna().mean(),inplace=True)"
   ]
  },
  {
   "cell_type": "code",
   "execution_count": 825,
   "metadata": {},
   "outputs": [],
   "source": [
    "bank['emp.var.rate'].replace(np.nan,bank['emp.var.rate'].dropna().mean(),inplace=True)"
   ]
  },
  {
   "cell_type": "code",
   "execution_count": 826,
   "metadata": {},
   "outputs": [],
   "source": [
    "bank['cons.conf.idx'].replace(np.nan,bank['cons.conf.idx'].dropna().mean(),inplace=True)"
   ]
  },
  {
   "cell_type": "code",
   "execution_count": 827,
   "metadata": {},
   "outputs": [],
   "source": [
    "bank['euribor3m'].replace(np.nan,bank['euribor3m'].dropna().mean(),inplace=True)"
   ]
  },
  {
   "cell_type": "markdown",
   "metadata": {},
   "source": [
    "Diskretizacija klasifikatora"
   ]
  },
  {
   "cell_type": "code",
   "execution_count": null,
   "metadata": {},
   "outputs": [],
   "source": [
    "bank['y'] = np.where(bank['y']=='no', 0, 1)"
   ]
  },
  {
   "cell_type": "markdown",
   "metadata": {},
   "source": [
    "eliminate categorical variables from sample"
   ]
  },
  {
   "cell_type": "code",
   "execution_count": 590,
   "metadata": {},
   "outputs": [],
   "source": [
    "bank_without_cat=bank.select_dtypes(exclude=['object'])"
   ]
  },
  {
   "cell_type": "markdown",
   "metadata": {},
   "source": [
    "## Podela skupa podataka na trening i test u odnosu 70:30"
   ]
  },
  {
   "cell_type": "code",
   "execution_count": 591,
   "metadata": {},
   "outputs": [],
   "source": [
    "def split_train_test(bank, test_percentage, shuffle=True):\n",
    "    df=bank.sample(frac=1)\n",
    "    n=len(df)\n",
    "    split=int(np.floor(n*test_percentage))\n",
    "    test= df.iloc[:split,:]\n",
    "    train=df.iloc[split:,:]\n",
    "    return (train, test)"
   ]
  },
  {
   "cell_type": "code",
   "execution_count": 592,
   "metadata": {},
   "outputs": [],
   "source": [
    "#from sklearn.model_selection import train_test_split\n",
    "#drugi nacin, ali ista stvar;identicno radi"
   ]
  },
  {
   "cell_type": "code",
   "execution_count": 593,
   "metadata": {},
   "outputs": [],
   "source": [
    "train,test=split_train_test(bank,0.3)\n"
   ]
  },
  {
   "cell_type": "code",
   "execution_count": 594,
   "metadata": {},
   "outputs": [
    {
     "data": {
      "text/plain": [
       "(2883, 20)"
      ]
     },
     "execution_count": 594,
     "metadata": {},
     "output_type": "execute_result"
    }
   ],
   "source": [
    "train.shape"
   ]
  },
  {
   "cell_type": "code",
   "execution_count": 595,
   "metadata": {},
   "outputs": [
    {
     "data": {
      "text/plain": [
       "(1235, 20)"
      ]
     },
     "execution_count": 595,
     "metadata": {},
     "output_type": "execute_result"
    }
   ],
   "source": [
    "test.shape"
   ]
  },
  {
   "cell_type": "code",
   "execution_count": 596,
   "metadata": {},
   "outputs": [],
   "source": [
    "y_train=train['y']\n",
    "#y_train=train.loc[:,'y']"
   ]
  },
  {
   "cell_type": "code",
   "execution_count": 597,
   "metadata": {},
   "outputs": [
    {
     "data": {
      "text/plain": [
       "(2883,)"
      ]
     },
     "execution_count": 597,
     "metadata": {},
     "output_type": "execute_result"
    }
   ],
   "source": [
    "y_train.shape"
   ]
  },
  {
   "cell_type": "code",
   "execution_count": 598,
   "metadata": {},
   "outputs": [],
   "source": [
    "x_train=train.drop('y',axis=1).select_dtypes(exclude=['object'])"
   ]
  },
  {
   "cell_type": "code",
   "execution_count": 599,
   "metadata": {},
   "outputs": [
    {
     "data": {
      "text/plain": [
       "(2883, 9)"
      ]
     },
     "execution_count": 599,
     "metadata": {},
     "output_type": "execute_result"
    }
   ],
   "source": [
    "x_train.shape"
   ]
  },
  {
   "cell_type": "code",
   "execution_count": 600,
   "metadata": {},
   "outputs": [],
   "source": [
    "x_test=test.drop('y',axis=1).select_dtypes(exclude=['object'])"
   ]
  },
  {
   "cell_type": "code",
   "execution_count": 601,
   "metadata": {},
   "outputs": [],
   "source": [
    "y_test=test['y']"
   ]
  },
  {
   "cell_type": "markdown",
   "metadata": {},
   "source": [
    "Kreirati minimalno 2 prediktivna modela (sa default parametrima) i oceniti gresku na test setu (minimum 2 mere evaluacije)"
   ]
  },
  {
   "cell_type": "markdown",
   "metadata": {},
   "source": [
    "# Logistic regression"
   ]
  },
  {
   "cell_type": "code",
   "execution_count": 603,
   "metadata": {},
   "outputs": [],
   "source": [
    "from sklearn.linear_model import LogisticRegression"
   ]
  },
  {
   "cell_type": "code",
   "execution_count": 604,
   "metadata": {},
   "outputs": [],
   "source": [
    "lr=LogisticRegression()"
   ]
  },
  {
   "cell_type": "code",
   "execution_count": 605,
   "metadata": {},
   "outputs": [],
   "source": [
    "modelLR=lr.fit(x_train,y_train)"
   ]
  },
  {
   "cell_type": "code",
   "execution_count": 606,
   "metadata": {},
   "outputs": [],
   "source": [
    "predictionsLR=modelLR.predict(x_test)"
   ]
  },
  {
   "cell_type": "code",
   "execution_count": 804,
   "metadata": {},
   "outputs": [
    {
     "data": {
      "text/plain": [
       "array([0, 1, 0, ..., 0, 0, 0])"
      ]
     },
     "execution_count": 804,
     "metadata": {},
     "output_type": "execute_result"
    }
   ],
   "source": [
    "predict_train=modelLR.predict(x_train)"
   ]
  },
  {
   "cell_type": "code",
   "execution_count": 805,
   "metadata": {},
   "outputs": [
    {
     "data": {
      "text/plain": [
       "array([[ 0.94717197,  0.05282803],\n",
       "       [ 0.93680629,  0.06319371],\n",
       "       [ 0.96138595,  0.03861405],\n",
       "       ..., \n",
       "       [ 0.957783  ,  0.042217  ],\n",
       "       [ 0.18479833,  0.81520167],\n",
       "       [ 0.96566792,  0.03433208]])"
      ]
     },
     "execution_count": 805,
     "metadata": {},
     "output_type": "execute_result"
    }
   ],
   "source": [
    "prediction_probs=modelLR.predict_proba(x_test)\n",
    "prediction_probs"
   ]
  },
  {
   "cell_type": "code",
   "execution_count": 616,
   "metadata": {},
   "outputs": [],
   "source": [
    "from sklearn.metrics import accuracy_score\n",
    "from sklearn.metrics import confusion_matrix\n",
    "from sklearn.metrics import precision_score\n",
    "from sklearn.metrics import recall_score"
   ]
  },
  {
   "cell_type": "code",
   "execution_count": 802,
   "metadata": {},
   "outputs": [
    {
     "name": "stdout",
     "output_type": "stream",
     "text": [
      "ACCURACY\n",
      "Train\n",
      "0.901838362817\n",
      "Test\n",
      "0.902834008097\n"
     ]
    }
   ],
   "source": [
    "print('ACCURACY')\n",
    "print('Train')\n",
    "print(accuracy_score(y_train,predict_train))\n",
    "print('Test')\n",
    "print(accuracy_score(y_test,predictionsLR))"
   ]
  },
  {
   "cell_type": "code",
   "execution_count": 803,
   "metadata": {},
   "outputs": [
    {
     "name": "stdout",
     "output_type": "stream",
     "text": [
      "        Precision        Recall\n",
      "Train   0.688679245283    0.22600619195\n",
      "Test    0.625             0.15625\n"
     ]
    }
   ],
   "source": [
    "print('        Precision'+'     '+'   Recall')\n",
    "print('Train  ',precision_score(y_train,predict_train),'  ',recall_score(y_train,predict_train))\n",
    "print('Test   ',precision_score(y_test,predictionsLR),'      ','    ' ,recall_score(y_test,predictionsLR))"
   ]
  },
  {
   "cell_type": "code",
   "execution_count": 619,
   "metadata": {},
   "outputs": [
    {
     "name": "stdout",
     "output_type": "stream",
     "text": [
      "CONFUSION MATRIX\n",
      "Train\n"
     ]
    },
    {
     "data": {
      "text/plain": [
       "array([[2527,   33],\n",
       "       [ 250,   73]], dtype=int64)"
      ]
     },
     "execution_count": 619,
     "metadata": {},
     "output_type": "execute_result"
    }
   ],
   "source": [
    "print('CONFUSION MATRIX')\n",
    "print('Train')\n",
    "confusion_matrix(y_train, predict_train)"
   ]
  },
  {
   "cell_type": "code",
   "execution_count": 620,
   "metadata": {},
   "outputs": [
    {
     "data": {
      "text/plain": [
       "0    2560\n",
       "1     323\n",
       "Name: y, dtype: int64"
      ]
     },
     "execution_count": 620,
     "metadata": {},
     "output_type": "execute_result"
    }
   ],
   "source": [
    "y_train.value_counts()"
   ]
  },
  {
   "cell_type": "code",
   "execution_count": 621,
   "metadata": {},
   "outputs": [
    {
     "name": "stdout",
     "output_type": "stream",
     "text": [
      "CONFUSION MATRIX\n",
      "Test\n"
     ]
    },
    {
     "data": {
      "text/plain": [
       "array([[1095,   12],\n",
       "       [ 108,   20]], dtype=int64)"
      ]
     },
     "execution_count": 621,
     "metadata": {},
     "output_type": "execute_result"
    }
   ],
   "source": [
    "print('CONFUSION MATRIX')\n",
    "print('Test')\n",
    "confusion_matrix(y_test, predictionsLR)"
   ]
  },
  {
   "cell_type": "code",
   "execution_count": 622,
   "metadata": {},
   "outputs": [
    {
     "data": {
      "text/plain": [
       "0    1107\n",
       "1     128\n",
       "Name: y, dtype: int64"
      ]
     },
     "execution_count": 622,
     "metadata": {},
     "output_type": "execute_result"
    }
   ],
   "source": [
    "y_test.value_counts()"
   ]
  },
  {
   "cell_type": "markdown",
   "metadata": {},
   "source": [
    "# Random Forest"
   ]
  },
  {
   "cell_type": "code",
   "execution_count": 623,
   "metadata": {},
   "outputs": [],
   "source": [
    "from sklearn.ensemble import RandomForestClassifier"
   ]
  },
  {
   "cell_type": "code",
   "execution_count": 624,
   "metadata": {},
   "outputs": [],
   "source": [
    "rf=RandomForestClassifier()"
   ]
  },
  {
   "cell_type": "code",
   "execution_count": 625,
   "metadata": {},
   "outputs": [],
   "source": [
    "modelRF=rf.fit(x_train,y_train)"
   ]
  },
  {
   "cell_type": "code",
   "execution_count": 626,
   "metadata": {},
   "outputs": [],
   "source": [
    "predictionsRF_train=modelRF.predict(x_train)"
   ]
  },
  {
   "cell_type": "code",
   "execution_count": 627,
   "metadata": {},
   "outputs": [],
   "source": [
    "predictionsRF=modelRF.predict(x_test)"
   ]
  },
  {
   "cell_type": "code",
   "execution_count": 738,
   "metadata": {},
   "outputs": [
    {
     "data": {
      "text/plain": [
       "array([[1068,   39],\n",
       "       [  99,   29]], dtype=int64)"
      ]
     },
     "execution_count": 738,
     "metadata": {},
     "output_type": "execute_result"
    }
   ],
   "source": [
    "confusion_matrix(y_test,predictionsRF)"
   ]
  },
  {
   "cell_type": "code",
   "execution_count": 633,
   "metadata": {},
   "outputs": [
    {
     "name": "stdout",
     "output_type": "stream",
     "text": [
      "           Accuracy           Precision        Recall\n",
      "Train     0.973291710024     0.965909090909   0.789473684211\n",
      "Test      0.888259109312      0.426470588235   0.2265625\n"
     ]
    }
   ],
   "source": [
    "print('           Accuracy   '+'        Precision'+'     '+'   Recall')\n",
    "print('Train  ',' ',accuracy_score(y_train,predictionsRF_train),'   ',precision_score(y_train,predictionsRF_train),' ',recall_score(y_train,predictionsRF_train))\n",
    "print('Test   ',' ',accuracy_score(y_test,predictionsRF),'    ',precision_score(y_test,predictionsRF),' ',recall_score(y_test,predictionsRF))\n"
   ]
  },
  {
   "cell_type": "markdown",
   "metadata": {},
   "source": [
    "# KNeighborsClassifier"
   ]
  },
  {
   "cell_type": "code",
   "execution_count": 634,
   "metadata": {},
   "outputs": [],
   "source": [
    "from sklearn.neighbors import KNeighborsClassifier"
   ]
  },
  {
   "cell_type": "code",
   "execution_count": 635,
   "metadata": {},
   "outputs": [],
   "source": [
    "knn=KNeighborsClassifier()"
   ]
  },
  {
   "cell_type": "code",
   "execution_count": 636,
   "metadata": {},
   "outputs": [],
   "source": [
    "modelknn=knn.fit(x_train, y_train)"
   ]
  },
  {
   "cell_type": "code",
   "execution_count": 637,
   "metadata": {},
   "outputs": [],
   "source": [
    "predictionsKNN_train=knn.predict(x_train)"
   ]
  },
  {
   "cell_type": "code",
   "execution_count": 638,
   "metadata": {},
   "outputs": [],
   "source": [
    "predictionsKNN=knn.predict(x_test)"
   ]
  },
  {
   "cell_type": "code",
   "execution_count": 639,
   "metadata": {},
   "outputs": [],
   "source": [
    "prediction_probs_knn=knn.predict_proba(x_test)"
   ]
  },
  {
   "cell_type": "code",
   "execution_count": 643,
   "metadata": {},
   "outputs": [
    {
     "name": "stdout",
     "output_type": "stream",
     "text": [
      "           Accuracy           Precision        Recall\n",
      "Train     0.909816163718     0.714285714286   0.325077399381\n",
      "Test      0.901214574899     0.555555555556   0.234375\n"
     ]
    }
   ],
   "source": [
    "print('           Accuracy   '+'        Precision'+'     '+'   Recall')\n",
    "print('Train  ',' ',accuracy_score(y_train,predictionsKNN_train),'   ',precision_score(y_train,predictionsKNN_train),' ',recall_score(y_train,predictionsKNN_train))\n",
    "print('Test   ',' ',accuracy_score(y_test,predictionsKNN),'   ',precision_score(y_test,predictionsKNN),' ',recall_score(y_test,predictionsKNN))\n"
   ]
  },
  {
   "cell_type": "markdown",
   "metadata": {},
   "source": [
    "### Cross validation"
   ]
  },
  {
   "cell_type": "code",
   "execution_count": 644,
   "metadata": {},
   "outputs": [],
   "source": [
    "from sklearn.model_selection import cross_val_score"
   ]
  },
  {
   "cell_type": "code",
   "execution_count": 835,
   "metadata": {},
   "outputs": [],
   "source": [
    "models=[lr,rf,knn]"
   ]
  },
  {
   "cell_type": "code",
   "execution_count": 836,
   "metadata": {},
   "outputs": [
    {
     "name": "stdout",
     "output_type": "stream",
     "text": [
      "LogisticRegression(C=1.0, class_weight=None, dual=False, fit_intercept=True,\n",
      "          intercept_scaling=1, max_iter=100, multi_class='ovr', n_jobs=1,\n",
      "          penalty='l2', random_state=None, solver='liblinear', tol=0.0001,\n",
      "          verbose=0, warm_start=False)\n",
      "RandomForestClassifier(bootstrap=True, class_weight=None, criterion='gini',\n",
      "            max_depth=None, max_features='auto', max_leaf_nodes=None,\n",
      "            min_impurity_decrease=0.0, min_impurity_split=None,\n",
      "            min_samples_leaf=1, min_samples_split=2,\n",
      "            min_weight_fraction_leaf=0.0, n_estimators=10, n_jobs=1,\n",
      "            oob_score=False, random_state=None, verbose=0,\n",
      "            warm_start=False)\n",
      "KNeighborsClassifier(algorithm='auto', leaf_size=30, metric='minkowski',\n",
      "           metric_params=None, n_jobs=1, n_neighbors=5, p=2,\n",
      "           weights='uniform')\n"
     ]
    }
   ],
   "source": [
    "for mod in models:\n",
    "    print (mod)"
   ]
  },
  {
   "cell_type": "code",
   "execution_count": 837,
   "metadata": {},
   "outputs": [
    {
     "name": "stdout",
     "output_type": "stream",
     "text": [
      "[ 0.89428076  0.87694974  0.90121317  0.88715278  0.89583333] ---> 0.891085957058\n",
      "[ 0.89948007  0.89948007  0.90814558  0.89756944  0.90451389] ---> 0.901837810514\n",
      "[ 0.89948007  0.85441941  0.89428076  0.87326389  0.89236111] ---> 0.882761048527\n"
     ]
    }
   ],
   "source": [
    "for num in range(len(models)):\n",
    "    scores=cross_val_score(models[num-1],x_train,y_train,cv=5,scoring='accuracy')\n",
    "    print (scores,'--->',scores.mean())"
   ]
  },
  {
   "cell_type": "code",
   "execution_count": 838,
   "metadata": {},
   "outputs": [
    {
     "name": "stdout",
     "output_type": "stream",
     "text": [
      "[ 0.89919355  0.88306452  0.90283401  0.8699187   0.88617886] ---> 0.888237926718\n",
      "[ 0.90322581  0.88709677  0.90283401  0.89430894  0.91463415] ---> 0.900419935635\n",
      "[ 0.875       0.87096774  0.87854251  0.8699187   0.88617886] ---> 0.876121562607\n"
     ]
    }
   ],
   "source": [
    "for num in range(len(models)):\n",
    "    scores=cross_val_score(models[num-1],x_test,y_test,cv=5,scoring='accuracy')\n",
    "    print (scores,'--->',scores.mean())\n",
    "#np.average(scores)"
   ]
  },
  {
   "cell_type": "markdown",
   "metadata": {},
   "source": [
    "## Optimizacija parametara"
   ]
  },
  {
   "cell_type": "code",
   "execution_count": 650,
   "metadata": {},
   "outputs": [],
   "source": [
    "from sklearn.model_selection import GridSearchCV"
   ]
  },
  {
   "cell_type": "code",
   "execution_count": 651,
   "metadata": {},
   "outputs": [
    {
     "data": {
      "text/plain": [
       "RandomForestClassifier(bootstrap=True, class_weight=None, criterion='gini',\n",
       "            max_depth=None, max_features='auto', max_leaf_nodes=None,\n",
       "            min_impurity_decrease=0.0, min_impurity_split=None,\n",
       "            min_samples_leaf=1, min_samples_split=2,\n",
       "            min_weight_fraction_leaf=0.0, n_estimators=10, n_jobs=1,\n",
       "            oob_score=False, random_state=None, verbose=0,\n",
       "            warm_start=False)"
      ]
     },
     "execution_count": 651,
     "metadata": {},
     "output_type": "execute_result"
    }
   ],
   "source": [
    "rf"
   ]
  },
  {
   "cell_type": "code",
   "execution_count": 652,
   "metadata": {},
   "outputs": [],
   "source": [
    "params = [\n",
    "  {'n_estimators': [10, 20, 40, 100, 300, 400], 'max_depth': [1, 5, 10, 15]}\n",
    " ]"
   ]
  },
  {
   "cell_type": "code",
   "execution_count": 653,
   "metadata": {},
   "outputs": [],
   "source": [
    "optimizer = GridSearchCV(rf, \n",
    "                   param_grid=params, \n",
    "                         cv=3,  \n",
    "                   return_train_score=True)"
   ]
  },
  {
   "cell_type": "code",
   "execution_count": 654,
   "metadata": {},
   "outputs": [],
   "source": [
    "opt_rf=optimizer.fit(x_train,y_train)"
   ]
  },
  {
   "cell_type": "code",
   "execution_count": 782,
   "metadata": {},
   "outputs": [
    {
     "data": {
      "text/plain": [
       "RandomForestClassifier(bootstrap=True, class_weight=None, criterion='gini',\n",
       "            max_depth=5, max_features='auto', max_leaf_nodes=None,\n",
       "            min_impurity_decrease=0.0, min_impurity_split=None,\n",
       "            min_samples_leaf=1, min_samples_split=2,\n",
       "            min_weight_fraction_leaf=0.0, n_estimators=100, n_jobs=1,\n",
       "            oob_score=False, random_state=None, verbose=0,\n",
       "            warm_start=False)"
      ]
     },
     "execution_count": 782,
     "metadata": {},
     "output_type": "execute_result"
    }
   ],
   "source": [
    "opt_rf.best_estimator_\n",
    "#n_estimators=100 i max_depth=5"
   ]
  },
  {
   "cell_type": "code",
   "execution_count": 656,
   "metadata": {},
   "outputs": [],
   "source": [
    "probas_opt=opt_rf.predict_proba(x_test)"
   ]
  },
  {
   "cell_type": "code",
   "execution_count": 657,
   "metadata": {},
   "outputs": [],
   "source": [
    "predictions_opt=opt_rf.predict(x_test)"
   ]
  },
  {
   "cell_type": "code",
   "execution_count": 783,
   "metadata": {},
   "outputs": [
    {
     "data": {
      "text/plain": [
       "LogisticRegression(C=1.0, class_weight=None, dual=False, fit_intercept=True,\n",
       "          intercept_scaling=1, max_iter=100, multi_class='ovr', n_jobs=1,\n",
       "          penalty='l2', random_state=None, solver='liblinear', tol=0.0001,\n",
       "          verbose=0, warm_start=False)"
      ]
     },
     "execution_count": 783,
     "metadata": {},
     "output_type": "execute_result"
    }
   ],
   "source": [
    "lr"
   ]
  },
  {
   "cell_type": "code",
   "execution_count": 784,
   "metadata": {},
   "outputs": [
    {
     "data": {
      "text/plain": [
       "KNeighborsClassifier(algorithm='auto', leaf_size=30, metric='minkowski',\n",
       "           metric_params=None, n_jobs=1, n_neighbors=5, p=2,\n",
       "           weights='uniform')"
      ]
     },
     "execution_count": 784,
     "metadata": {},
     "output_type": "execute_result"
    }
   ],
   "source": [
    "knn"
   ]
  },
  {
   "cell_type": "code",
   "execution_count": 660,
   "metadata": {},
   "outputs": [],
   "source": [
    "params2 = [\n",
    "  {'leaf_size': [10, 20, 40, 50, 100], 'n_neighbors': [1, 2, 3, 4, 5, 6, 7]}\n",
    " ]"
   ]
  },
  {
   "cell_type": "code",
   "execution_count": 661,
   "metadata": {},
   "outputs": [],
   "source": [
    "optimizer2 = GridSearchCV(knn, \n",
    "                   param_grid=params2, \n",
    "                         cv=3,  \n",
    "                   return_train_score=True)"
   ]
  },
  {
   "cell_type": "code",
   "execution_count": 662,
   "metadata": {},
   "outputs": [],
   "source": [
    "opt_rf2=optimizer2.fit(x_train,y_train)"
   ]
  },
  {
   "cell_type": "code",
   "execution_count": 663,
   "metadata": {},
   "outputs": [
    {
     "data": {
      "text/plain": [
       "KNeighborsClassifier(algorithm='auto', leaf_size=20, metric='minkowski',\n",
       "           metric_params=None, n_jobs=1, n_neighbors=4, p=2,\n",
       "           weights='uniform')"
      ]
     },
     "execution_count": 663,
     "metadata": {},
     "output_type": "execute_result"
    }
   ],
   "source": [
    "opt_rf2.best_estimator_\n",
    "#leaf_size=20, n_neighbors=4,"
   ]
  },
  {
   "cell_type": "code",
   "execution_count": 664,
   "metadata": {},
   "outputs": [],
   "source": [
    "probas_opt_knn=opt_rf2.predict_proba(x_test)\n",
    "predictions_opt_knn=opt_rf2.predict(x_test)"
   ]
  },
  {
   "cell_type": "markdown",
   "metadata": {},
   "source": [
    "## Parameter optimization - Results\n",
    "### Random Forest "
   ]
  },
  {
   "cell_type": "code",
   "execution_count": 666,
   "metadata": {},
   "outputs": [
    {
     "name": "stdout",
     "output_type": "stream",
     "text": [
      "ACCURACY\n",
      " Before 0.888259109312 \n",
      " After  0.898785425101\n"
     ]
    }
   ],
   "source": [
    "print('ACCURACY\\n','Before',accuracy_score(y_test,predictionsRF),'\\n After ',accuracy_score(y_test,predictions_opt))"
   ]
  },
  {
   "cell_type": "code",
   "execution_count": 667,
   "metadata": {},
   "outputs": [
    {
     "name": "stdout",
     "output_type": "stream",
     "text": [
      "PRECISION\n",
      " Before 0.426470588235 \n",
      " After  0.555555555556\n"
     ]
    }
   ],
   "source": [
    "print('PRECISION\\n Before',precision_score(y_test,predictionsRF),'\\n After ',precision_score(y_test,predictions_opt))"
   ]
  },
  {
   "cell_type": "code",
   "execution_count": 668,
   "metadata": {},
   "outputs": [
    {
     "name": "stdout",
     "output_type": "stream",
     "text": [
      "RECALL\n",
      " Before 0.2265625 \n",
      " After  0.1171875\n"
     ]
    }
   ],
   "source": [
    "print('RECALL\\n Before',recall_score(y_test,predictionsRF),'\\n After ',recall_score(y_test,predictions_opt))"
   ]
  },
  {
   "cell_type": "markdown",
   "metadata": {},
   "source": [
    "### KNN "
   ]
  },
  {
   "cell_type": "code",
   "execution_count": 669,
   "metadata": {},
   "outputs": [
    {
     "name": "stdout",
     "output_type": "stream",
     "text": [
      "Accuracy\n",
      "Before 0.901214574899 \n",
      "After  0.8995951417\n"
     ]
    }
   ],
   "source": [
    "print('Accuracy')\n",
    "print('Before',accuracy_score(y_test,predictionsKNN),'\\nAfter ',accuracy_score(y_test,predictions_opt_knn))"
   ]
  },
  {
   "cell_type": "code",
   "execution_count": 670,
   "metadata": {},
   "outputs": [
    {
     "name": "stdout",
     "output_type": "stream",
     "text": [
      "Precision\n",
      "Before 0.555555555556 \n",
      "After  0.558823529412\n"
     ]
    }
   ],
   "source": [
    "print('Precision')\n",
    "print('Before',precision_score(y_test,predictionsKNN),'\\nAfter ',precision_score(y_test,predictions_opt_knn))"
   ]
  },
  {
   "cell_type": "code",
   "execution_count": 683,
   "metadata": {},
   "outputs": [
    {
     "name": "stdout",
     "output_type": "stream",
     "text": [
      "Recall\n",
      "Before 0.234375 \n",
      "After  0.1484375\n"
     ]
    }
   ],
   "source": [
    "print('Recall')\n",
    "print('Before',recall_score(y_test,predictionsKNN),'\\nAfter ',recall_score(y_test,predictions_opt_knn))"
   ]
  },
  {
   "cell_type": "markdown",
   "metadata": {},
   "source": [
    "### Podela inicijalnog skupa podataka na osnovu jednog kategoričkog atributa u datasetu"
   ]
  },
  {
   "cell_type": "code",
   "execution_count": 847,
   "metadata": {},
   "outputs": [],
   "source": [
    "#for n in range(len(categories)):\n",
    " #   listaDF.append(bank.loc[lambda bank:bank['loan']==categories[n]])"
   ]
  },
  {
   "cell_type": "code",
   "execution_count": 848,
   "metadata": {},
   "outputs": [],
   "source": [
    "categories=bank.loan.unique()\n",
    "listaDF=[]\n",
    "for rb in range(len(listaDF)):\n",
    "\n",
    "    scores=cross_val_score(rf,listaDF[rb].drop('y',axis=1).select_dtypes(exclude=['object']),listaDF[rb]['y'],cv=5,scoring='accuracy')\n",
    "    print (len(listaDF[rb].loan),listaDF[rb].loan.unique(),scores,'--->',scores.mean())\n",
    "    "
   ]
  },
  {
   "cell_type": "code",
   "execution_count": 849,
   "metadata": {},
   "outputs": [],
   "source": [
    "listaDF=[]\n",
    "categories=bank.housing.unique()\n",
    "for n in range(len(categories)):\n",
    "     listaDF.append(bank.loc[lambda bank:bank['housing']==categories[n]])"
   ]
  },
  {
   "cell_type": "code",
   "execution_count": 850,
   "metadata": {},
   "outputs": [
    {
     "name": "stdout",
     "output_type": "stream",
     "text": [
      "2175 ['yes'] [ 0.73557278  0.69842808  0.77096792  0.67536068  0.75697136] ---> 0.727460163652\n",
      "1838 ['no'] [ 0.66608418  0.71056165  0.75764526  0.69827982  0.79006116] ---> 0.724526412304\n",
      "105 ['unknown'] [ 0.7125      0.71052632  0.68421053  0.97368421  0.94736842] ---> 0.805657894737\n"
     ]
    }
   ],
   "source": [
    "for rb in range(len(listaDF)):\n",
    "    scores=cross_val_score(rf,listaDF[rb].drop('y',axis=1).select_dtypes(exclude=['object']),listaDF[rb]['y'],cv=5,scoring='roc_auc')\n",
    "    print(len(listaDF[rb].housing),listaDF[rb].housing.unique(),scores,'--->',scores.mean())\n"
   ]
  },
  {
   "cell_type": "code",
   "execution_count": 854,
   "metadata": {},
   "outputs": [
    {
     "name": "stdout",
     "output_type": "stream",
     "text": [
      "2519 ['married'] [ 0.68916818  0.66904731  0.68488941  0.69487859  0.77602649] ---> 0.702801994744\n",
      "1153 ['single'] [ 0.74758065  0.65903226  0.70580645  0.6964662   0.744367  ] ---> 0.710650510618\n",
      "446 ['divorced'] [ 0.73045267  0.68038409  0.8223594   0.67734375  0.659375  ] ---> 0.713982981824\n"
     ]
    }
   ],
   "source": [
    "bank['marital'].value_counts()\n",
    "#married\n",
    "\n",
    "bank['marital'].replace('unknown','married',inplace=True)\n",
    "categories=bank.marital.unique()\n",
    "listaDF=[]\n",
    "for n in range(len(categories)):\n",
    "    #listaDF.append(pd.DataFrame)\n",
    "    listaDF.append(bank.loc[lambda bank:bank['marital']==categories[n]])\n",
    "for rb in range(len(listaDF)):\n",
    "    scores=cross_val_score(rf,listaDF[rb].drop('y',axis=1).select_dtypes(exclude=['object']),listaDF[rb]['y'],cv=5,scoring='roc_auc')\n",
    "    print(len(listaDF[rb].marital),listaDF[rb].marital.unique(),scores,'--->',scores.mean())\n",
    " "
   ]
  },
  {
   "cell_type": "markdown",
   "metadata": {},
   "source": [
    "## Recursive feature elimination"
   ]
  },
  {
   "cell_type": "code",
   "execution_count": 801,
   "metadata": {},
   "outputs": [
    {
     "name": "stdout",
     "output_type": "stream",
     "text": [
      "Number of Features: 4\n",
      "Selected Features: [False  True False  True  True False False  True False]\n",
      "Feature Ranking:: [4 1 6 1 1 3 2 1 5]\n"
     ]
    }
   ],
   "source": [
    "# Feature Extraction with RFE\n",
    "from sklearn.feature_selection import RFE\n",
    " \n",
    "#feature extraction\n",
    "rfe = RFE(lr, 4)\n",
    "fit = rfe.fit(x_train, y_train)\n",
    "print(\"Number of Features:\",  fit.n_features_)\n",
    "print(\"Selected Features:\" , fit.support_)\n",
    "print(\"Feature Ranking::\" , fit.ranking_)\n",
    "\n",
    "#atributi=[x_train.columns]\n",
    "#prediktivnaMoc=[fit.ranking_]\n",
    "#print(atributi)\n",
    "#print(prediktivnaMoc)\n",
    "\n",
    "    #campaign, previous, euribor3m za \n",
    "    #emp.var.rate\n",
    "#BOlJE je lr jer je overfit za rf???"
   ]
  },
  {
   "cell_type": "code",
   "execution_count": 798,
   "metadata": {},
   "outputs": [],
   "source": [
    "predictions_rfe=fit.predict(x_test)"
   ]
  },
  {
   "cell_type": "code",
   "execution_count": 799,
   "metadata": {},
   "outputs": [],
   "source": [
    "predictions_rfe_train=fit.predict(x_train)"
   ]
  },
  {
   "cell_type": "code",
   "execution_count": 800,
   "metadata": {},
   "outputs": [
    {
     "name": "stdout",
     "output_type": "stream",
     "text": [
      "           Accuracy           Precision        Recall\n",
      "Train     0.892126257371     0.676470588235    0.0712074303406\n",
      "Test      0.897975708502     0.625             0.0390625\n"
     ]
    }
   ],
   "source": [
    "print('           Accuracy   '+'        Precision'+'     '+'   Recall')\n",
    "print('Train  ',' ',accuracy_score(y_train,predictions_rfe_train),'   ',precision_score(y_train,predictions_rfe_train),'  ',recall_score(y_train,predictions_rfe_train))\n",
    "print('Test   ',' ',accuracy_score(y_test,predictions_rfe),'   ',precision_score(y_test,predictions_rfe),'           ',recall_score(y_test,predictions_rfe))\n"
   ]
  },
  {
   "cell_type": "code",
   "execution_count": 793,
   "metadata": {},
   "outputs": [
    {
     "name": "stdout",
     "output_type": "stream",
     "text": [
      "        Precision        Recall\n",
      "Train   0.688679245283    0.22600619195\n",
      "Test    0.625             0.15625\n"
     ]
    }
   ],
   "source": [
    "#Logistic regression pre selekcije atributa---->na celom datasetu\n",
    "\n",
    "print('        Precision'+'     '+'   Recall')\n",
    "print('Train  ',precision_score(y_train,predict_train),'  ',recall_score(y_train,predict_train))\n",
    "print('Test   ',precision_score(y_test,predictionsLR),'      ','    ' ,recall_score(y_test,predictionsLR))\n"
   ]
  },
  {
   "cell_type": "code",
   "execution_count": 786,
   "metadata": {},
   "outputs": [
    {
     "name": "stdout",
     "output_type": "stream",
     "text": [
      "           Accuracy           Precision        Recall\n",
      "Train     0.973291710024     0.965909090909   0.789473684211\n",
      "Test      0.888259109312      0.426470588235   0.2265625\n"
     ]
    }
   ],
   "source": [
    "#random forest\n",
    "#print('           Accuracy   '+'        Precision'+'     '+'   Recall')\n",
    "#print('Train  ',' ',accuracy_score(y_train,predictionsRF_train),'   ',precision_score(y_train,predictionsRF_train),' ',recall_score(y_train,predictionsRF_train))\n",
    "#print('Test   ',' ',accuracy_score(y_test,predictionsRF),'    ',precision_score(y_test,predictionsRF),' ',recall_score(y_test,predictionsRF))\n"
   ]
  },
  {
   "cell_type": "code",
   "execution_count": null,
   "metadata": {},
   "outputs": [],
   "source": [
    "#manje sa LR"
   ]
  },
  {
   "cell_type": "code",
   "execution_count": null,
   "metadata": {},
   "outputs": [],
   "source": [
    "#Na kom podskupu dobijate najbolje performanse predikcije? \n",
    "\n",
    "#Kako se razlikuju performanse na kompletnom test setu i na parcijalnim. \n",
    "\n",
    "#Koji atributi imaju najveću prediktivnu moć. \n",
    "#campaign, previous, euribor3m rf i emp.var.rate---ali je tu preucen\n",
    " #Kako se razlikuju performanse modela sa optimizovanim parametrima u odnosu na modele sa default parametrima? \n",
    "#Poboljsao se precision malo,i accuracy kod RF i LR\n",
    "\n",
    "#Da li mislite da bi neka druga kombinacija parametara bila bolja za vaš dataset (i zašto). \n",
    "\n",
    "#Da li su vaši modeli pretrenirani (overfit)?—\n",
    "#random forest jeste"
   ]
  }
 ],
 "metadata": {
  "kernelspec": {
   "display_name": "Python 3",
   "language": "python",
   "name": "python3"
  },
  "language_info": {
   "codemirror_mode": {
    "name": "ipython",
    "version": 3
   },
   "file_extension": ".py",
   "mimetype": "text/x-python",
   "name": "python",
   "nbconvert_exporter": "python",
   "pygments_lexer": "ipython3",
   "version": "3.6.3"
  }
 },
 "nbformat": 4,
 "nbformat_minor": 2
}
